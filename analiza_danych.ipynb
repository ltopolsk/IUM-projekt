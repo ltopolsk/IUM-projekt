{
 "cells": [
  {
   "cell_type": "code",
   "execution_count": 1,
   "id": "e2a11a9b",
   "metadata": {},
   "outputs": [],
   "source": [
    "import pandas as pd\n",
    "import numpy as np\n",
    "import matplotlib.pyplot as plt"
   ]
  },
  {
   "cell_type": "markdown",
   "id": "7c9ae09d",
   "metadata": {},
   "source": [
    "# Wczytanie danych"
   ]
  },
  {
   "cell_type": "code",
   "execution_count": 2,
   "id": "ed93c4fe",
   "metadata": {},
   "outputs": [],
   "source": [
    "users_df = pd.read_json(\"dane/users.jsonl\", lines=True)\n",
    "deliveries_df = pd.read_json(\"dane/deliveries.jsonl\", lines=True)\n",
    "products_df = pd.read_json(\"dane/products.jsonl\", lines=True)\n",
    "sessions_df = pd.read_json(\"dane/sessions.jsonl\", lines=True)"
   ]
  },
  {
   "cell_type": "markdown",
   "id": "a62e4fed",
   "metadata": {},
   "source": [
    "### Funkcja rysująca wykres słupkowy"
   ]
  },
  {
   "cell_type": "code",
   "execution_count": 3,
   "id": "b34c95a4",
   "metadata": {},
   "outputs": [],
   "source": [
    "def plot_bar(series, title=\"\", ylabel=\"\", xlabel=\"\", rotation=0):\n",
    "    idx = series.index.tolist()\n",
    "    for i in range(len(idx)):\n",
    "        idx[i] = str(idx[i])\n",
    "    plt.bar(idx, series.values)\n",
    "    \n",
    "    plt.xticks(rotation=rotation)\n",
    "    plt.ylabel(ylabel)\n",
    "    plt.xlabel(xlabel)\n",
    "    plt.title(title)\n",
    "    plt.show()"
   ]
  },
  {
   "cell_type": "markdown",
   "id": "10d39d40",
   "metadata": {},
   "source": [
    "# Analiza każdej tabeli z osobna"
   ]
  },
  {
   "cell_type": "markdown",
   "id": "76714a33",
   "metadata": {},
   "source": [
    "## Użytkownicy"
   ]
  },
  {
   "cell_type": "code",
   "execution_count": 4,
   "id": "c9b0f2dd",
   "metadata": {},
   "outputs": [
    {
     "name": "stdout",
     "output_type": "stream",
     "text": [
      "<class 'pandas.core.frame.DataFrame'>\n",
      "RangeIndex: 200 entries, 0 to 199\n",
      "Data columns (total 4 columns):\n",
      " #   Column   Non-Null Count  Dtype \n",
      "---  ------   --------------  ----- \n",
      " 0   user_id  200 non-null    int64 \n",
      " 1   name     200 non-null    object\n",
      " 2   city     200 non-null    object\n",
      " 3   street   200 non-null    object\n",
      "dtypes: int64(1), object(3)\n",
      "memory usage: 6.4+ KB\n"
     ]
    }
   ],
   "source": [
    "users_df.info()"
   ]
  },
  {
   "cell_type": "code",
   "execution_count": 5,
   "id": "63cc0768",
   "metadata": {},
   "outputs": [
    {
     "data": {
      "text/html": [
       "<div>\n",
       "<style scoped>\n",
       "    .dataframe tbody tr th:only-of-type {\n",
       "        vertical-align: middle;\n",
       "    }\n",
       "\n",
       "    .dataframe tbody tr th {\n",
       "        vertical-align: top;\n",
       "    }\n",
       "\n",
       "    .dataframe thead th {\n",
       "        text-align: right;\n",
       "    }\n",
       "</style>\n",
       "<table border=\"1\" class=\"dataframe\">\n",
       "  <thead>\n",
       "    <tr style=\"text-align: right;\">\n",
       "      <th></th>\n",
       "      <th>user_id</th>\n",
       "      <th>name</th>\n",
       "      <th>city</th>\n",
       "      <th>street</th>\n",
       "    </tr>\n",
       "  </thead>\n",
       "  <tbody>\n",
       "    <tr>\n",
       "      <th>0</th>\n",
       "      <td>102</td>\n",
       "      <td>Nela Pawlos</td>\n",
       "      <td>Szczecin</td>\n",
       "      <td>plac Traugutta 217</td>\n",
       "    </tr>\n",
       "    <tr>\n",
       "      <th>1</th>\n",
       "      <td>103</td>\n",
       "      <td>Inga Chaberek</td>\n",
       "      <td>Kraków</td>\n",
       "      <td>aleja Strumykowa 79</td>\n",
       "    </tr>\n",
       "    <tr>\n",
       "      <th>2</th>\n",
       "      <td>104</td>\n",
       "      <td>Antoni Kargol</td>\n",
       "      <td>Szczecin</td>\n",
       "      <td>ulica Plażowa 54/27</td>\n",
       "    </tr>\n",
       "    <tr>\n",
       "      <th>3</th>\n",
       "      <td>105</td>\n",
       "      <td>Justyna Gendek</td>\n",
       "      <td>Poznań</td>\n",
       "      <td>aleja Kasprowicza 23/54</td>\n",
       "    </tr>\n",
       "    <tr>\n",
       "      <th>4</th>\n",
       "      <td>106</td>\n",
       "      <td>Aleks Kastelik</td>\n",
       "      <td>Radom</td>\n",
       "      <td>pl. Rejtana 41</td>\n",
       "    </tr>\n",
       "    <tr>\n",
       "      <th>...</th>\n",
       "      <td>...</td>\n",
       "      <td>...</td>\n",
       "      <td>...</td>\n",
       "      <td>...</td>\n",
       "    </tr>\n",
       "    <tr>\n",
       "      <th>195</th>\n",
       "      <td>297</td>\n",
       "      <td>Blanka Bryndza</td>\n",
       "      <td>Wrocław</td>\n",
       "      <td>aleja Reymonta 731</td>\n",
       "    </tr>\n",
       "    <tr>\n",
       "      <th>196</th>\n",
       "      <td>298</td>\n",
       "      <td>Mateusz Lejk</td>\n",
       "      <td>Warszawa</td>\n",
       "      <td>aleja Jeziorna 11</td>\n",
       "    </tr>\n",
       "    <tr>\n",
       "      <th>197</th>\n",
       "      <td>299</td>\n",
       "      <td>Stefan Dydo</td>\n",
       "      <td>Poznań</td>\n",
       "      <td>ul. Brzechwy 749</td>\n",
       "    </tr>\n",
       "    <tr>\n",
       "      <th>198</th>\n",
       "      <td>300</td>\n",
       "      <td>Marcin Windak</td>\n",
       "      <td>Szczecin</td>\n",
       "      <td>plac Ceglana 48</td>\n",
       "    </tr>\n",
       "    <tr>\n",
       "      <th>199</th>\n",
       "      <td>301</td>\n",
       "      <td>Mieszko Szczepaniuk</td>\n",
       "      <td>Wrocław</td>\n",
       "      <td>pl. Popiełuszki 13/85</td>\n",
       "    </tr>\n",
       "  </tbody>\n",
       "</table>\n",
       "<p>200 rows × 4 columns</p>\n",
       "</div>"
      ],
      "text/plain": [
       "     user_id                 name      city                   street\n",
       "0        102          Nela Pawlos  Szczecin       plac Traugutta 217\n",
       "1        103        Inga Chaberek    Kraków      aleja Strumykowa 79\n",
       "2        104        Antoni Kargol  Szczecin      ulica Plażowa 54/27\n",
       "3        105       Justyna Gendek    Poznań  aleja Kasprowicza 23/54\n",
       "4        106       Aleks Kastelik     Radom           pl. Rejtana 41\n",
       "..       ...                  ...       ...                      ...\n",
       "195      297       Blanka Bryndza   Wrocław       aleja Reymonta 731\n",
       "196      298         Mateusz Lejk  Warszawa        aleja Jeziorna 11\n",
       "197      299          Stefan Dydo    Poznań         ul. Brzechwy 749\n",
       "198      300        Marcin Windak  Szczecin          plac Ceglana 48\n",
       "199      301  Mieszko Szczepaniuk   Wrocław    pl. Popiełuszki 13/85\n",
       "\n",
       "[200 rows x 4 columns]"
      ]
     },
     "execution_count": 5,
     "metadata": {},
     "output_type": "execute_result"
    }
   ],
   "source": [
    "users_df"
   ]
  },
  {
   "cell_type": "code",
   "execution_count": 6,
   "id": "27c50990",
   "metadata": {},
   "outputs": [
    {
     "data": {
      "text/plain": [
       "Kraków      35\n",
       "Szczecin    31\n",
       "Poznań      31\n",
       "Gdynia      30\n",
       "Radom       30\n",
       "Warszawa    22\n",
       "Wrocław     21\n",
       "Name: city, dtype: int64"
      ]
     },
     "execution_count": 6,
     "metadata": {},
     "output_type": "execute_result"
    }
   ],
   "source": [
    "users_df[\"city\"].value_counts()"
   ]
  },
  {
   "cell_type": "code",
   "execution_count": 7,
   "id": "4764952e",
   "metadata": {},
   "outputs": [
    {
     "data": {
      "image/png": "[encoded data removed]",
      "text/plain": [
       "<Figure size 432x288 with 1 Axes>"
      ]
     },
     "metadata": {
      "needs_background": "light"
     },
     "output_type": "display_data"
    }
   ],
   "source": [
    "cities = users_df[\"city\"].value_counts()\n",
    "plot_bar(series=cities, title=\"Występujące miasta\", ylabel=\"Ilość\", rotation=45)"
   ]
  },
  {
   "cell_type": "markdown",
   "id": "028ea636",
   "metadata": {},
   "source": [
    "W przypadku tabeli \"Users\" nie występują żadne braki danych, jednak w atrybucie \"street\" występują niejednoznaczne zapisy nazw ulic - skrót ul. oraz pełna nazwa \"ulica\". Najczęściej występującym miastem jest Poznań, a najrzadziej - Radom. Użytkownicy są tylko z miast oraz w kilku województwach nie ma użytkowników."
   ]
  },
  {
   "cell_type": "markdown",
   "id": "687dddbd",
   "metadata": {},
   "source": [
    "## Dostawy"
   ]
  },
  {
   "cell_type": "code",
   "execution_count": 8,
   "id": "75be6b0f",
   "metadata": {},
   "outputs": [
    {
     "name": "stdout",
     "output_type": "stream",
     "text": [
      "<class 'pandas.core.frame.DataFrame'>\n",
      "RangeIndex: 7171 entries, 0 to 7170\n",
      "Data columns (total 4 columns):\n",
      " #   Column              Non-Null Count  Dtype  \n",
      "---  ------              --------------  -----  \n",
      " 0   purchase_id         7171 non-null   int64  \n",
      " 1   purchase_timestamp  7171 non-null   object \n",
      " 2   delivery_timestamp  6834 non-null   object \n",
      " 3   delivery_company    6810 non-null   float64\n",
      "dtypes: float64(1), int64(1), object(2)\n",
      "memory usage: 224.2+ KB\n"
     ]
    }
   ],
   "source": [
    "deliveries_df.info()"
   ]
  },
  {
   "cell_type": "code",
   "execution_count": 9,
   "id": "7747e4a7",
   "metadata": {},
   "outputs": [],
   "source": [
    "deliveries_df[\"purchase_timestamp\"] = pd.to_datetime(deliveries_df[\"purchase_timestamp\"], \n",
    "                                                     format='%Y-%m-%dT%H:%M:%S')\n",
    "deliveries_df[\"delivery_timestamp\"] = pd.to_datetime(deliveries_df[\"delivery_timestamp\"], \n",
    "                                                     format='%Y-%m-%dT%H:%M:%S')"
   ]
  },
  {
   "cell_type": "markdown",
   "id": "f532e23c",
   "metadata": {},
   "source": [
    "### Wyznaczenie przedziału atrybutu \"purchase_timestamp\""
   ]
  },
  {
   "cell_type": "code",
   "execution_count": 10,
   "id": "127b7b6c",
   "metadata": {
    "scrolled": true
   },
   "outputs": [
    {
     "data": {
      "text/plain": [
       "Timestamp('2021-01-01 00:36:38')"
      ]
     },
     "execution_count": 10,
     "metadata": {},
     "output_type": "execute_result"
    }
   ],
   "source": [
    "deliveries_df[\"purchase_timestamp\"].min()"
   ]
  },
  {
   "cell_type": "code",
   "execution_count": 11,
   "id": "bb46b4e4",
   "metadata": {},
   "outputs": [
    {
     "data": {
      "text/plain": [
       "Timestamp('2021-10-27 15:20:10')"
      ]
     },
     "execution_count": 11,
     "metadata": {},
     "output_type": "execute_result"
    }
   ],
   "source": [
    "deliveries_df[\"purchase_timestamp\"].max()"
   ]
  },
  {
   "cell_type": "markdown",
   "id": "50403058",
   "metadata": {},
   "source": [
    "### Liczność występujących miesięcy"
   ]
  },
  {
   "cell_type": "code",
   "execution_count": 12,
   "id": "15369a71",
   "metadata": {},
   "outputs": [
    {
     "data": {
      "text/html": [
       "<div>\n",
       "<style scoped>\n",
       "    .dataframe tbody tr th:only-of-type {\n",
       "        vertical-align: middle;\n",
       "    }\n",
       "\n",
       "    .dataframe tbody tr th {\n",
       "        vertical-align: top;\n",
       "    }\n",
       "\n",
       "    .dataframe thead th {\n",
       "        text-align: right;\n",
       "    }\n",
       "</style>\n",
       "<table border=\"1\" class=\"dataframe\">\n",
       "  <thead>\n",
       "    <tr style=\"text-align: right;\">\n",
       "      <th></th>\n",
       "      <th>purchase_id</th>\n",
       "      <th>purchase_timestamp</th>\n",
       "      <th>delivery_timestamp</th>\n",
       "      <th>delivery_company</th>\n",
       "      <th>month</th>\n",
       "    </tr>\n",
       "  </thead>\n",
       "  <tbody>\n",
       "    <tr>\n",
       "      <th>0</th>\n",
       "      <td>20001</td>\n",
       "      <td>2021-09-12 14:40:47</td>\n",
       "      <td>NaT</td>\n",
       "      <td>620.0</td>\n",
       "      <td>9</td>\n",
       "    </tr>\n",
       "    <tr>\n",
       "      <th>1</th>\n",
       "      <td>20002</td>\n",
       "      <td>2021-03-02 16:49:15</td>\n",
       "      <td>2021-03-04 16:53:37</td>\n",
       "      <td>620.0</td>\n",
       "      <td>3</td>\n",
       "    </tr>\n",
       "    <tr>\n",
       "      <th>2</th>\n",
       "      <td>20003</td>\n",
       "      <td>2021-03-31 09:55:45</td>\n",
       "      <td>2021-04-03 09:57:37</td>\n",
       "      <td>360.0</td>\n",
       "      <td>3</td>\n",
       "    </tr>\n",
       "    <tr>\n",
       "      <th>3</th>\n",
       "      <td>20004</td>\n",
       "      <td>2021-03-21 18:03:57</td>\n",
       "      <td>2021-03-25 18:04:38</td>\n",
       "      <td>516.0</td>\n",
       "      <td>3</td>\n",
       "    </tr>\n",
       "    <tr>\n",
       "      <th>4</th>\n",
       "      <td>20005</td>\n",
       "      <td>2021-01-14 18:48:41</td>\n",
       "      <td>2021-01-19 18:52:53</td>\n",
       "      <td>516.0</td>\n",
       "      <td>1</td>\n",
       "    </tr>\n",
       "    <tr>\n",
       "      <th>...</th>\n",
       "      <td>...</td>\n",
       "      <td>...</td>\n",
       "      <td>...</td>\n",
       "      <td>...</td>\n",
       "      <td>...</td>\n",
       "    </tr>\n",
       "    <tr>\n",
       "      <th>7166</th>\n",
       "      <td>27167</td>\n",
       "      <td>2021-09-08 13:39:46</td>\n",
       "      <td>2021-09-13 13:39:59</td>\n",
       "      <td>360.0</td>\n",
       "      <td>9</td>\n",
       "    </tr>\n",
       "    <tr>\n",
       "      <th>7167</th>\n",
       "      <td>27168</td>\n",
       "      <td>2021-02-05 12:13:27</td>\n",
       "      <td>2021-02-07 12:14:48</td>\n",
       "      <td>360.0</td>\n",
       "      <td>2</td>\n",
       "    </tr>\n",
       "    <tr>\n",
       "      <th>7168</th>\n",
       "      <td>27169</td>\n",
       "      <td>2021-10-10 11:04:13</td>\n",
       "      <td>2021-10-13 11:05:03</td>\n",
       "      <td>516.0</td>\n",
       "      <td>10</td>\n",
       "    </tr>\n",
       "    <tr>\n",
       "      <th>7169</th>\n",
       "      <td>27170</td>\n",
       "      <td>2021-07-27 09:49:23</td>\n",
       "      <td>2021-08-01 09:52:10</td>\n",
       "      <td>620.0</td>\n",
       "      <td>7</td>\n",
       "    </tr>\n",
       "    <tr>\n",
       "      <th>7170</th>\n",
       "      <td>27171</td>\n",
       "      <td>2021-08-04 15:05:12</td>\n",
       "      <td>2021-08-08 15:08:42</td>\n",
       "      <td>620.0</td>\n",
       "      <td>8</td>\n",
       "    </tr>\n",
       "  </tbody>\n",
       "</table>\n",
       "<p>7171 rows × 5 columns</p>\n",
       "</div>"
      ],
      "text/plain": [
       "      purchase_id  purchase_timestamp  delivery_timestamp  delivery_company  \\\n",
       "0           20001 2021-09-12 14:40:47                 NaT             620.0   \n",
       "1           20002 2021-03-02 16:49:15 2021-03-04 16:53:37             620.0   \n",
       "2           20003 2021-03-31 09:55:45 2021-04-03 09:57:37             360.0   \n",
       "3           20004 2021-03-21 18:03:57 2021-03-25 18:04:38             516.0   \n",
       "4           20005 2021-01-14 18:48:41 2021-01-19 18:52:53             516.0   \n",
       "...           ...                 ...                 ...               ...   \n",
       "7166        27167 2021-09-08 13:39:46 2021-09-13 13:39:59             360.0   \n",
       "7167        27168 2021-02-05 12:13:27 2021-02-07 12:14:48             360.0   \n",
       "7168        27169 2021-10-10 11:04:13 2021-10-13 11:05:03             516.0   \n",
       "7169        27170 2021-07-27 09:49:23 2021-08-01 09:52:10             620.0   \n",
       "7170        27171 2021-08-04 15:05:12 2021-08-08 15:08:42             620.0   \n",
       "\n",
       "     month  \n",
       "0        9  \n",
       "1        3  \n",
       "2        3  \n",
       "3        3  \n",
       "4        1  \n",
       "...    ...  \n",
       "7166     9  \n",
       "7167     2  \n",
       "7168    10  \n",
       "7169     7  \n",
       "7170     8  \n",
       "\n",
       "[7171 rows x 5 columns]"
      ]
     },
     "execution_count": 12,
     "metadata": {},
     "output_type": "execute_result"
    }
   ],
   "source": [
    "deliveries_temp_df = deliveries_df.copy()\n",
    "deliveries_temp_df[\"month\"] = deliveries_temp_df[\"purchase_timestamp\"].apply(lambda x:\"%d\" % (x.month))\n",
    "deliveries_temp_df"
   ]
  },
  {
   "cell_type": "code",
   "execution_count": 13,
   "id": "dc715017",
   "metadata": {},
   "outputs": [
    {
     "data": {
      "text/plain": [
       "5     757\n",
       "6     750\n",
       "3     748\n",
       "1     748\n",
       "8     726\n",
       "9     719\n",
       "4     717\n",
       "7     684\n",
       "10    665\n",
       "2     657\n",
       "Name: month, dtype: int64"
      ]
     },
     "execution_count": 13,
     "metadata": {},
     "output_type": "execute_result"
    }
   ],
   "source": [
    "deliveries_temp_df[\"month\"].value_counts()"
   ]
  },
  {
   "cell_type": "code",
   "execution_count": 14,
   "id": "0fc8fee1",
   "metadata": {},
   "outputs": [
    {
     "data": {
      "image/png": "[encoded data removed]",
      "text/plain": [
       "<Figure size 432x288 with 1 Axes>"
      ]
     },
     "metadata": {
      "needs_background": "light"
     },
     "output_type": "display_data"
    }
   ],
   "source": [
    "months = deliveries_temp_df[\"month\"].value_counts()\n",
    "plot_bar(series=months, title=\"Występujące miesiące\", ylabel=\"Ilość wystąpień\", xlabel=\"Numer miesiąca\")"
   ]
  },
  {
   "cell_type": "markdown",
   "id": "a58b239b",
   "metadata": {},
   "source": [
    "### Dodanie kolumny z czasem dostawy"
   ]
  },
  {
   "cell_type": "code",
   "execution_count": 15,
   "id": "471cfe15",
   "metadata": {},
   "outputs": [
    {
     "data": {
      "text/html": [
       "<div>\n",
       "<style scoped>\n",
       "    .dataframe tbody tr th:only-of-type {\n",
       "        vertical-align: middle;\n",
       "    }\n",
       "\n",
       "    .dataframe tbody tr th {\n",
       "        vertical-align: top;\n",
       "    }\n",
       "\n",
       "    .dataframe thead th {\n",
       "        text-align: right;\n",
       "    }\n",
       "</style>\n",
       "<table border=\"1\" class=\"dataframe\">\n",
       "  <thead>\n",
       "    <tr style=\"text-align: right;\">\n",
       "      <th></th>\n",
       "      <th>purchase_id</th>\n",
       "      <th>purchase_timestamp</th>\n",
       "      <th>delivery_timestamp</th>\n",
       "      <th>delivery_company</th>\n",
       "      <th>deliver_time</th>\n",
       "    </tr>\n",
       "  </thead>\n",
       "  <tbody>\n",
       "    <tr>\n",
       "      <th>0</th>\n",
       "      <td>20001</td>\n",
       "      <td>2021-09-12 14:40:47</td>\n",
       "      <td>NaT</td>\n",
       "      <td>620.0</td>\n",
       "      <td>NaN</td>\n",
       "    </tr>\n",
       "    <tr>\n",
       "      <th>1</th>\n",
       "      <td>20002</td>\n",
       "      <td>2021-03-02 16:49:15</td>\n",
       "      <td>2021-03-04 16:53:37</td>\n",
       "      <td>620.0</td>\n",
       "      <td>2.003032</td>\n",
       "    </tr>\n",
       "    <tr>\n",
       "      <th>2</th>\n",
       "      <td>20003</td>\n",
       "      <td>2021-03-31 09:55:45</td>\n",
       "      <td>2021-04-03 09:57:37</td>\n",
       "      <td>360.0</td>\n",
       "      <td>3.001296</td>\n",
       "    </tr>\n",
       "    <tr>\n",
       "      <th>3</th>\n",
       "      <td>20004</td>\n",
       "      <td>2021-03-21 18:03:57</td>\n",
       "      <td>2021-03-25 18:04:38</td>\n",
       "      <td>516.0</td>\n",
       "      <td>4.000475</td>\n",
       "    </tr>\n",
       "    <tr>\n",
       "      <th>4</th>\n",
       "      <td>20005</td>\n",
       "      <td>2021-01-14 18:48:41</td>\n",
       "      <td>2021-01-19 18:52:53</td>\n",
       "      <td>516.0</td>\n",
       "      <td>5.002917</td>\n",
       "    </tr>\n",
       "    <tr>\n",
       "      <th>...</th>\n",
       "      <td>...</td>\n",
       "      <td>...</td>\n",
       "      <td>...</td>\n",
       "      <td>...</td>\n",
       "      <td>...</td>\n",
       "    </tr>\n",
       "    <tr>\n",
       "      <th>7166</th>\n",
       "      <td>27167</td>\n",
       "      <td>2021-09-08 13:39:46</td>\n",
       "      <td>2021-09-13 13:39:59</td>\n",
       "      <td>360.0</td>\n",
       "      <td>5.000150</td>\n",
       "    </tr>\n",
       "    <tr>\n",
       "      <th>7167</th>\n",
       "      <td>27168</td>\n",
       "      <td>2021-02-05 12:13:27</td>\n",
       "      <td>2021-02-07 12:14:48</td>\n",
       "      <td>360.0</td>\n",
       "      <td>2.000938</td>\n",
       "    </tr>\n",
       "    <tr>\n",
       "      <th>7168</th>\n",
       "      <td>27169</td>\n",
       "      <td>2021-10-10 11:04:13</td>\n",
       "      <td>2021-10-13 11:05:03</td>\n",
       "      <td>516.0</td>\n",
       "      <td>3.000579</td>\n",
       "    </tr>\n",
       "    <tr>\n",
       "      <th>7169</th>\n",
       "      <td>27170</td>\n",
       "      <td>2021-07-27 09:49:23</td>\n",
       "      <td>2021-08-01 09:52:10</td>\n",
       "      <td>620.0</td>\n",
       "      <td>5.001933</td>\n",
       "    </tr>\n",
       "    <tr>\n",
       "      <th>7170</th>\n",
       "      <td>27171</td>\n",
       "      <td>2021-08-04 15:05:12</td>\n",
       "      <td>2021-08-08 15:08:42</td>\n",
       "      <td>620.0</td>\n",
       "      <td>4.002431</td>\n",
       "    </tr>\n",
       "  </tbody>\n",
       "</table>\n",
       "<p>7171 rows × 5 columns</p>\n",
       "</div>"
      ],
      "text/plain": [
       "      purchase_id  purchase_timestamp  delivery_timestamp  delivery_company  \\\n",
       "0           20001 2021-09-12 14:40:47                 NaT             620.0   \n",
       "1           20002 2021-03-02 16:49:15 2021-03-04 16:53:37             620.0   \n",
       "2           20003 2021-03-31 09:55:45 2021-04-03 09:57:37             360.0   \n",
       "3           20004 2021-03-21 18:03:57 2021-03-25 18:04:38             516.0   \n",
       "4           20005 2021-01-14 18:48:41 2021-01-19 18:52:53             516.0   \n",
       "...           ...                 ...                 ...               ...   \n",
       "7166        27167 2021-09-08 13:39:46 2021-09-13 13:39:59             360.0   \n",
       "7167        27168 2021-02-05 12:13:27 2021-02-07 12:14:48             360.0   \n",
       "7168        27169 2021-10-10 11:04:13 2021-10-13 11:05:03             516.0   \n",
       "7169        27170 2021-07-27 09:49:23 2021-08-01 09:52:10             620.0   \n",
       "7170        27171 2021-08-04 15:05:12 2021-08-08 15:08:42             620.0   \n",
       "\n",
       "      deliver_time  \n",
       "0              NaN  \n",
       "1         2.003032  \n",
       "2         3.001296  \n",
       "3         4.000475  \n",
       "4         5.002917  \n",
       "...            ...  \n",
       "7166      5.000150  \n",
       "7167      2.000938  \n",
       "7168      3.000579  \n",
       "7169      5.001933  \n",
       "7170      4.002431  \n",
       "\n",
       "[7171 rows x 5 columns]"
      ]
     },
     "execution_count": 15,
     "metadata": {},
     "output_type": "execute_result"
    }
   ],
   "source": [
    "deliveries_df[\"deliver_time\"] = (deliveries_df[\"delivery_timestamp\"] - deliveries_df[\"purchase_timestamp\"])\n",
    "deliveries_df[\"deliver_time\"] = deliveries_df[\"deliver_time\"] / np.timedelta64(1, 'D')\n",
    "deliveries_df"
   ]
  },
  {
   "cell_type": "markdown",
   "id": "43daec07",
   "metadata": {},
   "source": [
    "### Wyznaczenie histogramu atrybutu \"deliver_time\""
   ]
  },
  {
   "cell_type": "code",
   "execution_count": 16,
   "id": "72e8cfba",
   "metadata": {},
   "outputs": [
    {
     "data": {
      "text/plain": [
       "2.0000578703703704"
      ]
     },
     "execution_count": 16,
     "metadata": {},
     "output_type": "execute_result"
    }
   ],
   "source": [
    "deliveries_df[\"deliver_time\"].min()"
   ]
  },
  {
   "cell_type": "code",
   "execution_count": 17,
   "id": "0edd67ac",
   "metadata": {},
   "outputs": [
    {
     "data": {
      "text/plain": [
       "5.003472222222222"
      ]
     },
     "execution_count": 17,
     "metadata": {},
     "output_type": "execute_result"
    }
   ],
   "source": [
    "deliveries_df[\"deliver_time\"].max()"
   ]
  },
  {
   "cell_type": "code",
   "execution_count": 18,
   "id": "5335a5c5",
   "metadata": {},
   "outputs": [
    {
     "data": {
      "image/png": "[encoded data removed]",
      "text/plain": [
       "<Figure size 432x288 with 1 Axes>"
      ]
     },
     "metadata": {
      "needs_background": "light"
     },
     "output_type": "display_data"
    }
   ],
   "source": [
    "bins = np.arange(1,8)\n",
    "plt.hist(deliveries_df[\"deliver_time\"], bins=bins, edgecolor='black')\n",
    "plt.show()"
   ]
  },
  {
   "cell_type": "markdown",
   "id": "c0ee7c04",
   "metadata": {},
   "source": [
    "### Analiza atrybutu \"deliver_company\""
   ]
  },
  {
   "cell_type": "code",
   "execution_count": 19,
   "id": "3842ddbe",
   "metadata": {},
   "outputs": [
    {
     "data": {
      "text/plain": [
       "516.0    2283\n",
       "360.0    2268\n",
       "620.0    2259\n",
       "Name: delivery_company, dtype: int64"
      ]
     },
     "execution_count": 19,
     "metadata": {},
     "output_type": "execute_result"
    }
   ],
   "source": [
    "deliveries_df[\"delivery_company\"].value_counts()"
   ]
  },
  {
   "cell_type": "code",
   "execution_count": 20,
   "id": "0c687c38",
   "metadata": {},
   "outputs": [
    {
     "data": {
      "image/png": "[encoded data removed]",
      "text/plain": [
       "<Figure size 432x288 with 1 Axes>"
      ]
     },
     "metadata": {
      "needs_background": "light"
     },
     "output_type": "display_data"
    }
   ],
   "source": [
    "companies = deliveries_df[\"delivery_company\"].value_counts()\n",
    "plot_bar(series=companies, title=\"Występujące frimy\", ylabel=\"Ilość wystąpień\", xlabel=\"Id firmy\")"
   ]
  },
  {
   "cell_type": "code",
   "execution_count": 21,
   "id": "d207b855",
   "metadata": {},
   "outputs": [
    {
     "data": {
      "text/plain": [
       "False    6810\n",
       "True      361\n",
       "Name: delivery_company, dtype: int64"
      ]
     },
     "execution_count": 21,
     "metadata": {},
     "output_type": "execute_result"
    }
   ],
   "source": [
    "deliveries_df.delivery_company.isnull().value_counts()"
   ]
  },
  {
   "cell_type": "code",
   "execution_count": 22,
   "id": "844e6291",
   "metadata": {},
   "outputs": [
    {
     "data": {
      "text/html": [
       "<div>\n",
       "<style scoped>\n",
       "    .dataframe tbody tr th:only-of-type {\n",
       "        vertical-align: middle;\n",
       "    }\n",
       "\n",
       "    .dataframe tbody tr th {\n",
       "        vertical-align: top;\n",
       "    }\n",
       "\n",
       "    .dataframe thead th {\n",
       "        text-align: right;\n",
       "    }\n",
       "</style>\n",
       "<table border=\"1\" class=\"dataframe\">\n",
       "  <thead>\n",
       "    <tr style=\"text-align: right;\">\n",
       "      <th></th>\n",
       "      <th>purchase_id</th>\n",
       "      <th>purchase_timestamp</th>\n",
       "      <th>delivery_timestamp</th>\n",
       "      <th>delivery_company</th>\n",
       "      <th>deliver_time</th>\n",
       "    </tr>\n",
       "  </thead>\n",
       "  <tbody>\n",
       "    <tr>\n",
       "      <th>8</th>\n",
       "      <td>20009</td>\n",
       "      <td>2021-03-17 06:37:28</td>\n",
       "      <td>2021-03-22 06:38:00</td>\n",
       "      <td>NaN</td>\n",
       "      <td>5.000370</td>\n",
       "    </tr>\n",
       "    <tr>\n",
       "      <th>17</th>\n",
       "      <td>20018</td>\n",
       "      <td>2021-01-08 18:31:25</td>\n",
       "      <td>2021-01-13 18:32:32</td>\n",
       "      <td>NaN</td>\n",
       "      <td>5.000775</td>\n",
       "    </tr>\n",
       "    <tr>\n",
       "      <th>20</th>\n",
       "      <td>20021</td>\n",
       "      <td>2021-05-30 01:51:59</td>\n",
       "      <td>2021-06-02 01:55:49</td>\n",
       "      <td>NaN</td>\n",
       "      <td>3.002662</td>\n",
       "    </tr>\n",
       "    <tr>\n",
       "      <th>23</th>\n",
       "      <td>20024</td>\n",
       "      <td>2021-03-06 06:25:49</td>\n",
       "      <td>2021-03-09 06:29:02</td>\n",
       "      <td>NaN</td>\n",
       "      <td>3.002234</td>\n",
       "    </tr>\n",
       "    <tr>\n",
       "      <th>44</th>\n",
       "      <td>20045</td>\n",
       "      <td>2021-03-21 12:59:41</td>\n",
       "      <td>2021-03-24 13:03:42</td>\n",
       "      <td>NaN</td>\n",
       "      <td>3.002789</td>\n",
       "    </tr>\n",
       "    <tr>\n",
       "      <th>...</th>\n",
       "      <td>...</td>\n",
       "      <td>...</td>\n",
       "      <td>...</td>\n",
       "      <td>...</td>\n",
       "      <td>...</td>\n",
       "    </tr>\n",
       "    <tr>\n",
       "      <th>7042</th>\n",
       "      <td>27043</td>\n",
       "      <td>2021-07-07 03:57:38</td>\n",
       "      <td>2021-07-12 04:01:16</td>\n",
       "      <td>NaN</td>\n",
       "      <td>5.002523</td>\n",
       "    </tr>\n",
       "    <tr>\n",
       "      <th>7055</th>\n",
       "      <td>27056</td>\n",
       "      <td>2021-05-29 16:25:14</td>\n",
       "      <td>2021-06-01 16:25:53</td>\n",
       "      <td>NaN</td>\n",
       "      <td>3.000451</td>\n",
       "    </tr>\n",
       "    <tr>\n",
       "      <th>7065</th>\n",
       "      <td>27066</td>\n",
       "      <td>2021-10-25 23:02:12</td>\n",
       "      <td>2021-10-27 23:06:02</td>\n",
       "      <td>NaN</td>\n",
       "      <td>2.002662</td>\n",
       "    </tr>\n",
       "    <tr>\n",
       "      <th>7104</th>\n",
       "      <td>27105</td>\n",
       "      <td>2021-10-05 22:49:15</td>\n",
       "      <td>NaT</td>\n",
       "      <td>NaN</td>\n",
       "      <td>NaN</td>\n",
       "    </tr>\n",
       "    <tr>\n",
       "      <th>7149</th>\n",
       "      <td>27150</td>\n",
       "      <td>2021-03-10 10:21:12</td>\n",
       "      <td>2021-03-14 10:21:40</td>\n",
       "      <td>NaN</td>\n",
       "      <td>4.000324</td>\n",
       "    </tr>\n",
       "  </tbody>\n",
       "</table>\n",
       "<p>361 rows × 5 columns</p>\n",
       "</div>"
      ],
      "text/plain": [
       "      purchase_id  purchase_timestamp  delivery_timestamp  delivery_company  \\\n",
       "8           20009 2021-03-17 06:37:28 2021-03-22 06:38:00               NaN   \n",
       "17          20018 2021-01-08 18:31:25 2021-01-13 18:32:32               NaN   \n",
       "20          20021 2021-05-30 01:51:59 2021-06-02 01:55:49               NaN   \n",
       "23          20024 2021-03-06 06:25:49 2021-03-09 06:29:02               NaN   \n",
       "44          20045 2021-03-21 12:59:41 2021-03-24 13:03:42               NaN   \n",
       "...           ...                 ...                 ...               ...   \n",
       "7042        27043 2021-07-07 03:57:38 2021-07-12 04:01:16               NaN   \n",
       "7055        27056 2021-05-29 16:25:14 2021-06-01 16:25:53               NaN   \n",
       "7065        27066 2021-10-25 23:02:12 2021-10-27 23:06:02               NaN   \n",
       "7104        27105 2021-10-05 22:49:15                 NaT               NaN   \n",
       "7149        27150 2021-03-10 10:21:12 2021-03-14 10:21:40               NaN   \n",
       "\n",
       "      deliver_time  \n",
       "8         5.000370  \n",
       "17        5.000775  \n",
       "20        3.002662  \n",
       "23        3.002234  \n",
       "44        3.002789  \n",
       "...            ...  \n",
       "7042      5.002523  \n",
       "7055      3.000451  \n",
       "7065      2.002662  \n",
       "7104           NaN  \n",
       "7149      4.000324  \n",
       "\n",
       "[361 rows x 5 columns]"
      ]
     },
     "execution_count": 22,
     "metadata": {},
     "output_type": "execute_result"
    }
   ],
   "source": [
    "deliveries_df[deliveries_df.delivery_company.isnull()]"
   ]
  },
  {
   "cell_type": "code",
   "execution_count": 23,
   "id": "2d646fb8",
   "metadata": {},
   "outputs": [
    {
     "data": {
      "image/png": "[encoded data removed]",
      "text/plain": [
       "<Figure size 432x288 with 1 Axes>"
      ]
     },
     "metadata": {
      "needs_background": "light"
     },
     "output_type": "display_data"
    }
   ],
   "source": [
    "bins = np.arange(1,8)\n",
    "plt.hist(deliveries_df[deliveries_df.delivery_company.isnull()].deliver_time, bins=bins, edgecolor='black')\n",
    "plt.show()"
   ]
  },
  {
   "cell_type": "markdown",
   "id": "2212ac22",
   "metadata": {},
   "source": [
    "### Analiza atrybutu \"delivery_timestamp\""
   ]
  },
  {
   "cell_type": "code",
   "execution_count": 24,
   "id": "68f21cc1",
   "metadata": {},
   "outputs": [
    {
     "data": {
      "text/plain": [
       "False    6834\n",
       "True      337\n",
       "Name: delivery_timestamp, dtype: int64"
      ]
     },
     "execution_count": 24,
     "metadata": {},
     "output_type": "execute_result"
    }
   ],
   "source": [
    "deliveries_df.delivery_timestamp.isnull().value_counts()"
   ]
  },
  {
   "cell_type": "code",
   "execution_count": 25,
   "id": "b5c54f84-7e18-4684-8dff-d9a82002c45c",
   "metadata": {},
   "outputs": [
    {
     "data": {
      "text/html": [
       "<div>\n",
       "<style scoped>\n",
       "    .dataframe tbody tr th:only-of-type {\n",
       "        vertical-align: middle;\n",
       "    }\n",
       "\n",
       "    .dataframe tbody tr th {\n",
       "        vertical-align: top;\n",
       "    }\n",
       "\n",
       "    .dataframe thead th {\n",
       "        text-align: right;\n",
       "    }\n",
       "</style>\n",
       "<table border=\"1\" class=\"dataframe\">\n",
       "  <thead>\n",
       "    <tr style=\"text-align: right;\">\n",
       "      <th></th>\n",
       "      <th>purchase_id</th>\n",
       "      <th>purchase_timestamp</th>\n",
       "      <th>delivery_timestamp</th>\n",
       "      <th>delivery_company</th>\n",
       "      <th>deliver_time</th>\n",
       "    </tr>\n",
       "  </thead>\n",
       "  <tbody>\n",
       "    <tr>\n",
       "      <th>0</th>\n",
       "      <td>20001</td>\n",
       "      <td>2021-09-12 14:40:47</td>\n",
       "      <td>NaT</td>\n",
       "      <td>620.0</td>\n",
       "      <td>NaN</td>\n",
       "    </tr>\n",
       "    <tr>\n",
       "      <th>21</th>\n",
       "      <td>20022</td>\n",
       "      <td>2021-03-30 18:45:15</td>\n",
       "      <td>NaT</td>\n",
       "      <td>516.0</td>\n",
       "      <td>NaN</td>\n",
       "    </tr>\n",
       "    <tr>\n",
       "      <th>54</th>\n",
       "      <td>20055</td>\n",
       "      <td>2021-06-08 16:47:25</td>\n",
       "      <td>NaT</td>\n",
       "      <td>360.0</td>\n",
       "      <td>NaN</td>\n",
       "    </tr>\n",
       "    <tr>\n",
       "      <th>65</th>\n",
       "      <td>20066</td>\n",
       "      <td>2021-01-04 10:43:12</td>\n",
       "      <td>NaT</td>\n",
       "      <td>360.0</td>\n",
       "      <td>NaN</td>\n",
       "    </tr>\n",
       "    <tr>\n",
       "      <th>85</th>\n",
       "      <td>20086</td>\n",
       "      <td>2021-04-09 21:24:06</td>\n",
       "      <td>NaT</td>\n",
       "      <td>620.0</td>\n",
       "      <td>NaN</td>\n",
       "    </tr>\n",
       "    <tr>\n",
       "      <th>...</th>\n",
       "      <td>...</td>\n",
       "      <td>...</td>\n",
       "      <td>...</td>\n",
       "      <td>...</td>\n",
       "      <td>...</td>\n",
       "    </tr>\n",
       "    <tr>\n",
       "      <th>7104</th>\n",
       "      <td>27105</td>\n",
       "      <td>2021-10-05 22:49:15</td>\n",
       "      <td>NaT</td>\n",
       "      <td>NaN</td>\n",
       "      <td>NaN</td>\n",
       "    </tr>\n",
       "    <tr>\n",
       "      <th>7120</th>\n",
       "      <td>27121</td>\n",
       "      <td>2021-09-02 10:37:06</td>\n",
       "      <td>NaT</td>\n",
       "      <td>360.0</td>\n",
       "      <td>NaN</td>\n",
       "    </tr>\n",
       "    <tr>\n",
       "      <th>7124</th>\n",
       "      <td>27125</td>\n",
       "      <td>2021-02-11 07:47:14</td>\n",
       "      <td>NaT</td>\n",
       "      <td>360.0</td>\n",
       "      <td>NaN</td>\n",
       "    </tr>\n",
       "    <tr>\n",
       "      <th>7157</th>\n",
       "      <td>27158</td>\n",
       "      <td>2021-06-08 16:14:32</td>\n",
       "      <td>NaT</td>\n",
       "      <td>360.0</td>\n",
       "      <td>NaN</td>\n",
       "    </tr>\n",
       "    <tr>\n",
       "      <th>7163</th>\n",
       "      <td>27164</td>\n",
       "      <td>2021-09-14 17:45:48</td>\n",
       "      <td>NaT</td>\n",
       "      <td>360.0</td>\n",
       "      <td>NaN</td>\n",
       "    </tr>\n",
       "  </tbody>\n",
       "</table>\n",
       "<p>337 rows × 5 columns</p>\n",
       "</div>"
      ],
      "text/plain": [
       "      purchase_id  purchase_timestamp delivery_timestamp  delivery_company  \\\n",
       "0           20001 2021-09-12 14:40:47                NaT             620.0   \n",
       "21          20022 2021-03-30 18:45:15                NaT             516.0   \n",
       "54          20055 2021-06-08 16:47:25                NaT             360.0   \n",
       "65          20066 2021-01-04 10:43:12                NaT             360.0   \n",
       "85          20086 2021-04-09 21:24:06                NaT             620.0   \n",
       "...           ...                 ...                ...               ...   \n",
       "7104        27105 2021-10-05 22:49:15                NaT               NaN   \n",
       "7120        27121 2021-09-02 10:37:06                NaT             360.0   \n",
       "7124        27125 2021-02-11 07:47:14                NaT             360.0   \n",
       "7157        27158 2021-06-08 16:14:32                NaT             360.0   \n",
       "7163        27164 2021-09-14 17:45:48                NaT             360.0   \n",
       "\n",
       "      deliver_time  \n",
       "0              NaN  \n",
       "21             NaN  \n",
       "54             NaN  \n",
       "65             NaN  \n",
       "85             NaN  \n",
       "...            ...  \n",
       "7104           NaN  \n",
       "7120           NaN  \n",
       "7124           NaN  \n",
       "7157           NaN  \n",
       "7163           NaN  \n",
       "\n",
       "[337 rows x 5 columns]"
      ]
     },
     "execution_count": 25,
     "metadata": {},
     "output_type": "execute_result"
    }
   ],
   "source": [
    "deliveries_df[deliveries_df.delivery_timestamp.isnull()]"
   ]
  },
  {
   "cell_type": "markdown",
   "id": "86655296-4271-426f-9e06-dbdcaa096325",
   "metadata": {},
   "source": [
    "### Ilość wierszy z brakującą zarówno datą dostawy, jak i firmą dostarczającą"
   ]
  },
  {
   "cell_type": "code",
   "execution_count": 26,
   "id": "110c2858-8558-4cdc-b292-a729f0bdb808",
   "metadata": {},
   "outputs": [
    {
     "data": {
      "text/plain": [
       "18"
      ]
     },
     "execution_count": 26,
     "metadata": {},
     "output_type": "execute_result"
    }
   ],
   "source": [
    "filt1 = deliveries_df.delivery_timestamp.isnull()\n",
    "filt2 = deliveries_df.delivery_company.isnull()\n",
    "both_nan = np.where(filt1, (np.where(filt2, 1, 0)), 0).sum()\n",
    "both_nan"
   ]
  },
  {
   "cell_type": "markdown",
   "id": "2bde69b5-242d-4c6d-a4f9-a3b9a5ff36a2",
   "metadata": {},
   "source": [
    "W celu ułatwienia analizy została dodana kolumna \"czas dostawy\", która jest różnicą między datą dostarczenia i datą złożenia zamówienia, jednostką jest dzień. Najkrótszy czas dostawy wynosi 2 dni, a najdłuższy - 5 dni. Z histogramu wartości tego atrybutu wynika, że ten atrybut ma rozkład, który najbardziej przypomina rozkład jednostajny. Poza tym najwcześniej zamówienie złożono w styczniu, a najpóźniej - w październiku. Stąd wynika, że nie ma danych dotyczących pozostałych miesięcy (czyli listopada i grudnia).\n"
   ]
  },
  {
   "cell_type": "markdown",
   "id": "39db632e",
   "metadata": {},
   "source": [
    "W tabeli z dostawami występuje wiele braków danych. 361 wierszy nie ma firmy dostarczającej, a w 337 wierszach brakuje daty dostarczenia produktu. 18 wierszy nie ma obu tych informacji.\n",
    "Został też wyznaczony histogram wartości atrybutu \"czas dostawy\" dla wierszy z brakującą informacją o firmie dostarczającej. Przypomina on również rozkład jednostajny, ale wartości w okolicach 5 dni wyraźnie przeważają."
   ]
  },
  {
   "cell_type": "markdown",
   "id": "bff08f66-8dae-448b-aa93-f1f87c8ed357",
   "metadata": {},
   "source": [
    "## Produkty"
   ]
  },
  {
   "cell_type": "code",
   "execution_count": 27,
   "id": "7d6c051c",
   "metadata": {},
   "outputs": [
    {
     "name": "stdout",
     "output_type": "stream",
     "text": [
      "<class 'pandas.core.frame.DataFrame'>\n",
      "RangeIndex: 319 entries, 0 to 318\n",
      "Data columns (total 4 columns):\n",
      " #   Column         Non-Null Count  Dtype  \n",
      "---  ------         --------------  -----  \n",
      " 0   product_id     319 non-null    int64  \n",
      " 1   product_name   319 non-null    object \n",
      " 2   category_path  319 non-null    object \n",
      " 3   price          319 non-null    float64\n",
      "dtypes: float64(1), int64(1), object(2)\n",
      "memory usage: 10.1+ KB\n"
     ]
    }
   ],
   "source": [
    "products_df.info()"
   ]
  },
  {
   "cell_type": "code",
   "execution_count": 28,
   "id": "cc5d57d6-57d3-4ebf-9ad3-09bf4ed381c6",
   "metadata": {},
   "outputs": [
    {
     "data": {
      "text/html": [
       "<div>\n",
       "<style scoped>\n",
       "    .dataframe tbody tr th:only-of-type {\n",
       "        vertical-align: middle;\n",
       "    }\n",
       "\n",
       "    .dataframe tbody tr th {\n",
       "        vertical-align: top;\n",
       "    }\n",
       "\n",
       "    .dataframe thead th {\n",
       "        text-align: right;\n",
       "    }\n",
       "</style>\n",
       "<table border=\"1\" class=\"dataframe\">\n",
       "  <thead>\n",
       "    <tr style=\"text-align: right;\">\n",
       "      <th></th>\n",
       "      <th>product_id</th>\n",
       "      <th>product_name</th>\n",
       "      <th>category_path</th>\n",
       "      <th>price</th>\n",
       "    </tr>\n",
       "  </thead>\n",
       "  <tbody>\n",
       "    <tr>\n",
       "      <th>0</th>\n",
       "      <td>1001</td>\n",
       "      <td>Telefon Siemens Gigaset DA310</td>\n",
       "      <td>Telefony i akcesoria;Telefony stacjonarne</td>\n",
       "      <td>58.97</td>\n",
       "    </tr>\n",
       "    <tr>\n",
       "      <th>1</th>\n",
       "      <td>1002</td>\n",
       "      <td>Kyocera FS-1135MFP</td>\n",
       "      <td>Komputery;Drukarki i skanery;Biurowe urządzeni...</td>\n",
       "      <td>2048.50</td>\n",
       "    </tr>\n",
       "    <tr>\n",
       "      <th>2</th>\n",
       "      <td>1003</td>\n",
       "      <td>Kyocera FS-3640MFP</td>\n",
       "      <td>Komputery;Drukarki i skanery;Biurowe urządzeni...</td>\n",
       "      <td>7639.00</td>\n",
       "    </tr>\n",
       "    <tr>\n",
       "      <th>3</th>\n",
       "      <td>1004</td>\n",
       "      <td>Fallout 3 (Xbox 360)</td>\n",
       "      <td>Gry i konsole;Gry na konsole;Gry Xbox 360</td>\n",
       "      <td>49.99</td>\n",
       "    </tr>\n",
       "    <tr>\n",
       "      <th>4</th>\n",
       "      <td>1005</td>\n",
       "      <td>Szalone Króliki Na żywo i w kolorze (Xbox 360)</td>\n",
       "      <td>Gry i konsole;Gry na konsole;Gry Xbox 360</td>\n",
       "      <td>49.99</td>\n",
       "    </tr>\n",
       "    <tr>\n",
       "      <th>...</th>\n",
       "      <td>...</td>\n",
       "      <td>...</td>\n",
       "      <td>...</td>\n",
       "      <td>...</td>\n",
       "    </tr>\n",
       "    <tr>\n",
       "      <th>314</th>\n",
       "      <td>1315</td>\n",
       "      <td>Jabra Talk</td>\n",
       "      <td>Telefony i akcesoria;Akcesoria telefoniczne;Ze...</td>\n",
       "      <td>54.99</td>\n",
       "    </tr>\n",
       "    <tr>\n",
       "      <th>315</th>\n",
       "      <td>1316</td>\n",
       "      <td>Plantronics Voyager Legend</td>\n",
       "      <td>Telefony i akcesoria;Akcesoria telefoniczne;Ze...</td>\n",
       "      <td>249.00</td>\n",
       "    </tr>\n",
       "    <tr>\n",
       "      <th>316</th>\n",
       "      <td>1317</td>\n",
       "      <td>Plantronics Savi W740</td>\n",
       "      <td>Telefony i akcesoria;Akcesoria telefoniczne;Ze...</td>\n",
       "      <td>-1303.96</td>\n",
       "    </tr>\n",
       "    <tr>\n",
       "      <th>317</th>\n",
       "      <td>1318</td>\n",
       "      <td>Plantronics Savi W710</td>\n",
       "      <td>Sprzęt RTV;Audio;Słuchawki</td>\n",
       "      <td>553.00</td>\n",
       "    </tr>\n",
       "    <tr>\n",
       "      <th>318</th>\n",
       "      <td>1319</td>\n",
       "      <td>HTC HS-S200</td>\n",
       "      <td>Telefony i akcesoria;Akcesoria telefoniczne;Ze...</td>\n",
       "      <td>14.99</td>\n",
       "    </tr>\n",
       "  </tbody>\n",
       "</table>\n",
       "<p>319 rows × 4 columns</p>\n",
       "</div>"
      ],
      "text/plain": [
       "     product_id                                    product_name  \\\n",
       "0          1001                   Telefon Siemens Gigaset DA310   \n",
       "1          1002                              Kyocera FS-1135MFP   \n",
       "2          1003                              Kyocera FS-3640MFP   \n",
       "3          1004                            Fallout 3 (Xbox 360)   \n",
       "4          1005  Szalone Króliki Na żywo i w kolorze (Xbox 360)   \n",
       "..          ...                                             ...   \n",
       "314        1315                                      Jabra Talk   \n",
       "315        1316                      Plantronics Voyager Legend   \n",
       "316        1317                           Plantronics Savi W740   \n",
       "317        1318                           Plantronics Savi W710   \n",
       "318        1319                                     HTC HS-S200   \n",
       "\n",
       "                                         category_path    price  \n",
       "0            Telefony i akcesoria;Telefony stacjonarne    58.97  \n",
       "1    Komputery;Drukarki i skanery;Biurowe urządzeni...  2048.50  \n",
       "2    Komputery;Drukarki i skanery;Biurowe urządzeni...  7639.00  \n",
       "3            Gry i konsole;Gry na konsole;Gry Xbox 360    49.99  \n",
       "4            Gry i konsole;Gry na konsole;Gry Xbox 360    49.99  \n",
       "..                                                 ...      ...  \n",
       "314  Telefony i akcesoria;Akcesoria telefoniczne;Ze...    54.99  \n",
       "315  Telefony i akcesoria;Akcesoria telefoniczne;Ze...   249.00  \n",
       "316  Telefony i akcesoria;Akcesoria telefoniczne;Ze... -1303.96  \n",
       "317                         Sprzęt RTV;Audio;Słuchawki   553.00  \n",
       "318  Telefony i akcesoria;Akcesoria telefoniczne;Ze...    14.99  \n",
       "\n",
       "[319 rows x 4 columns]"
      ]
     },
     "execution_count": 28,
     "metadata": {},
     "output_type": "execute_result"
    }
   ],
   "source": [
    "products_df"
   ]
  },
  {
   "cell_type": "code",
   "execution_count": 29,
   "id": "ac090957-6e4b-4b00-9082-ca22e2b46d77",
   "metadata": {
    "scrolled": true
   },
   "outputs": [
    {
     "data": {
      "text/html": [
       "<div>\n",
       "<style scoped>\n",
       "    .dataframe tbody tr th:only-of-type {\n",
       "        vertical-align: middle;\n",
       "    }\n",
       "\n",
       "    .dataframe tbody tr th {\n",
       "        vertical-align: top;\n",
       "    }\n",
       "\n",
       "    .dataframe thead th {\n",
       "        text-align: right;\n",
       "    }\n",
       "</style>\n",
       "<table border=\"1\" class=\"dataframe\">\n",
       "  <thead>\n",
       "    <tr style=\"text-align: right;\">\n",
       "      <th></th>\n",
       "      <th>product_id</th>\n",
       "      <th>product_name</th>\n",
       "      <th>category_path</th>\n",
       "      <th>price</th>\n",
       "    </tr>\n",
       "  </thead>\n",
       "  <tbody>\n",
       "    <tr>\n",
       "      <th>22</th>\n",
       "      <td>1023</td>\n",
       "      <td>Mass Effect 3 (Xbox 360)</td>\n",
       "      <td>Gry i konsole;Gry na konsole;Gry Xbox 360</td>\n",
       "      <td>-89.99</td>\n",
       "    </tr>\n",
       "    <tr>\n",
       "      <th>29</th>\n",
       "      <td>1030</td>\n",
       "      <td>LCD Iiyama B2280WSD</td>\n",
       "      <td>Komputery;Monitory;Monitory LCD</td>\n",
       "      <td>-739.00</td>\n",
       "    </tr>\n",
       "    <tr>\n",
       "      <th>68</th>\n",
       "      <td>1069</td>\n",
       "      <td>LCD NEC EA224WMi</td>\n",
       "      <td>Komputery;Monitory;Monitory LCD</td>\n",
       "      <td>-979.00</td>\n",
       "    </tr>\n",
       "    <tr>\n",
       "      <th>96</th>\n",
       "      <td>1097</td>\n",
       "      <td>Company of Heroes Tales of Valor (PC)</td>\n",
       "      <td>Gry i konsole;Gry komputerowe</td>\n",
       "      <td>-49.99</td>\n",
       "    </tr>\n",
       "    <tr>\n",
       "      <th>114</th>\n",
       "      <td>1115</td>\n",
       "      <td>Napoleon Total War (PC)</td>\n",
       "      <td>Gry i konsole;Gry komputerowe</td>\n",
       "      <td>-34.99</td>\n",
       "    </tr>\n",
       "    <tr>\n",
       "      <th>169</th>\n",
       "      <td>1170</td>\n",
       "      <td>Symulator Kamieniołomu (PC)</td>\n",
       "      <td>Gry i konsole;Gry komputerowe</td>\n",
       "      <td>-4.99</td>\n",
       "    </tr>\n",
       "    <tr>\n",
       "      <th>187</th>\n",
       "      <td>1188</td>\n",
       "      <td>Star Wars Battlefront 2 (PC)</td>\n",
       "      <td>Gry i konsole;Gry komputerowe</td>\n",
       "      <td>-55.00</td>\n",
       "    </tr>\n",
       "    <tr>\n",
       "      <th>192</th>\n",
       "      <td>1193</td>\n",
       "      <td>Heroes Over Europe (PC)</td>\n",
       "      <td>Gry i konsole;Gry komputerowe</td>\n",
       "      <td>-1.00</td>\n",
       "    </tr>\n",
       "    <tr>\n",
       "      <th>201</th>\n",
       "      <td>1202</td>\n",
       "      <td>Final Fantasy 14 (PC)</td>\n",
       "      <td>Gry i konsole;Gry komputerowe</td>\n",
       "      <td>-135.90</td>\n",
       "    </tr>\n",
       "    <tr>\n",
       "      <th>210</th>\n",
       "      <td>1211</td>\n",
       "      <td>Need for Speed Shift 2 Unleashed (PC)</td>\n",
       "      <td>Gry i konsole;Gry komputerowe</td>\n",
       "      <td>-27.90</td>\n",
       "    </tr>\n",
       "    <tr>\n",
       "      <th>222</th>\n",
       "      <td>1223</td>\n",
       "      <td>Call of Duty Black Ops 2 (PC)</td>\n",
       "      <td>Gry i konsole;Gry komputerowe</td>\n",
       "      <td>-32.99</td>\n",
       "    </tr>\n",
       "    <tr>\n",
       "      <th>230</th>\n",
       "      <td>1231</td>\n",
       "      <td>Symulator Transportu Kolejowego (PC)</td>\n",
       "      <td>Gry i konsole;Gry komputerowe</td>\n",
       "      <td>-18.24</td>\n",
       "    </tr>\n",
       "    <tr>\n",
       "      <th>234</th>\n",
       "      <td>1235</td>\n",
       "      <td>Baldur&amp;#39;s Gate (PC)</td>\n",
       "      <td>Gry i konsole;Gry komputerowe</td>\n",
       "      <td>-34.99</td>\n",
       "    </tr>\n",
       "    <tr>\n",
       "      <th>246</th>\n",
       "      <td>1247</td>\n",
       "      <td>Star Wars The Force Unleashed (PC)</td>\n",
       "      <td>Gry i konsole;Gry komputerowe</td>\n",
       "      <td>-63.99</td>\n",
       "    </tr>\n",
       "    <tr>\n",
       "      <th>278</th>\n",
       "      <td>1279</td>\n",
       "      <td>Assassin&amp;#39;s Creed 3 (Xbox 360)</td>\n",
       "      <td>Gry i konsole;Gry na konsole;Gry Xbox 360</td>\n",
       "      <td>-49.99</td>\n",
       "    </tr>\n",
       "    <tr>\n",
       "      <th>316</th>\n",
       "      <td>1317</td>\n",
       "      <td>Plantronics Savi W740</td>\n",
       "      <td>Telefony i akcesoria;Akcesoria telefoniczne;Ze...</td>\n",
       "      <td>-1303.96</td>\n",
       "    </tr>\n",
       "  </tbody>\n",
       "</table>\n",
       "</div>"
      ],
      "text/plain": [
       "     product_id                           product_name  \\\n",
       "22         1023               Mass Effect 3 (Xbox 360)   \n",
       "29         1030                    LCD Iiyama B2280WSD   \n",
       "68         1069                       LCD NEC EA224WMi   \n",
       "96         1097  Company of Heroes Tales of Valor (PC)   \n",
       "114        1115                Napoleon Total War (PC)   \n",
       "169        1170            Symulator Kamieniołomu (PC)   \n",
       "187        1188           Star Wars Battlefront 2 (PC)   \n",
       "192        1193                Heroes Over Europe (PC)   \n",
       "201        1202                  Final Fantasy 14 (PC)   \n",
       "210        1211  Need for Speed Shift 2 Unleashed (PC)   \n",
       "222        1223          Call of Duty Black Ops 2 (PC)   \n",
       "230        1231   Symulator Transportu Kolejowego (PC)   \n",
       "234        1235                 Baldur&#39;s Gate (PC)   \n",
       "246        1247     Star Wars The Force Unleashed (PC)   \n",
       "278        1279      Assassin&#39;s Creed 3 (Xbox 360)   \n",
       "316        1317                  Plantronics Savi W740   \n",
       "\n",
       "                                         category_path    price  \n",
       "22           Gry i konsole;Gry na konsole;Gry Xbox 360   -89.99  \n",
       "29                     Komputery;Monitory;Monitory LCD  -739.00  \n",
       "68                     Komputery;Monitory;Monitory LCD  -979.00  \n",
       "96                       Gry i konsole;Gry komputerowe   -49.99  \n",
       "114                      Gry i konsole;Gry komputerowe   -34.99  \n",
       "169                      Gry i konsole;Gry komputerowe    -4.99  \n",
       "187                      Gry i konsole;Gry komputerowe   -55.00  \n",
       "192                      Gry i konsole;Gry komputerowe    -1.00  \n",
       "201                      Gry i konsole;Gry komputerowe  -135.90  \n",
       "210                      Gry i konsole;Gry komputerowe   -27.90  \n",
       "222                      Gry i konsole;Gry komputerowe   -32.99  \n",
       "230                      Gry i konsole;Gry komputerowe   -18.24  \n",
       "234                      Gry i konsole;Gry komputerowe   -34.99  \n",
       "246                      Gry i konsole;Gry komputerowe   -63.99  \n",
       "278          Gry i konsole;Gry na konsole;Gry Xbox 360   -49.99  \n",
       "316  Telefony i akcesoria;Akcesoria telefoniczne;Ze... -1303.96  "
      ]
     },
     "execution_count": 29,
     "metadata": {},
     "output_type": "execute_result"
    }
   ],
   "source": [
    "products_df[products_df.price <= 0]"
   ]
  },
  {
   "cell_type": "code",
   "execution_count": 30,
   "id": "dcc64335",
   "metadata": {},
   "outputs": [
    {
     "data": {
      "text/html": [
       "<div>\n",
       "<style scoped>\n",
       "    .dataframe tbody tr th:only-of-type {\n",
       "        vertical-align: middle;\n",
       "    }\n",
       "\n",
       "    .dataframe tbody tr th {\n",
       "        vertical-align: top;\n",
       "    }\n",
       "\n",
       "    .dataframe thead th {\n",
       "        text-align: right;\n",
       "    }\n",
       "</style>\n",
       "<table border=\"1\" class=\"dataframe\">\n",
       "  <thead>\n",
       "    <tr style=\"text-align: right;\">\n",
       "      <th></th>\n",
       "      <th>product_id</th>\n",
       "      <th>product_name</th>\n",
       "      <th>category_path</th>\n",
       "      <th>price</th>\n",
       "    </tr>\n",
       "  </thead>\n",
       "  <tbody>\n",
       "    <tr>\n",
       "      <th>19</th>\n",
       "      <td>1020</td>\n",
       "      <td>Dead Space 2 (Xbox 360)</td>\n",
       "      <td>Gry i konsole;Gry na konsole;Gry Xbox 360</td>\n",
       "      <td>89000000.0</td>\n",
       "    </tr>\n",
       "    <tr>\n",
       "      <th>26</th>\n",
       "      <td>1027</td>\n",
       "      <td>Skate 3 (Xbox 360)</td>\n",
       "      <td>Gry i konsole;Gry na konsole;Gry Xbox 360</td>\n",
       "      <td>56000000.0</td>\n",
       "    </tr>\n",
       "    <tr>\n",
       "      <th>83</th>\n",
       "      <td>1084</td>\n",
       "      <td>Sing It High School Musical 3 (PS3)</td>\n",
       "      <td>Gry i konsole;Gry na konsole;Gry PlayStation3</td>\n",
       "      <td>99990000.0</td>\n",
       "    </tr>\n",
       "    <tr>\n",
       "      <th>109</th>\n",
       "      <td>1110</td>\n",
       "      <td>Bioshock (PC)</td>\n",
       "      <td>Gry i konsole;Gry komputerowe</td>\n",
       "      <td>82900000.0</td>\n",
       "    </tr>\n",
       "    <tr>\n",
       "      <th>126</th>\n",
       "      <td>1127</td>\n",
       "      <td>Dark Void (PC)</td>\n",
       "      <td>Gry i konsole;Gry komputerowe</td>\n",
       "      <td>41000000.0</td>\n",
       "    </tr>\n",
       "    <tr>\n",
       "      <th>141</th>\n",
       "      <td>1142</td>\n",
       "      <td>Toy Story Mania (PC)</td>\n",
       "      <td>Gry i konsole;Gry komputerowe</td>\n",
       "      <td>23900000.0</td>\n",
       "    </tr>\n",
       "    <tr>\n",
       "      <th>150</th>\n",
       "      <td>1151</td>\n",
       "      <td>Mafia 2 (PC)</td>\n",
       "      <td>Gry i konsole;Gry komputerowe</td>\n",
       "      <td>11900000.0</td>\n",
       "    </tr>\n",
       "    <tr>\n",
       "      <th>194</th>\n",
       "      <td>1195</td>\n",
       "      <td>Titan Quest (PC)</td>\n",
       "      <td>Gry i konsole;Gry komputerowe</td>\n",
       "      <td>38900000.0</td>\n",
       "    </tr>\n",
       "    <tr>\n",
       "      <th>207</th>\n",
       "      <td>1208</td>\n",
       "      <td>Mapeciątka podróżują (PC)</td>\n",
       "      <td>Gry i konsole;Gry komputerowe</td>\n",
       "      <td>13790000.0</td>\n",
       "    </tr>\n",
       "    <tr>\n",
       "      <th>225</th>\n",
       "      <td>1226</td>\n",
       "      <td>Supreme Commander (PC)</td>\n",
       "      <td>Gry i konsole;Gry komputerowe</td>\n",
       "      <td>41900000.0</td>\n",
       "    </tr>\n",
       "    <tr>\n",
       "      <th>269</th>\n",
       "      <td>1270</td>\n",
       "      <td>Warhammer 40.000 Space Marine (PC)</td>\n",
       "      <td>Gry i konsole;Gry komputerowe</td>\n",
       "      <td>7900000.0</td>\n",
       "    </tr>\n",
       "    <tr>\n",
       "      <th>290</th>\n",
       "      <td>1291</td>\n",
       "      <td>Philips SDV6224</td>\n",
       "      <td>Sprzęt RTV;Video;Telewizory i akcesoria;Anteny...</td>\n",
       "      <td>168790000.0</td>\n",
       "    </tr>\n",
       "  </tbody>\n",
       "</table>\n",
       "</div>"
      ],
      "text/plain": [
       "     product_id                         product_name  \\\n",
       "19         1020              Dead Space 2 (Xbox 360)   \n",
       "26         1027                   Skate 3 (Xbox 360)   \n",
       "83         1084  Sing It High School Musical 3 (PS3)   \n",
       "109        1110                        Bioshock (PC)   \n",
       "126        1127                       Dark Void (PC)   \n",
       "141        1142                 Toy Story Mania (PC)   \n",
       "150        1151                         Mafia 2 (PC)   \n",
       "194        1195                     Titan Quest (PC)   \n",
       "207        1208            Mapeciątka podróżują (PC)   \n",
       "225        1226               Supreme Commander (PC)   \n",
       "269        1270   Warhammer 40.000 Space Marine (PC)   \n",
       "290        1291                      Philips SDV6224   \n",
       "\n",
       "                                         category_path        price  \n",
       "19           Gry i konsole;Gry na konsole;Gry Xbox 360   89000000.0  \n",
       "26           Gry i konsole;Gry na konsole;Gry Xbox 360   56000000.0  \n",
       "83       Gry i konsole;Gry na konsole;Gry PlayStation3   99990000.0  \n",
       "109                      Gry i konsole;Gry komputerowe   82900000.0  \n",
       "126                      Gry i konsole;Gry komputerowe   41000000.0  \n",
       "141                      Gry i konsole;Gry komputerowe   23900000.0  \n",
       "150                      Gry i konsole;Gry komputerowe   11900000.0  \n",
       "194                      Gry i konsole;Gry komputerowe   38900000.0  \n",
       "207                      Gry i konsole;Gry komputerowe   13790000.0  \n",
       "225                      Gry i konsole;Gry komputerowe   41900000.0  \n",
       "269                      Gry i konsole;Gry komputerowe    7900000.0  \n",
       "290  Sprzęt RTV;Video;Telewizory i akcesoria;Anteny...  168790000.0  "
      ]
     },
     "execution_count": 30,
     "metadata": {},
     "output_type": "execute_result"
    }
   ],
   "source": [
    "products_df[products_df.price > 100000]"
   ]
  },
  {
   "cell_type": "code",
   "execution_count": 31,
   "id": "26ff56f9-bea6-436a-8fff-d8197093ca96",
   "metadata": {},
   "outputs": [
    {
     "data": {
      "text/plain": [
       "category_path\n",
       "Gry i konsole;Gry komputerowe                                        202\n",
       "Gry i konsole;Gry na konsole;Gry Xbox 360                             32\n",
       "Sprzęt RTV;Video;Telewizory i akcesoria;Anteny RTV                    30\n",
       "Komputery;Monitory;Monitory LCD                                       17\n",
       "Gry i konsole;Gry na konsole;Gry PlayStation3                          9\n",
       "Komputery;Drukarki i skanery;Biurowe urządzenia wielofunkcyjne         9\n",
       "Telefony i akcesoria;Akcesoria telefoniczne;Zestawy głośnomówiące      5\n",
       "Telefony i akcesoria;Akcesoria telefoniczne;Zestawy słuchawkowe        4\n",
       "Komputery;Tablety i akcesoria;Tablety                                  2\n",
       "Sprzęt RTV;Przenośne audio i video;Odtwarzacze mp3 i mp4               2\n",
       "Sprzęt RTV;Video;Odtwarzacze DVD                                       2\n",
       "Telefony i akcesoria;Telefony komórkowe                                2\n",
       "Sprzęt RTV;Audio;Słuchawki                                             1\n",
       "Sprzęt RTV;Video;Telewizory i akcesoria;Okulary 3D                     1\n",
       "Telefony i akcesoria;Telefony stacjonarne                              1\n",
       "dtype: int64"
      ]
     },
     "execution_count": 31,
     "metadata": {},
     "output_type": "execute_result"
    }
   ],
   "source": [
    "products_df.groupby(\"category_path\").size().sort_values(ascending=False)"
   ]
  },
  {
   "cell_type": "code",
   "execution_count": 32,
   "id": "aa1182a2",
   "metadata": {},
   "outputs": [
    {
     "data": {
      "image/png": "[encoded data removed]",
      "text/plain": [
       "<Figure size 432x288 with 1 Axes>"
      ]
     },
     "metadata": {
      "needs_background": "light"
     },
     "output_type": "display_data"
    }
   ],
   "source": [
    "categories = products_df[\"category_path\"].value_counts()\n",
    "plot_bar(series=categories, title=\"Kategorie produktów\", ylabel=\"Ilość\", rotation=90)"
   ]
  },
  {
   "cell_type": "markdown",
   "id": "1754f3d0-b6cb-4b0d-9ea1-b51c1727937f",
   "metadata": {},
   "source": [
    "W przypadku tabeli \"Products\" występuje 16 cen ujemnych, a dominującą klasą są \"Gry komputerowe\". Ponadto 12 produktów ma cenę wyższą od 100000 (najniższa z nich cena to 7900000)"
   ]
  },
  {
   "cell_type": "markdown",
   "id": "f2d7ce7b-1716-4fb3-8114-c3031f37d205",
   "metadata": {},
   "source": [
    "## Sesje"
   ]
  },
  {
   "cell_type": "code",
   "execution_count": 33,
   "id": "b0fd0a6c-38aa-4465-ba56-7a3f5b547d97",
   "metadata": {},
   "outputs": [
    {
     "name": "stdout",
     "output_type": "stream",
     "text": [
      "<class 'pandas.core.frame.DataFrame'>\n",
      "RangeIndex: 39269 entries, 0 to 39268\n",
      "Data columns (total 7 columns):\n",
      " #   Column            Non-Null Count  Dtype         \n",
      "---  ------            --------------  -----         \n",
      " 0   session_id        39269 non-null  int64         \n",
      " 1   timestamp         39269 non-null  datetime64[ns]\n",
      " 2   user_id           37214 non-null  float64       \n",
      " 3   product_id        37371 non-null  float64       \n",
      " 4   event_type        39269 non-null  object        \n",
      " 5   offered_discount  39059 non-null  float64       \n",
      " 6   purchase_id       7381 non-null   float64       \n",
      "dtypes: datetime64[ns](1), float64(4), int64(1), object(1)\n",
      "memory usage: 2.1+ MB\n"
     ]
    }
   ],
   "source": [
    "sessions_df.info()"
   ]
  },
  {
   "cell_type": "code",
   "execution_count": 34,
   "id": "ba5034f8",
   "metadata": {},
   "outputs": [
    {
     "data": {
      "text/plain": [
       "2055"
      ]
     },
     "execution_count": 34,
     "metadata": {},
     "output_type": "execute_result"
    }
   ],
   "source": [
    "sessions_df.user_id.isnull().sum()"
   ]
  },
  {
   "cell_type": "code",
   "execution_count": 35,
   "id": "8689c4d2",
   "metadata": {},
   "outputs": [
    {
     "data": {
      "text/plain": [
       "1898"
      ]
     },
     "execution_count": 35,
     "metadata": {},
     "output_type": "execute_result"
    }
   ],
   "source": [
    "sessions_df.product_id.isnull().sum()"
   ]
  },
  {
   "cell_type": "code",
   "execution_count": 36,
   "id": "b38d3297",
   "metadata": {},
   "outputs": [
    {
     "data": {
      "text/plain": [
       "VIEW_PRODUCT      31888\n",
       "BUY_PRODUCT        7171\n",
       "RETURN_PRODUCT      210\n",
       "Name: event_type, dtype: int64"
      ]
     },
     "execution_count": 36,
     "metadata": {},
     "output_type": "execute_result"
    }
   ],
   "source": [
    "sessions_df[\"event_type\"].value_counts()"
   ]
  },
  {
   "cell_type": "code",
   "execution_count": 37,
   "id": "79f54b44",
   "metadata": {},
   "outputs": [
    {
     "data": {
      "text/html": [
       "<div>\n",
       "<style scoped>\n",
       "    .dataframe tbody tr th:only-of-type {\n",
       "        vertical-align: middle;\n",
       "    }\n",
       "\n",
       "    .dataframe tbody tr th {\n",
       "        vertical-align: top;\n",
       "    }\n",
       "\n",
       "    .dataframe thead th {\n",
       "        text-align: right;\n",
       "    }\n",
       "</style>\n",
       "<table border=\"1\" class=\"dataframe\">\n",
       "  <thead>\n",
       "    <tr style=\"text-align: right;\">\n",
       "      <th></th>\n",
       "      <th>session_id</th>\n",
       "      <th>timestamp</th>\n",
       "      <th>user_id</th>\n",
       "      <th>product_id</th>\n",
       "      <th>event_type</th>\n",
       "      <th>offered_discount</th>\n",
       "      <th>purchase_id</th>\n",
       "    </tr>\n",
       "  </thead>\n",
       "  <tbody>\n",
       "    <tr>\n",
       "      <th>72</th>\n",
       "      <td>100018</td>\n",
       "      <td>2021-10-10 11:35:27.362751</td>\n",
       "      <td>NaN</td>\n",
       "      <td>1009.0</td>\n",
       "      <td>RETURN_PRODUCT</td>\n",
       "      <td>NaN</td>\n",
       "      <td>20013.0</td>\n",
       "    </tr>\n",
       "    <tr>\n",
       "      <th>472</th>\n",
       "      <td>100125</td>\n",
       "      <td>2021-07-22 12:54:48.262470</td>\n",
       "      <td>103.0</td>\n",
       "      <td>NaN</td>\n",
       "      <td>RETURN_PRODUCT</td>\n",
       "      <td>NaN</td>\n",
       "      <td>20078.0</td>\n",
       "    </tr>\n",
       "    <tr>\n",
       "      <th>670</th>\n",
       "      <td>100181</td>\n",
       "      <td>2021-05-08 06:13:06.060623</td>\n",
       "      <td>104.0</td>\n",
       "      <td>1283.0</td>\n",
       "      <td>RETURN_PRODUCT</td>\n",
       "      <td>NaN</td>\n",
       "      <td>20120.0</td>\n",
       "    </tr>\n",
       "    <tr>\n",
       "      <th>917</th>\n",
       "      <td>100247</td>\n",
       "      <td>2021-09-09 01:30:23.640711</td>\n",
       "      <td>105.0</td>\n",
       "      <td>1276.0</td>\n",
       "      <td>RETURN_PRODUCT</td>\n",
       "      <td>NaN</td>\n",
       "      <td>20167.0</td>\n",
       "    </tr>\n",
       "    <tr>\n",
       "      <th>1095</th>\n",
       "      <td>100290</td>\n",
       "      <td>2021-10-10 17:15:23.315240</td>\n",
       "      <td>106.0</td>\n",
       "      <td>1292.0</td>\n",
       "      <td>RETURN_PRODUCT</td>\n",
       "      <td>NaN</td>\n",
       "      <td>20196.0</td>\n",
       "    </tr>\n",
       "    <tr>\n",
       "      <th>...</th>\n",
       "      <td>...</td>\n",
       "      <td>...</td>\n",
       "      <td>...</td>\n",
       "      <td>...</td>\n",
       "      <td>...</td>\n",
       "      <td>...</td>\n",
       "      <td>...</td>\n",
       "    </tr>\n",
       "    <tr>\n",
       "      <th>37978</th>\n",
       "      <td>110082</td>\n",
       "      <td>2021-09-14 07:28:24.935583</td>\n",
       "      <td>295.0</td>\n",
       "      <td>1053.0</td>\n",
       "      <td>RETURN_PRODUCT</td>\n",
       "      <td>NaN</td>\n",
       "      <td>26908.0</td>\n",
       "    </tr>\n",
       "    <tr>\n",
       "      <th>38414</th>\n",
       "      <td>110205</td>\n",
       "      <td>2021-03-12 14:28:45.706929</td>\n",
       "      <td>297.0</td>\n",
       "      <td>NaN</td>\n",
       "      <td>RETURN_PRODUCT</td>\n",
       "      <td>NaN</td>\n",
       "      <td>26997.0</td>\n",
       "    </tr>\n",
       "    <tr>\n",
       "      <th>38940</th>\n",
       "      <td>110350</td>\n",
       "      <td>2021-03-05 00:13:34.026351</td>\n",
       "      <td>298.0</td>\n",
       "      <td>1003.0</td>\n",
       "      <td>RETURN_PRODUCT</td>\n",
       "      <td>NaN</td>\n",
       "      <td>27106.0</td>\n",
       "    </tr>\n",
       "    <tr>\n",
       "      <th>39021</th>\n",
       "      <td>110370</td>\n",
       "      <td>2021-09-12 07:19:54.112534</td>\n",
       "      <td>298.0</td>\n",
       "      <td>1079.0</td>\n",
       "      <td>RETURN_PRODUCT</td>\n",
       "      <td>NaN</td>\n",
       "      <td>27121.0</td>\n",
       "    </tr>\n",
       "    <tr>\n",
       "      <th>39157</th>\n",
       "      <td>110407</td>\n",
       "      <td>2021-04-13 01:40:44.677024</td>\n",
       "      <td>301.0</td>\n",
       "      <td>1281.0</td>\n",
       "      <td>RETURN_PRODUCT</td>\n",
       "      <td>NaN</td>\n",
       "      <td>27145.0</td>\n",
       "    </tr>\n",
       "  </tbody>\n",
       "</table>\n",
       "<p>210 rows × 7 columns</p>\n",
       "</div>"
      ],
      "text/plain": [
       "       session_id                  timestamp  user_id  product_id  \\\n",
       "72         100018 2021-10-10 11:35:27.362751      NaN      1009.0   \n",
       "472        100125 2021-07-22 12:54:48.262470    103.0         NaN   \n",
       "670        100181 2021-05-08 06:13:06.060623    104.0      1283.0   \n",
       "917        100247 2021-09-09 01:30:23.640711    105.0      1276.0   \n",
       "1095       100290 2021-10-10 17:15:23.315240    106.0      1292.0   \n",
       "...           ...                        ...      ...         ...   \n",
       "37978      110082 2021-09-14 07:28:24.935583    295.0      1053.0   \n",
       "38414      110205 2021-03-12 14:28:45.706929    297.0         NaN   \n",
       "38940      110350 2021-03-05 00:13:34.026351    298.0      1003.0   \n",
       "39021      110370 2021-09-12 07:19:54.112534    298.0      1079.0   \n",
       "39157      110407 2021-04-13 01:40:44.677024    301.0      1281.0   \n",
       "\n",
       "           event_type  offered_discount  purchase_id  \n",
       "72     RETURN_PRODUCT               NaN      20013.0  \n",
       "472    RETURN_PRODUCT               NaN      20078.0  \n",
       "670    RETURN_PRODUCT               NaN      20120.0  \n",
       "917    RETURN_PRODUCT               NaN      20167.0  \n",
       "1095   RETURN_PRODUCT               NaN      20196.0  \n",
       "...               ...               ...          ...  \n",
       "37978  RETURN_PRODUCT               NaN      26908.0  \n",
       "38414  RETURN_PRODUCT               NaN      26997.0  \n",
       "38940  RETURN_PRODUCT               NaN      27106.0  \n",
       "39021  RETURN_PRODUCT               NaN      27121.0  \n",
       "39157  RETURN_PRODUCT               NaN      27145.0  \n",
       "\n",
       "[210 rows x 7 columns]"
      ]
     },
     "execution_count": 37,
     "metadata": {},
     "output_type": "execute_result"
    }
   ],
   "source": [
    "sessions_df[sessions_df.event_type == \"RETURN_PRODUCT\"]"
   ]
  },
  {
   "cell_type": "code",
   "execution_count": 38,
   "id": "b84f2829-47fc-44e5-ad59-8b1da04c191e",
   "metadata": {},
   "outputs": [
    {
     "data": {
      "text/html": [
       "<div>\n",
       "<style scoped>\n",
       "    .dataframe tbody tr th:only-of-type {\n",
       "        vertical-align: middle;\n",
       "    }\n",
       "\n",
       "    .dataframe tbody tr th {\n",
       "        vertical-align: top;\n",
       "    }\n",
       "\n",
       "    .dataframe thead th {\n",
       "        text-align: right;\n",
       "    }\n",
       "</style>\n",
       "<table border=\"1\" class=\"dataframe\">\n",
       "  <thead>\n",
       "    <tr style=\"text-align: right;\">\n",
       "      <th></th>\n",
       "      <th>session_id</th>\n",
       "      <th>timestamp</th>\n",
       "      <th>user_id</th>\n",
       "      <th>product_id</th>\n",
       "      <th>event_type</th>\n",
       "      <th>offered_discount</th>\n",
       "      <th>purchase_id</th>\n",
       "    </tr>\n",
       "  </thead>\n",
       "  <tbody>\n",
       "  </tbody>\n",
       "</table>\n",
       "</div>"
      ],
      "text/plain": [
       "Empty DataFrame\n",
       "Columns: [session_id, timestamp, user_id, product_id, event_type, offered_discount, purchase_id]\n",
       "Index: []"
      ]
     },
     "execution_count": 38,
     "metadata": {},
     "output_type": "execute_result"
    }
   ],
   "source": [
    "sessions_df[(sessions_df.offered_discount.isnull()) & (sessions_df.event_type != \"RETURN_PRODUCT\")]"
   ]
  },
  {
   "cell_type": "code",
   "execution_count": 39,
   "id": "7e2488c3",
   "metadata": {},
   "outputs": [
    {
     "data": {
      "text/html": [
       "<div>\n",
       "<style scoped>\n",
       "    .dataframe tbody tr th:only-of-type {\n",
       "        vertical-align: middle;\n",
       "    }\n",
       "\n",
       "    .dataframe tbody tr th {\n",
       "        vertical-align: top;\n",
       "    }\n",
       "\n",
       "    .dataframe thead th {\n",
       "        text-align: right;\n",
       "    }\n",
       "</style>\n",
       "<table border=\"1\" class=\"dataframe\">\n",
       "  <thead>\n",
       "    <tr style=\"text-align: right;\">\n",
       "      <th></th>\n",
       "      <th>session_id</th>\n",
       "      <th>timestamp</th>\n",
       "      <th>user_id</th>\n",
       "      <th>product_id</th>\n",
       "      <th>event_type</th>\n",
       "      <th>offered_discount</th>\n",
       "      <th>purchase_id</th>\n",
       "    </tr>\n",
       "  </thead>\n",
       "  <tbody>\n",
       "    <tr>\n",
       "      <th>1</th>\n",
       "      <td>100001</td>\n",
       "      <td>2021-02-17 09:56:53</td>\n",
       "      <td>102.0</td>\n",
       "      <td>1293.0</td>\n",
       "      <td>VIEW_PRODUCT</td>\n",
       "      <td>10.0</td>\n",
       "      <td>NaN</td>\n",
       "    </tr>\n",
       "    <tr>\n",
       "      <th>3</th>\n",
       "      <td>100002</td>\n",
       "      <td>2021-09-12 14:25:55</td>\n",
       "      <td>102.0</td>\n",
       "      <td>1017.0</td>\n",
       "      <td>VIEW_PRODUCT</td>\n",
       "      <td>10.0</td>\n",
       "      <td>NaN</td>\n",
       "    </tr>\n",
       "    <tr>\n",
       "      <th>4</th>\n",
       "      <td>100002</td>\n",
       "      <td>2021-09-12 14:28:32</td>\n",
       "      <td>102.0</td>\n",
       "      <td>1039.0</td>\n",
       "      <td>VIEW_PRODUCT</td>\n",
       "      <td>10.0</td>\n",
       "      <td>NaN</td>\n",
       "    </tr>\n",
       "    <tr>\n",
       "      <th>5</th>\n",
       "      <td>100002</td>\n",
       "      <td>2021-09-12 14:29:06</td>\n",
       "      <td>102.0</td>\n",
       "      <td>1032.0</td>\n",
       "      <td>VIEW_PRODUCT</td>\n",
       "      <td>10.0</td>\n",
       "      <td>NaN</td>\n",
       "    </tr>\n",
       "    <tr>\n",
       "      <th>6</th>\n",
       "      <td>100002</td>\n",
       "      <td>2021-09-12 14:31:38</td>\n",
       "      <td>102.0</td>\n",
       "      <td>1033.0</td>\n",
       "      <td>VIEW_PRODUCT</td>\n",
       "      <td>10.0</td>\n",
       "      <td>NaN</td>\n",
       "    </tr>\n",
       "    <tr>\n",
       "      <th>...</th>\n",
       "      <td>...</td>\n",
       "      <td>...</td>\n",
       "      <td>...</td>\n",
       "      <td>...</td>\n",
       "      <td>...</td>\n",
       "      <td>...</td>\n",
       "      <td>...</td>\n",
       "    </tr>\n",
       "    <tr>\n",
       "      <th>39264</th>\n",
       "      <td>110440</td>\n",
       "      <td>2021-08-04 14:52:31</td>\n",
       "      <td>301.0</td>\n",
       "      <td>1222.0</td>\n",
       "      <td>VIEW_PRODUCT</td>\n",
       "      <td>10.0</td>\n",
       "      <td>NaN</td>\n",
       "    </tr>\n",
       "    <tr>\n",
       "      <th>39265</th>\n",
       "      <td>110440</td>\n",
       "      <td>2021-08-04 14:57:08</td>\n",
       "      <td>301.0</td>\n",
       "      <td>1073.0</td>\n",
       "      <td>VIEW_PRODUCT</td>\n",
       "      <td>10.0</td>\n",
       "      <td>NaN</td>\n",
       "    </tr>\n",
       "    <tr>\n",
       "      <th>39266</th>\n",
       "      <td>110440</td>\n",
       "      <td>2021-08-04 14:59:44</td>\n",
       "      <td>301.0</td>\n",
       "      <td>1201.0</td>\n",
       "      <td>VIEW_PRODUCT</td>\n",
       "      <td>10.0</td>\n",
       "      <td>NaN</td>\n",
       "    </tr>\n",
       "    <tr>\n",
       "      <th>39267</th>\n",
       "      <td>110440</td>\n",
       "      <td>2021-08-04 15:00:40</td>\n",
       "      <td>NaN</td>\n",
       "      <td>1072.0</td>\n",
       "      <td>VIEW_PRODUCT</td>\n",
       "      <td>10.0</td>\n",
       "      <td>NaN</td>\n",
       "    </tr>\n",
       "    <tr>\n",
       "      <th>39268</th>\n",
       "      <td>110440</td>\n",
       "      <td>2021-08-04 15:05:12</td>\n",
       "      <td>301.0</td>\n",
       "      <td>1072.0</td>\n",
       "      <td>BUY_PRODUCT</td>\n",
       "      <td>10.0</td>\n",
       "      <td>27171.0</td>\n",
       "    </tr>\n",
       "  </tbody>\n",
       "</table>\n",
       "<p>28829 rows × 7 columns</p>\n",
       "</div>"
      ],
      "text/plain": [
       "       session_id           timestamp  user_id  product_id    event_type  \\\n",
       "1          100001 2021-02-17 09:56:53    102.0      1293.0  VIEW_PRODUCT   \n",
       "3          100002 2021-09-12 14:25:55    102.0      1017.0  VIEW_PRODUCT   \n",
       "4          100002 2021-09-12 14:28:32    102.0      1039.0  VIEW_PRODUCT   \n",
       "5          100002 2021-09-12 14:29:06    102.0      1032.0  VIEW_PRODUCT   \n",
       "6          100002 2021-09-12 14:31:38    102.0      1033.0  VIEW_PRODUCT   \n",
       "...           ...                 ...      ...         ...           ...   \n",
       "39264      110440 2021-08-04 14:52:31    301.0      1222.0  VIEW_PRODUCT   \n",
       "39265      110440 2021-08-04 14:57:08    301.0      1073.0  VIEW_PRODUCT   \n",
       "39266      110440 2021-08-04 14:59:44    301.0      1201.0  VIEW_PRODUCT   \n",
       "39267      110440 2021-08-04 15:00:40      NaN      1072.0  VIEW_PRODUCT   \n",
       "39268      110440 2021-08-04 15:05:12    301.0      1072.0   BUY_PRODUCT   \n",
       "\n",
       "       offered_discount  purchase_id  \n",
       "1                  10.0          NaN  \n",
       "3                  10.0          NaN  \n",
       "4                  10.0          NaN  \n",
       "5                  10.0          NaN  \n",
       "6                  10.0          NaN  \n",
       "...                 ...          ...  \n",
       "39264              10.0          NaN  \n",
       "39265              10.0          NaN  \n",
       "39266              10.0          NaN  \n",
       "39267              10.0          NaN  \n",
       "39268              10.0      27171.0  \n",
       "\n",
       "[28829 rows x 7 columns]"
      ]
     },
     "execution_count": 39,
     "metadata": {},
     "output_type": "execute_result"
    }
   ],
   "source": [
    "sessions_df[sessions_df.session_id.duplicated()]"
   ]
  },
  {
   "cell_type": "code",
   "execution_count": 40,
   "id": "d5655989",
   "metadata": {},
   "outputs": [
    {
     "data": {
      "text/html": [
       "<div>\n",
       "<style scoped>\n",
       "    .dataframe tbody tr th:only-of-type {\n",
       "        vertical-align: middle;\n",
       "    }\n",
       "\n",
       "    .dataframe tbody tr th {\n",
       "        vertical-align: top;\n",
       "    }\n",
       "\n",
       "    .dataframe thead th {\n",
       "        text-align: right;\n",
       "    }\n",
       "</style>\n",
       "<table border=\"1\" class=\"dataframe\">\n",
       "  <thead>\n",
       "    <tr style=\"text-align: right;\">\n",
       "      <th></th>\n",
       "      <th>session_id</th>\n",
       "      <th>timestamp</th>\n",
       "      <th>user_id</th>\n",
       "      <th>product_id</th>\n",
       "      <th>event_type</th>\n",
       "      <th>offered_discount</th>\n",
       "      <th>purchase_id</th>\n",
       "    </tr>\n",
       "  </thead>\n",
       "  <tbody>\n",
       "    <tr>\n",
       "      <th>72</th>\n",
       "      <td>100018</td>\n",
       "      <td>2021-10-10 11:35:27.362751</td>\n",
       "      <td>NaN</td>\n",
       "      <td>1009.0</td>\n",
       "      <td>RETURN_PRODUCT</td>\n",
       "      <td>NaN</td>\n",
       "      <td>20013.0</td>\n",
       "    </tr>\n",
       "    <tr>\n",
       "      <th>105</th>\n",
       "      <td>100026</td>\n",
       "      <td>2021-05-08 12:17:03.000000</td>\n",
       "      <td>NaN</td>\n",
       "      <td>1277.0</td>\n",
       "      <td>BUY_PRODUCT</td>\n",
       "      <td>20.0</td>\n",
       "      <td>20020.0</td>\n",
       "    </tr>\n",
       "    <tr>\n",
       "      <th>228</th>\n",
       "      <td>100060</td>\n",
       "      <td>2021-03-01 18:11:07.000000</td>\n",
       "      <td>NaN</td>\n",
       "      <td>1077.0</td>\n",
       "      <td>BUY_PRODUCT</td>\n",
       "      <td>0.0</td>\n",
       "      <td>20040.0</td>\n",
       "    </tr>\n",
       "    <tr>\n",
       "      <th>284</th>\n",
       "      <td>100074</td>\n",
       "      <td>2021-05-16 16:37:37.000000</td>\n",
       "      <td>NaN</td>\n",
       "      <td>1318.0</td>\n",
       "      <td>BUY_PRODUCT</td>\n",
       "      <td>0.0</td>\n",
       "      <td>20049.0</td>\n",
       "    </tr>\n",
       "    <tr>\n",
       "      <th>300</th>\n",
       "      <td>100077</td>\n",
       "      <td>2021-01-10 08:26:53.000000</td>\n",
       "      <td>NaN</td>\n",
       "      <td>1278.0</td>\n",
       "      <td>BUY_PRODUCT</td>\n",
       "      <td>0.0</td>\n",
       "      <td>20051.0</td>\n",
       "    </tr>\n",
       "    <tr>\n",
       "      <th>...</th>\n",
       "      <td>...</td>\n",
       "      <td>...</td>\n",
       "      <td>...</td>\n",
       "      <td>...</td>\n",
       "      <td>...</td>\n",
       "      <td>...</td>\n",
       "      <td>...</td>\n",
       "    </tr>\n",
       "    <tr>\n",
       "      <th>38684</th>\n",
       "      <td>110278</td>\n",
       "      <td>2021-05-16 20:18:07.000000</td>\n",
       "      <td>NaN</td>\n",
       "      <td>1276.0</td>\n",
       "      <td>BUY_PRODUCT</td>\n",
       "      <td>10.0</td>\n",
       "      <td>27047.0</td>\n",
       "    </tr>\n",
       "    <tr>\n",
       "      <th>38733</th>\n",
       "      <td>110291</td>\n",
       "      <td>2021-04-23 09:35:53.000000</td>\n",
       "      <td>NaN</td>\n",
       "      <td>1076.0</td>\n",
       "      <td>BUY_PRODUCT</td>\n",
       "      <td>0.0</td>\n",
       "      <td>27059.0</td>\n",
       "    </tr>\n",
       "    <tr>\n",
       "      <th>38828</th>\n",
       "      <td>110316</td>\n",
       "      <td>2021-02-18 17:38:00.000000</td>\n",
       "      <td>NaN</td>\n",
       "      <td>1053.0</td>\n",
       "      <td>BUY_PRODUCT</td>\n",
       "      <td>15.0</td>\n",
       "      <td>27080.0</td>\n",
       "    </tr>\n",
       "    <tr>\n",
       "      <th>38923</th>\n",
       "      <td>110346</td>\n",
       "      <td>2021-10-11 06:23:49.000000</td>\n",
       "      <td>NaN</td>\n",
       "      <td>1276.0</td>\n",
       "      <td>BUY_PRODUCT</td>\n",
       "      <td>5.0</td>\n",
       "      <td>27104.0</td>\n",
       "    </tr>\n",
       "    <tr>\n",
       "      <th>39004</th>\n",
       "      <td>110365</td>\n",
       "      <td>2021-07-20 22:22:05.000000</td>\n",
       "      <td>NaN</td>\n",
       "      <td>1317.0</td>\n",
       "      <td>BUY_PRODUCT</td>\n",
       "      <td>0.0</td>\n",
       "      <td>27119.0</td>\n",
       "    </tr>\n",
       "  </tbody>\n",
       "</table>\n",
       "<p>389 rows × 7 columns</p>\n",
       "</div>"
      ],
      "text/plain": [
       "       session_id                  timestamp  user_id  product_id  \\\n",
       "72         100018 2021-10-10 11:35:27.362751      NaN      1009.0   \n",
       "105        100026 2021-05-08 12:17:03.000000      NaN      1277.0   \n",
       "228        100060 2021-03-01 18:11:07.000000      NaN      1077.0   \n",
       "284        100074 2021-05-16 16:37:37.000000      NaN      1318.0   \n",
       "300        100077 2021-01-10 08:26:53.000000      NaN      1278.0   \n",
       "...           ...                        ...      ...         ...   \n",
       "38684      110278 2021-05-16 20:18:07.000000      NaN      1276.0   \n",
       "38733      110291 2021-04-23 09:35:53.000000      NaN      1076.0   \n",
       "38828      110316 2021-02-18 17:38:00.000000      NaN      1053.0   \n",
       "38923      110346 2021-10-11 06:23:49.000000      NaN      1276.0   \n",
       "39004      110365 2021-07-20 22:22:05.000000      NaN      1317.0   \n",
       "\n",
       "           event_type  offered_discount  purchase_id  \n",
       "72     RETURN_PRODUCT               NaN      20013.0  \n",
       "105       BUY_PRODUCT              20.0      20020.0  \n",
       "228       BUY_PRODUCT               0.0      20040.0  \n",
       "284       BUY_PRODUCT               0.0      20049.0  \n",
       "300       BUY_PRODUCT               0.0      20051.0  \n",
       "...               ...               ...          ...  \n",
       "38684     BUY_PRODUCT              10.0      27047.0  \n",
       "38733     BUY_PRODUCT               0.0      27059.0  \n",
       "38828     BUY_PRODUCT              15.0      27080.0  \n",
       "38923     BUY_PRODUCT               5.0      27104.0  \n",
       "39004     BUY_PRODUCT               0.0      27119.0  \n",
       "\n",
       "[389 rows x 7 columns]"
      ]
     },
     "execution_count": 40,
     "metadata": {},
     "output_type": "execute_result"
    }
   ],
   "source": [
    "sessions_df[(sessions_df.user_id.isnull()) & (sessions_df.event_type != \"VIEW_PRODUCT\")]"
   ]
  },
  {
   "cell_type": "markdown",
   "id": "50526a1c",
   "metadata": {},
   "source": [
    "### Statystyki użytkowników, którzy złożyli zamówienie na produkty o nieznanym id"
   ]
  },
  {
   "cell_type": "code",
   "execution_count": 71,
   "id": "9acb672a",
   "metadata": {},
   "outputs": [],
   "source": [
    "prod_nan = sessions_df[sessions_df.product_id.isnull()].copy()"
   ]
  },
  {
   "cell_type": "code",
   "execution_count": 74,
   "id": "917da174",
   "metadata": {},
   "outputs": [
    {
     "data": {
      "text/plain": [
       "185.0    25\n",
       "159.0    24\n",
       "133.0    23\n",
       "188.0    22\n",
       "132.0    22\n",
       "         ..\n",
       "300.0     1\n",
       "174.0     1\n",
       "222.0     1\n",
       "271.0     1\n",
       "284.0     1\n",
       "Name: user_id, Length: 193, dtype: int64"
      ]
     },
     "execution_count": 74,
     "metadata": {},
     "output_type": "execute_result"
    }
   ],
   "source": [
    "prod_nan[\"user_id\"].value_counts()"
   ]
  },
  {
   "cell_type": "code",
   "execution_count": 75,
   "id": "44b9a74a",
   "metadata": {},
   "outputs": [
    {
     "data": {
      "text/plain": [
       "count    193.000000\n",
       "mean       9.321244\n",
       "std        5.980908\n",
       "min        1.000000\n",
       "25%        4.000000\n",
       "50%        9.000000\n",
       "75%       14.000000\n",
       "max       25.000000\n",
       "Name: user_id, dtype: float64"
      ]
     },
     "execution_count": 75,
     "metadata": {},
     "output_type": "execute_result"
    }
   ],
   "source": [
    "(prod_nan[\"user_id\"].value_counts()).describe()"
   ]
  },
  {
   "cell_type": "markdown",
   "id": "b2f03a6a",
   "metadata": {},
   "source": [
    "### Wyznaczenie zależności braków w product_id od miesiąca złożenia zamówienia"
   ]
  },
  {
   "cell_type": "code",
   "execution_count": 96,
   "id": "39952080",
   "metadata": {},
   "outputs": [
    {
     "data": {
      "text/plain": [
       "7     217\n",
       "5     208\n",
       "6     195\n",
       "3     192\n",
       "8     191\n",
       "1     190\n",
       "9     186\n",
       "4     183\n",
       "10    176\n",
       "2     160\n",
       "Name: month, dtype: int64"
      ]
     },
     "execution_count": 96,
     "metadata": {},
     "output_type": "execute_result"
    }
   ],
   "source": [
    "prod_nan[\"month\"] = prod_nan[\"timestamp\"].apply(lambda x:\"%d\" % (x.month))\n",
    "prod_nan[\"month\"].value_counts()"
   ]
  },
  {
   "cell_type": "code",
   "execution_count": 105,
   "id": "0d98ccc8",
   "metadata": {},
   "outputs": [
    {
     "data": {
      "image/png": "[encoded data removed]",
      "text/plain": [
       "<Figure size 432x288 with 1 Axes>"
      ]
     },
     "metadata": {
      "needs_background": "light"
     },
     "output_type": "display_data"
    }
   ],
   "source": [
    "months = prod_nan[\"month\"].value_counts()\n",
    "plot_bar(months, title=\"Liczba zamówień z brakującym id produktu w zależności od miesiąca zamówienia\",\n",
    "         xlabel=\"nr miesiąca\")"
   ]
  },
  {
   "cell_type": "markdown",
   "id": "869917cf",
   "metadata": {},
   "source": [
    "Z tabeli sesji wynika, że dokonano 210 zwrotów, a zakupów - 7171. Braki w atrybucie zniżka wynika z faktu, że zniżki nie były przydzielane przy zwrotach.\n"
   ]
  },
  {
   "cell_type": "markdown",
   "id": "7a29b2df",
   "metadata": {},
   "source": [
    "W tabeli tej id użytkownika brakuje w 2055 miejscach (zakładamy, że jest to niezalogowany użytkownik), id produktu natomiast brakuje w 1898 miejscach. Połowa użytkowników zamówiła co najmniej 9 produktów z nieznanym identyfikatorem, a 75% użytkowników - 14 produktów."
   ]
  },
  {
   "cell_type": "markdown",
   "id": "2e17ef25",
   "metadata": {},
   "source": [
    "Z analizy zależności liczby brakujących id produktu od miesiąca wynika, że na ten brak nie wpływa nr miesiąca"
   ]
  },
  {
   "cell_type": "markdown",
   "id": "4094c853",
   "metadata": {},
   "source": [
    "# Analiza łączna"
   ]
  },
  {
   "cell_type": "markdown",
   "id": "01e5de89",
   "metadata": {},
   "source": [
    "## Ta część została przeprowadzona pod kątem zależności między brakującymi atrybutami z pozostałymi. Nie uwzględniono wartości \"VIEW_PRODUCT\" z atrybutu event_type "
   ]
  },
  {
   "cell_type": "markdown",
   "id": "c415a423",
   "metadata": {},
   "source": [
    "### Połączenie tabeli dostaw z tabelą sesji"
   ]
  },
  {
   "cell_type": "code",
   "execution_count": 44,
   "id": "50c545f3",
   "metadata": {},
   "outputs": [
    {
     "data": {
      "text/html": [
       "<div>\n",
       "<style scoped>\n",
       "    .dataframe tbody tr th:only-of-type {\n",
       "        vertical-align: middle;\n",
       "    }\n",
       "\n",
       "    .dataframe tbody tr th {\n",
       "        vertical-align: top;\n",
       "    }\n",
       "\n",
       "    .dataframe thead th {\n",
       "        text-align: right;\n",
       "    }\n",
       "</style>\n",
       "<table border=\"1\" class=\"dataframe\">\n",
       "  <thead>\n",
       "    <tr style=\"text-align: right;\">\n",
       "      <th></th>\n",
       "      <th>session_id</th>\n",
       "      <th>timestamp</th>\n",
       "      <th>user_id</th>\n",
       "      <th>product_id</th>\n",
       "      <th>event_type</th>\n",
       "      <th>offered_discount</th>\n",
       "      <th>purchase_id</th>\n",
       "      <th>purchase_timestamp</th>\n",
       "      <th>delivery_timestamp</th>\n",
       "      <th>delivery_company</th>\n",
       "      <th>deliver_time</th>\n",
       "    </tr>\n",
       "  </thead>\n",
       "  <tbody>\n",
       "    <tr>\n",
       "      <th>13</th>\n",
       "      <td>100018</td>\n",
       "      <td>2021-10-10 11:35:27.362751</td>\n",
       "      <td>NaN</td>\n",
       "      <td>1009.0</td>\n",
       "      <td>RETURN_PRODUCT</td>\n",
       "      <td>NaN</td>\n",
       "      <td>20013.0</td>\n",
       "      <td>2021-10-04 16:35:21</td>\n",
       "      <td>2021-10-09 16:37:48</td>\n",
       "      <td>620.0</td>\n",
       "      <td>5.001701</td>\n",
       "    </tr>\n",
       "    <tr>\n",
       "      <th>79</th>\n",
       "      <td>100125</td>\n",
       "      <td>2021-07-22 12:54:48.262470</td>\n",
       "      <td>103.0</td>\n",
       "      <td>NaN</td>\n",
       "      <td>RETURN_PRODUCT</td>\n",
       "      <td>NaN</td>\n",
       "      <td>20078.0</td>\n",
       "      <td>2021-07-11 23:58:20</td>\n",
       "      <td>2021-07-17 00:01:56</td>\n",
       "      <td>360.0</td>\n",
       "      <td>5.002500</td>\n",
       "    </tr>\n",
       "    <tr>\n",
       "      <th>122</th>\n",
       "      <td>100181</td>\n",
       "      <td>2021-05-08 06:13:06.060623</td>\n",
       "      <td>104.0</td>\n",
       "      <td>1283.0</td>\n",
       "      <td>RETURN_PRODUCT</td>\n",
       "      <td>NaN</td>\n",
       "      <td>20120.0</td>\n",
       "      <td>2021-05-02 11:30:28</td>\n",
       "      <td>NaT</td>\n",
       "      <td>620.0</td>\n",
       "      <td>NaN</td>\n",
       "    </tr>\n",
       "    <tr>\n",
       "      <th>170</th>\n",
       "      <td>100247</td>\n",
       "      <td>2021-09-09 01:30:23.640711</td>\n",
       "      <td>105.0</td>\n",
       "      <td>1276.0</td>\n",
       "      <td>RETURN_PRODUCT</td>\n",
       "      <td>NaN</td>\n",
       "      <td>20167.0</td>\n",
       "      <td>2021-08-28 22:03:09</td>\n",
       "      <td>2021-08-31 22:06:49</td>\n",
       "      <td>516.0</td>\n",
       "      <td>3.002546</td>\n",
       "    </tr>\n",
       "    <tr>\n",
       "      <th>200</th>\n",
       "      <td>100290</td>\n",
       "      <td>2021-10-10 17:15:23.315240</td>\n",
       "      <td>106.0</td>\n",
       "      <td>1292.0</td>\n",
       "      <td>RETURN_PRODUCT</td>\n",
       "      <td>NaN</td>\n",
       "      <td>20196.0</td>\n",
       "      <td>2021-10-05 08:14:30</td>\n",
       "      <td>2021-10-07 08:16:25</td>\n",
       "      <td>360.0</td>\n",
       "      <td>2.001331</td>\n",
       "    </tr>\n",
       "    <tr>\n",
       "      <th>...</th>\n",
       "      <td>...</td>\n",
       "      <td>...</td>\n",
       "      <td>...</td>\n",
       "      <td>...</td>\n",
       "      <td>...</td>\n",
       "      <td>...</td>\n",
       "      <td>...</td>\n",
       "      <td>...</td>\n",
       "      <td>...</td>\n",
       "      <td>...</td>\n",
       "      <td>...</td>\n",
       "    </tr>\n",
       "    <tr>\n",
       "      <th>7113</th>\n",
       "      <td>110082</td>\n",
       "      <td>2021-09-14 07:28:24.935583</td>\n",
       "      <td>295.0</td>\n",
       "      <td>1053.0</td>\n",
       "      <td>RETURN_PRODUCT</td>\n",
       "      <td>NaN</td>\n",
       "      <td>26908.0</td>\n",
       "      <td>2021-09-02 13:10:20</td>\n",
       "      <td>2021-09-06 13:12:10</td>\n",
       "      <td>516.0</td>\n",
       "      <td>4.001273</td>\n",
       "    </tr>\n",
       "    <tr>\n",
       "      <th>7203</th>\n",
       "      <td>110205</td>\n",
       "      <td>2021-03-12 14:28:45.706929</td>\n",
       "      <td>297.0</td>\n",
       "      <td>NaN</td>\n",
       "      <td>RETURN_PRODUCT</td>\n",
       "      <td>NaN</td>\n",
       "      <td>26997.0</td>\n",
       "      <td>2021-03-02 22:19:59</td>\n",
       "      <td>2021-03-06 22:21:26</td>\n",
       "      <td>516.0</td>\n",
       "      <td>4.001007</td>\n",
       "    </tr>\n",
       "    <tr>\n",
       "      <th>7313</th>\n",
       "      <td>110350</td>\n",
       "      <td>2021-03-05 00:13:34.026351</td>\n",
       "      <td>298.0</td>\n",
       "      <td>1003.0</td>\n",
       "      <td>RETURN_PRODUCT</td>\n",
       "      <td>NaN</td>\n",
       "      <td>27106.0</td>\n",
       "      <td>2021-02-22 20:20:57</td>\n",
       "      <td>2021-02-24 20:24:24</td>\n",
       "      <td>516.0</td>\n",
       "      <td>2.002396</td>\n",
       "    </tr>\n",
       "    <tr>\n",
       "      <th>7329</th>\n",
       "      <td>110370</td>\n",
       "      <td>2021-09-12 07:19:54.112534</td>\n",
       "      <td>298.0</td>\n",
       "      <td>1079.0</td>\n",
       "      <td>RETURN_PRODUCT</td>\n",
       "      <td>NaN</td>\n",
       "      <td>27121.0</td>\n",
       "      <td>2021-09-02 10:37:06</td>\n",
       "      <td>NaT</td>\n",
       "      <td>360.0</td>\n",
       "      <td>NaN</td>\n",
       "    </tr>\n",
       "    <tr>\n",
       "      <th>7354</th>\n",
       "      <td>110407</td>\n",
       "      <td>2021-04-13 01:40:44.677024</td>\n",
       "      <td>301.0</td>\n",
       "      <td>1281.0</td>\n",
       "      <td>RETURN_PRODUCT</td>\n",
       "      <td>NaN</td>\n",
       "      <td>27145.0</td>\n",
       "      <td>2021-04-02 04:25:14</td>\n",
       "      <td>2021-04-06 04:27:12</td>\n",
       "      <td>620.0</td>\n",
       "      <td>4.001366</td>\n",
       "    </tr>\n",
       "  </tbody>\n",
       "</table>\n",
       "<p>210 rows × 11 columns</p>\n",
       "</div>"
      ],
      "text/plain": [
       "      session_id                  timestamp  user_id  product_id  \\\n",
       "13        100018 2021-10-10 11:35:27.362751      NaN      1009.0   \n",
       "79        100125 2021-07-22 12:54:48.262470    103.0         NaN   \n",
       "122       100181 2021-05-08 06:13:06.060623    104.0      1283.0   \n",
       "170       100247 2021-09-09 01:30:23.640711    105.0      1276.0   \n",
       "200       100290 2021-10-10 17:15:23.315240    106.0      1292.0   \n",
       "...          ...                        ...      ...         ...   \n",
       "7113      110082 2021-09-14 07:28:24.935583    295.0      1053.0   \n",
       "7203      110205 2021-03-12 14:28:45.706929    297.0         NaN   \n",
       "7313      110350 2021-03-05 00:13:34.026351    298.0      1003.0   \n",
       "7329      110370 2021-09-12 07:19:54.112534    298.0      1079.0   \n",
       "7354      110407 2021-04-13 01:40:44.677024    301.0      1281.0   \n",
       "\n",
       "          event_type  offered_discount  purchase_id  purchase_timestamp  \\\n",
       "13    RETURN_PRODUCT               NaN      20013.0 2021-10-04 16:35:21   \n",
       "79    RETURN_PRODUCT               NaN      20078.0 2021-07-11 23:58:20   \n",
       "122   RETURN_PRODUCT               NaN      20120.0 2021-05-02 11:30:28   \n",
       "170   RETURN_PRODUCT               NaN      20167.0 2021-08-28 22:03:09   \n",
       "200   RETURN_PRODUCT               NaN      20196.0 2021-10-05 08:14:30   \n",
       "...              ...               ...          ...                 ...   \n",
       "7113  RETURN_PRODUCT               NaN      26908.0 2021-09-02 13:10:20   \n",
       "7203  RETURN_PRODUCT               NaN      26997.0 2021-03-02 22:19:59   \n",
       "7313  RETURN_PRODUCT               NaN      27106.0 2021-02-22 20:20:57   \n",
       "7329  RETURN_PRODUCT               NaN      27121.0 2021-09-02 10:37:06   \n",
       "7354  RETURN_PRODUCT               NaN      27145.0 2021-04-02 04:25:14   \n",
       "\n",
       "      delivery_timestamp  delivery_company  deliver_time  \n",
       "13   2021-10-09 16:37:48             620.0      5.001701  \n",
       "79   2021-07-17 00:01:56             360.0      5.002500  \n",
       "122                  NaT             620.0           NaN  \n",
       "170  2021-08-31 22:06:49             516.0      3.002546  \n",
       "200  2021-10-07 08:16:25             360.0      2.001331  \n",
       "...                  ...               ...           ...  \n",
       "7113 2021-09-06 13:12:10             516.0      4.001273  \n",
       "7203 2021-03-06 22:21:26             516.0      4.001007  \n",
       "7313 2021-02-24 20:24:24             516.0      2.002396  \n",
       "7329                 NaT             360.0           NaN  \n",
       "7354 2021-04-06 04:27:12             620.0      4.001366  \n",
       "\n",
       "[210 rows x 11 columns]"
      ]
     },
     "execution_count": 44,
     "metadata": {},
     "output_type": "execute_result"
    }
   ],
   "source": [
    "deliv_sess_df =  pd.merge(sessions_df, deliveries_df, how='inner', on = 'purchase_id')\n",
    "deliv_sess_df[deliv_sess_df.event_type == \"RETURN_PRODUCT\"]"
   ]
  },
  {
   "cell_type": "markdown",
   "id": "aa6d8a3e",
   "metadata": {},
   "source": [
    "### Wyznaczenie histogramu czasu dostawy zamówień zwróconych "
   ]
  },
  {
   "cell_type": "code",
   "execution_count": 80,
   "id": "0cd1159a",
   "metadata": {},
   "outputs": [
    {
     "data": {
      "text/plain": [
       "4.001273    3\n",
       "3.001678    2\n",
       "5.001308    2\n",
       "3.002824    2\n",
       "5.001701    2\n",
       "           ..\n",
       "5.002535    1\n",
       "3.000660    1\n",
       "2.002072    1\n",
       "4.001991    1\n",
       "3.000903    1\n",
       "Name: deliver_time, Length: 190, dtype: int64"
      ]
     },
     "execution_count": 80,
     "metadata": {},
     "output_type": "execute_result"
    }
   ],
   "source": [
    "deliv_sess_df[deliv_sess_df.event_type == \"RETURN_PRODUCT\"].deliver_time.value_counts()"
   ]
  },
  {
   "cell_type": "code",
   "execution_count": 81,
   "id": "1ec19a23",
   "metadata": {},
   "outputs": [
    {
     "data": {
      "image/png": "[encoded data removed]",
      "text/plain": [
       "<Figure size 432x288 with 1 Axes>"
      ]
     },
     "metadata": {
      "needs_background": "light"
     },
     "output_type": "display_data"
    }
   ],
   "source": [
    "bins = np.arange(1,8)\n",
    "a_df = deliv_sess_df[deliv_sess_df.event_type == \"RETURN_PRODUCT\"]\n",
    "plt.hist(a_df[\"deliver_time\"], bins=bins, edgecolor='black')\n",
    "plt.show()"
   ]
  },
  {
   "cell_type": "markdown",
   "id": "f9e469cb",
   "metadata": {},
   "source": [
    "### Wnioski"
   ]
  },
  {
   "cell_type": "markdown",
   "id": "cf2e39dc",
   "metadata": {},
   "source": [
    "Czas dostawy z nieparzystą ilością dni częściej spotykał się ze zwrotem produktu, jednak na tej podstawie nie można wywnioskować, że jeśli czas dostawy w dniach jest nieparzysty, to produkt zostanie zwrócony."
   ]
  },
  {
   "cell_type": "markdown",
   "id": "9e45d4aa",
   "metadata": {},
   "source": [
    "## Dodanie tabeli produktów do tabel z dostawami i sesjami"
   ]
  },
  {
   "cell_type": "code",
   "execution_count": 54,
   "id": "6127c20c",
   "metadata": {
    "scrolled": true
   },
   "outputs": [
    {
     "data": {
      "text/html": [
       "<div>\n",
       "<style scoped>\n",
       "    .dataframe tbody tr th:only-of-type {\n",
       "        vertical-align: middle;\n",
       "    }\n",
       "\n",
       "    .dataframe tbody tr th {\n",
       "        vertical-align: top;\n",
       "    }\n",
       "\n",
       "    .dataframe thead th {\n",
       "        text-align: right;\n",
       "    }\n",
       "</style>\n",
       "<table border=\"1\" class=\"dataframe\">\n",
       "  <thead>\n",
       "    <tr style=\"text-align: right;\">\n",
       "      <th></th>\n",
       "      <th>session_id</th>\n",
       "      <th>timestamp</th>\n",
       "      <th>user_id</th>\n",
       "      <th>product_id</th>\n",
       "      <th>event_type</th>\n",
       "      <th>offered_discount</th>\n",
       "      <th>purchase_id</th>\n",
       "      <th>purchase_timestamp</th>\n",
       "      <th>delivery_timestamp</th>\n",
       "      <th>delivery_company</th>\n",
       "      <th>deliver_time</th>\n",
       "      <th>product_name</th>\n",
       "      <th>category_path</th>\n",
       "      <th>price</th>\n",
       "    </tr>\n",
       "  </thead>\n",
       "  <tbody>\n",
       "    <tr>\n",
       "      <th>0</th>\n",
       "      <td>100002</td>\n",
       "      <td>2021-09-12 14:40:47</td>\n",
       "      <td>102.0</td>\n",
       "      <td>1037.0</td>\n",
       "      <td>BUY_PRODUCT</td>\n",
       "      <td>10.0</td>\n",
       "      <td>20001.0</td>\n",
       "      <td>2021-09-12 14:40:47</td>\n",
       "      <td>NaT</td>\n",
       "      <td>620.0</td>\n",
       "      <td>NaN</td>\n",
       "      <td>LCD Asus VK248H</td>\n",
       "      <td>Komputery;Monitory;Monitory LCD</td>\n",
       "      <td>799.0</td>\n",
       "    </tr>\n",
       "    <tr>\n",
       "      <th>1</th>\n",
       "      <td>100518</td>\n",
       "      <td>2021-05-16 16:34:31</td>\n",
       "      <td>109.0</td>\n",
       "      <td>1037.0</td>\n",
       "      <td>BUY_PRODUCT</td>\n",
       "      <td>10.0</td>\n",
       "      <td>20354.0</td>\n",
       "      <td>2021-05-16 16:34:31</td>\n",
       "      <td>2021-05-21 16:36:04</td>\n",
       "      <td>516.0</td>\n",
       "      <td>5.001076</td>\n",
       "      <td>LCD Asus VK248H</td>\n",
       "      <td>Komputery;Monitory;Monitory LCD</td>\n",
       "      <td>799.0</td>\n",
       "    </tr>\n",
       "    <tr>\n",
       "      <th>2</th>\n",
       "      <td>101646</td>\n",
       "      <td>2021-01-05 02:33:51</td>\n",
       "      <td>130.0</td>\n",
       "      <td>1037.0</td>\n",
       "      <td>BUY_PRODUCT</td>\n",
       "      <td>15.0</td>\n",
       "      <td>21111.0</td>\n",
       "      <td>2021-01-05 02:33:51</td>\n",
       "      <td>2021-01-09 02:37:06</td>\n",
       "      <td>620.0</td>\n",
       "      <td>4.002257</td>\n",
       "      <td>LCD Asus VK248H</td>\n",
       "      <td>Komputery;Monitory;Monitory LCD</td>\n",
       "      <td>799.0</td>\n",
       "    </tr>\n",
       "    <tr>\n",
       "      <th>3</th>\n",
       "      <td>101782</td>\n",
       "      <td>2021-05-30 12:32:05</td>\n",
       "      <td>132.0</td>\n",
       "      <td>1037.0</td>\n",
       "      <td>BUY_PRODUCT</td>\n",
       "      <td>10.0</td>\n",
       "      <td>21205.0</td>\n",
       "      <td>2021-05-30 12:32:05</td>\n",
       "      <td>2021-06-03 12:36:46</td>\n",
       "      <td>516.0</td>\n",
       "      <td>4.003252</td>\n",
       "      <td>LCD Asus VK248H</td>\n",
       "      <td>Komputery;Monitory;Monitory LCD</td>\n",
       "      <td>799.0</td>\n",
       "    </tr>\n",
       "    <tr>\n",
       "      <th>4</th>\n",
       "      <td>101838</td>\n",
       "      <td>2021-07-12 10:20:25</td>\n",
       "      <td>133.0</td>\n",
       "      <td>1037.0</td>\n",
       "      <td>BUY_PRODUCT</td>\n",
       "      <td>20.0</td>\n",
       "      <td>21246.0</td>\n",
       "      <td>2021-07-12 10:20:25</td>\n",
       "      <td>2021-07-14 10:23:26</td>\n",
       "      <td>620.0</td>\n",
       "      <td>2.002095</td>\n",
       "      <td>LCD Asus VK248H</td>\n",
       "      <td>Komputery;Monitory;Monitory LCD</td>\n",
       "      <td>799.0</td>\n",
       "    </tr>\n",
       "    <tr>\n",
       "      <th>...</th>\n",
       "      <td>...</td>\n",
       "      <td>...</td>\n",
       "      <td>...</td>\n",
       "      <td>...</td>\n",
       "      <td>...</td>\n",
       "      <td>...</td>\n",
       "      <td>...</td>\n",
       "      <td>...</td>\n",
       "      <td>...</td>\n",
       "      <td>...</td>\n",
       "      <td>...</td>\n",
       "      <td>...</td>\n",
       "      <td>...</td>\n",
       "      <td>...</td>\n",
       "    </tr>\n",
       "    <tr>\n",
       "      <th>7015</th>\n",
       "      <td>109106</td>\n",
       "      <td>2021-06-13 18:17:35</td>\n",
       "      <td>274.0</td>\n",
       "      <td>1084.0</td>\n",
       "      <td>BUY_PRODUCT</td>\n",
       "      <td>15.0</td>\n",
       "      <td>26231.0</td>\n",
       "      <td>2021-06-13 18:17:35</td>\n",
       "      <td>NaT</td>\n",
       "      <td>516.0</td>\n",
       "      <td>NaN</td>\n",
       "      <td>Sing It High School Musical 3 (PS3)</td>\n",
       "      <td>Gry i konsole;Gry na konsole;Gry PlayStation3</td>\n",
       "      <td>99990000.0</td>\n",
       "    </tr>\n",
       "    <tr>\n",
       "      <th>7016</th>\n",
       "      <td>109367</td>\n",
       "      <td>2021-10-25 06:18:03</td>\n",
       "      <td>282.0</td>\n",
       "      <td>1084.0</td>\n",
       "      <td>BUY_PRODUCT</td>\n",
       "      <td>10.0</td>\n",
       "      <td>26416.0</td>\n",
       "      <td>2021-10-25 06:18:03</td>\n",
       "      <td>2021-10-30 06:21:54</td>\n",
       "      <td>516.0</td>\n",
       "      <td>5.002674</td>\n",
       "      <td>Sing It High School Musical 3 (PS3)</td>\n",
       "      <td>Gry i konsole;Gry na konsole;Gry PlayStation3</td>\n",
       "      <td>99990000.0</td>\n",
       "    </tr>\n",
       "    <tr>\n",
       "      <th>7017</th>\n",
       "      <td>109448</td>\n",
       "      <td>2021-07-28 13:04:09</td>\n",
       "      <td>283.0</td>\n",
       "      <td>1084.0</td>\n",
       "      <td>BUY_PRODUCT</td>\n",
       "      <td>15.0</td>\n",
       "      <td>26470.0</td>\n",
       "      <td>2021-07-28 13:04:09</td>\n",
       "      <td>2021-08-01 13:08:31</td>\n",
       "      <td>620.0</td>\n",
       "      <td>4.003032</td>\n",
       "      <td>Sing It High School Musical 3 (PS3)</td>\n",
       "      <td>Gry i konsole;Gry na konsole;Gry PlayStation3</td>\n",
       "      <td>99990000.0</td>\n",
       "    </tr>\n",
       "    <tr>\n",
       "      <th>7018</th>\n",
       "      <td>109759</td>\n",
       "      <td>2021-09-08 23:38:35</td>\n",
       "      <td>290.0</td>\n",
       "      <td>1084.0</td>\n",
       "      <td>BUY_PRODUCT</td>\n",
       "      <td>20.0</td>\n",
       "      <td>26691.0</td>\n",
       "      <td>2021-09-08 23:38:35</td>\n",
       "      <td>2021-09-13 23:42:36</td>\n",
       "      <td>516.0</td>\n",
       "      <td>5.002789</td>\n",
       "      <td>Sing It High School Musical 3 (PS3)</td>\n",
       "      <td>Gry i konsole;Gry na konsole;Gry PlayStation3</td>\n",
       "      <td>99990000.0</td>\n",
       "    </tr>\n",
       "    <tr>\n",
       "      <th>7019</th>\n",
       "      <td>110430</td>\n",
       "      <td>2021-09-14 17:45:48</td>\n",
       "      <td>301.0</td>\n",
       "      <td>1084.0</td>\n",
       "      <td>BUY_PRODUCT</td>\n",
       "      <td>20.0</td>\n",
       "      <td>27164.0</td>\n",
       "      <td>2021-09-14 17:45:48</td>\n",
       "      <td>NaT</td>\n",
       "      <td>360.0</td>\n",
       "      <td>NaN</td>\n",
       "      <td>Sing It High School Musical 3 (PS3)</td>\n",
       "      <td>Gry i konsole;Gry na konsole;Gry PlayStation3</td>\n",
       "      <td>99990000.0</td>\n",
       "    </tr>\n",
       "  </tbody>\n",
       "</table>\n",
       "<p>7020 rows × 14 columns</p>\n",
       "</div>"
      ],
      "text/plain": [
       "      session_id           timestamp  user_id  product_id   event_type  \\\n",
       "0         100002 2021-09-12 14:40:47    102.0      1037.0  BUY_PRODUCT   \n",
       "1         100518 2021-05-16 16:34:31    109.0      1037.0  BUY_PRODUCT   \n",
       "2         101646 2021-01-05 02:33:51    130.0      1037.0  BUY_PRODUCT   \n",
       "3         101782 2021-05-30 12:32:05    132.0      1037.0  BUY_PRODUCT   \n",
       "4         101838 2021-07-12 10:20:25    133.0      1037.0  BUY_PRODUCT   \n",
       "...          ...                 ...      ...         ...          ...   \n",
       "7015      109106 2021-06-13 18:17:35    274.0      1084.0  BUY_PRODUCT   \n",
       "7016      109367 2021-10-25 06:18:03    282.0      1084.0  BUY_PRODUCT   \n",
       "7017      109448 2021-07-28 13:04:09    283.0      1084.0  BUY_PRODUCT   \n",
       "7018      109759 2021-09-08 23:38:35    290.0      1084.0  BUY_PRODUCT   \n",
       "7019      110430 2021-09-14 17:45:48    301.0      1084.0  BUY_PRODUCT   \n",
       "\n",
       "      offered_discount  purchase_id  purchase_timestamp  delivery_timestamp  \\\n",
       "0                 10.0      20001.0 2021-09-12 14:40:47                 NaT   \n",
       "1                 10.0      20354.0 2021-05-16 16:34:31 2021-05-21 16:36:04   \n",
       "2                 15.0      21111.0 2021-01-05 02:33:51 2021-01-09 02:37:06   \n",
       "3                 10.0      21205.0 2021-05-30 12:32:05 2021-06-03 12:36:46   \n",
       "4                 20.0      21246.0 2021-07-12 10:20:25 2021-07-14 10:23:26   \n",
       "...                ...          ...                 ...                 ...   \n",
       "7015              15.0      26231.0 2021-06-13 18:17:35                 NaT   \n",
       "7016              10.0      26416.0 2021-10-25 06:18:03 2021-10-30 06:21:54   \n",
       "7017              15.0      26470.0 2021-07-28 13:04:09 2021-08-01 13:08:31   \n",
       "7018              20.0      26691.0 2021-09-08 23:38:35 2021-09-13 23:42:36   \n",
       "7019              20.0      27164.0 2021-09-14 17:45:48                 NaT   \n",
       "\n",
       "      delivery_company  deliver_time                         product_name  \\\n",
       "0                620.0           NaN                      LCD Asus VK248H   \n",
       "1                516.0      5.001076                      LCD Asus VK248H   \n",
       "2                620.0      4.002257                      LCD Asus VK248H   \n",
       "3                516.0      4.003252                      LCD Asus VK248H   \n",
       "4                620.0      2.002095                      LCD Asus VK248H   \n",
       "...                ...           ...                                  ...   \n",
       "7015             516.0           NaN  Sing It High School Musical 3 (PS3)   \n",
       "7016             516.0      5.002674  Sing It High School Musical 3 (PS3)   \n",
       "7017             620.0      4.003032  Sing It High School Musical 3 (PS3)   \n",
       "7018             516.0      5.002789  Sing It High School Musical 3 (PS3)   \n",
       "7019             360.0           NaN  Sing It High School Musical 3 (PS3)   \n",
       "\n",
       "                                      category_path       price  \n",
       "0                   Komputery;Monitory;Monitory LCD       799.0  \n",
       "1                   Komputery;Monitory;Monitory LCD       799.0  \n",
       "2                   Komputery;Monitory;Monitory LCD       799.0  \n",
       "3                   Komputery;Monitory;Monitory LCD       799.0  \n",
       "4                   Komputery;Monitory;Monitory LCD       799.0  \n",
       "...                                             ...         ...  \n",
       "7015  Gry i konsole;Gry na konsole;Gry PlayStation3  99990000.0  \n",
       "7016  Gry i konsole;Gry na konsole;Gry PlayStation3  99990000.0  \n",
       "7017  Gry i konsole;Gry na konsole;Gry PlayStation3  99990000.0  \n",
       "7018  Gry i konsole;Gry na konsole;Gry PlayStation3  99990000.0  \n",
       "7019  Gry i konsole;Gry na konsole;Gry PlayStation3  99990000.0  \n",
       "\n",
       "[7020 rows x 14 columns]"
      ]
     },
     "execution_count": 54,
     "metadata": {},
     "output_type": "execute_result"
    }
   ],
   "source": [
    "deliv_sess_prod_df = pd.merge(deliv_sess_df, products_df, how='inner', on = 'product_id')\n",
    "deliv_sess_prod_df"
   ]
  },
  {
   "cell_type": "markdown",
   "id": "59ecacac",
   "metadata": {},
   "source": [
    "### Liczba zamówień w zależności od kategorii"
   ]
  },
  {
   "cell_type": "code",
   "execution_count": 98,
   "id": "ebac97a9",
   "metadata": {},
   "outputs": [
    {
     "data": {
      "text/plain": [
       "Komputery;Monitory;Monitory LCD                                      534\n",
       "Komputery;Drukarki i skanery;Biurowe urządzenia wielofunkcyjne       527\n",
       "Gry i konsole;Gry komputerowe                                        487\n",
       "Sprzęt RTV;Video;Odtwarzacze DVD                                     486\n",
       "Telefony i akcesoria;Telefony stacjonarne                            478\n",
       "Sprzęt RTV;Przenośne audio i video;Odtwarzacze mp3 i mp4             468\n",
       "Telefony i akcesoria;Telefony komórkowe                              457\n",
       "Telefony i akcesoria;Akcesoria telefoniczne;Zestawy słuchawkowe      452\n",
       "Sprzęt RTV;Video;Telewizory i akcesoria;Anteny RTV                   451\n",
       "Gry i konsole;Gry na konsole;Gry Xbox 360                            448\n",
       "Komputery;Tablety i akcesoria;Tablety                                448\n",
       "Sprzęt RTV;Video;Telewizory i akcesoria;Okulary 3D                   447\n",
       "Gry i konsole;Gry na konsole;Gry PlayStation3                        446\n",
       "Sprzęt RTV;Audio;Słuchawki                                           446\n",
       "Telefony i akcesoria;Akcesoria telefoniczne;Zestawy głośnomówiące    445\n",
       "Name: category_path, dtype: int64"
      ]
     },
     "execution_count": 98,
     "metadata": {},
     "output_type": "execute_result"
    }
   ],
   "source": [
    "deliv_sess_prod_df[\"category_path\"].value_counts()"
   ]
  },
  {
   "cell_type": "code",
   "execution_count": 100,
   "id": "5f917815",
   "metadata": {},
   "outputs": [
    {
     "data": {
      "image/png": "[encoded data removed]",
      "text/plain": [
       "<Figure size 432x288 with 1 Axes>"
      ]
     },
     "metadata": {
      "needs_background": "light"
     },
     "output_type": "display_data"
    }
   ],
   "source": [
    "categories = deliv_sess_prod_df[\"category_path\"].value_counts()\n",
    "plot_bar(categories, rotation=90, \n",
    "         title=\"Zależność między liczbą wierszy a kategorią produktu\")"
   ]
  },
  {
   "cell_type": "markdown",
   "id": "69df5698",
   "metadata": {},
   "source": [
    "### Wyznaczenie zależności braków w delivery_timestamp od kategorii produktu"
   ]
  },
  {
   "cell_type": "code",
   "execution_count": 91,
   "id": "b505f776",
   "metadata": {},
   "outputs": [
    {
     "data": {
      "text/plain": [
       "Gry i konsole;Gry komputerowe                                        34\n",
       "Komputery;Drukarki i skanery;Biurowe urządzenia wielofunkcyjne       26\n",
       "Telefony i akcesoria;Telefony komórkowe                              25\n",
       "Gry i konsole;Gry na konsole;Gry PlayStation3                        25\n",
       "Komputery;Tablety i akcesoria;Tablety                                25\n",
       "Telefony i akcesoria;Akcesoria telefoniczne;Zestawy głośnomówiące    23\n",
       "Sprzęt RTV;Video;Odtwarzacze DVD                                     22\n",
       "Sprzęt RTV;Video;Telewizory i akcesoria;Okulary 3D                   22\n",
       "Komputery;Monitory;Monitory LCD                                      21\n",
       "Telefony i akcesoria;Akcesoria telefoniczne;Zestawy słuchawkowe      20\n",
       "Telefony i akcesoria;Telefony stacjonarne                            19\n",
       "Sprzęt RTV;Przenośne audio i video;Odtwarzacze mp3 i mp4             18\n",
       "Sprzęt RTV;Audio;Słuchawki                                           18\n",
       "Gry i konsole;Gry na konsole;Gry Xbox 360                            17\n",
       "Sprzęt RTV;Video;Telewizory i akcesoria;Anteny RTV                   15\n",
       "Name: category_path, dtype: int64"
      ]
     },
     "execution_count": 91,
     "metadata": {},
     "output_type": "execute_result"
    }
   ],
   "source": [
    "deliv_sess_prod_df[deliv_sess_prod_df.delivery_timestamp.isnull()].category_path.value_counts()"
   ]
  },
  {
   "cell_type": "code",
   "execution_count": 106,
   "id": "3ec84e70",
   "metadata": {},
   "outputs": [
    {
     "data": {
      "text/plain": [
       "330"
      ]
     },
     "execution_count": 106,
     "metadata": {},
     "output_type": "execute_result"
    }
   ],
   "source": [
    "(deliv_sess_prod_df[deliv_sess_prod_df.delivery_timestamp.isnull()].category_path.value_counts()).sum()"
   ]
  },
  {
   "cell_type": "code",
   "execution_count": 94,
   "id": "8aad8c34",
   "metadata": {},
   "outputs": [
    {
     "data": {
      "image/png": "[encoded data removed]",
      "text/plain": [
       "<Figure size 432x288 with 1 Axes>"
      ]
     },
     "metadata": {
      "needs_background": "light"
     },
     "output_type": "display_data"
    }
   ],
   "source": [
    "categories = deliv_sess_prod_df[deliv_sess_prod_df.delivery_timestamp.isnull()].category_path.value_counts()\n",
    "plot_bar(categories, rotation=90, \n",
    "         title=\"Zależność między liczbą wierszy z brakującym czasem dostawy a kategorią produktu\")"
   ]
  },
  {
   "cell_type": "markdown",
   "id": "b51ea36f",
   "metadata": {},
   "source": [
    "### Wyznaczenie zależności braków w delivery_company od kategorii produktu"
   ]
  },
  {
   "cell_type": "code",
   "execution_count": 55,
   "id": "bd82a133",
   "metadata": {},
   "outputs": [
    {
     "data": {
      "text/plain": [
       "Komputery;Monitory;Monitory LCD                                      31\n",
       "Telefony i akcesoria;Telefony stacjonarne                            31\n",
       "Komputery;Drukarki i skanery;Biurowe urządzenia wielofunkcyjne       31\n",
       "Sprzęt RTV;Video;Telewizory i akcesoria;Anteny RTV                   28\n",
       "Gry i konsole;Gry na konsole;Gry Xbox 360                            28\n",
       "Telefony i akcesoria;Telefony komórkowe                              26\n",
       "Sprzęt RTV;Video;Telewizory i akcesoria;Okulary 3D                   24\n",
       "Gry i konsole;Gry na konsole;Gry PlayStation3                        23\n",
       "Sprzęt RTV;Przenośne audio i video;Odtwarzacze mp3 i mp4             22\n",
       "Telefony i akcesoria;Akcesoria telefoniczne;Zestawy głośnomówiące    22\n",
       "Sprzęt RTV;Video;Odtwarzacze DVD                                     20\n",
       "Gry i konsole;Gry komputerowe                                        20\n",
       "Komputery;Tablety i akcesoria;Tablety                                20\n",
       "Telefony i akcesoria;Akcesoria telefoniczne;Zestawy słuchawkowe      19\n",
       "Sprzęt RTV;Audio;Słuchawki                                           17\n",
       "Name: category_path, dtype: int64"
      ]
     },
     "execution_count": 55,
     "metadata": {},
     "output_type": "execute_result"
    }
   ],
   "source": [
    "deliv_sess_prod_df[deliv_sess_prod_df.delivery_company.isnull()].category_path.value_counts()"
   ]
  },
  {
   "cell_type": "code",
   "execution_count": 93,
   "id": "4fbc70bb",
   "metadata": {},
   "outputs": [
    {
     "data": {
      "image/png": "[encoded data removed]",
      "text/plain": [
       "<Figure size 432x288 with 1 Axes>"
      ]
     },
     "metadata": {
      "needs_background": "light"
     },
     "output_type": "display_data"
    }
   ],
   "source": [
    "categories = deliv_sess_prod_df[deliv_sess_prod_df.delivery_company.isnull()].category_path.value_counts()\n",
    "plot_bar(categories, rotation=90, \n",
    "         title=\"Zależność między liczbą wierszy z brakującym id kuriera a kategorią produktu\")"
   ]
  },
  {
   "cell_type": "markdown",
   "id": "e5741fba",
   "metadata": {},
   "source": [
    "### Wnioski"
   ]
  },
  {
   "cell_type": "markdown",
   "id": "06a31708",
   "metadata": {},
   "source": [
    "W przypadku braków w czasie dostarczenia zamówienia widoczne jest odstawanie liczby zamówień z kategorii \"Gry komputerowe\" w porównaniu z innymi kategoriami, jednak stanowi to ok. 10% wszystkich wierszy z tym błędem. W pozostałych przypadkach taka sytuacja nie zachodzi"
   ]
  },
  {
   "cell_type": "markdown",
   "id": "44b3d526",
   "metadata": {},
   "source": [
    "## Dodanie tabeli użytkowników do tabel z dostawami i sesjami"
   ]
  },
  {
   "cell_type": "code",
   "execution_count": 58,
   "id": "8785a1b6",
   "metadata": {},
   "outputs": [
    {
     "data": {
      "text/html": [
       "<div>\n",
       "<style scoped>\n",
       "    .dataframe tbody tr th:only-of-type {\n",
       "        vertical-align: middle;\n",
       "    }\n",
       "\n",
       "    .dataframe tbody tr th {\n",
       "        vertical-align: top;\n",
       "    }\n",
       "\n",
       "    .dataframe thead th {\n",
       "        text-align: right;\n",
       "    }\n",
       "</style>\n",
       "<table border=\"1\" class=\"dataframe\">\n",
       "  <thead>\n",
       "    <tr style=\"text-align: right;\">\n",
       "      <th></th>\n",
       "      <th>session_id</th>\n",
       "      <th>timestamp</th>\n",
       "      <th>user_id</th>\n",
       "      <th>product_id</th>\n",
       "      <th>event_type</th>\n",
       "      <th>offered_discount</th>\n",
       "      <th>purchase_id</th>\n",
       "      <th>purchase_timestamp</th>\n",
       "      <th>delivery_timestamp</th>\n",
       "      <th>delivery_company</th>\n",
       "      <th>deliver_time</th>\n",
       "      <th>name</th>\n",
       "      <th>city</th>\n",
       "      <th>street</th>\n",
       "    </tr>\n",
       "  </thead>\n",
       "  <tbody>\n",
       "    <tr>\n",
       "      <th>0</th>\n",
       "      <td>100002</td>\n",
       "      <td>2021-09-12 14:40:47</td>\n",
       "      <td>102.0</td>\n",
       "      <td>1037.0</td>\n",
       "      <td>BUY_PRODUCT</td>\n",
       "      <td>10.0</td>\n",
       "      <td>20001.0</td>\n",
       "      <td>2021-09-12 14:40:47</td>\n",
       "      <td>NaT</td>\n",
       "      <td>620.0</td>\n",
       "      <td>NaN</td>\n",
       "      <td>Nela Pawlos</td>\n",
       "      <td>Szczecin</td>\n",
       "      <td>plac Traugutta 217</td>\n",
       "    </tr>\n",
       "    <tr>\n",
       "      <th>1</th>\n",
       "      <td>100003</td>\n",
       "      <td>2021-03-02 16:49:15</td>\n",
       "      <td>102.0</td>\n",
       "      <td>1233.0</td>\n",
       "      <td>BUY_PRODUCT</td>\n",
       "      <td>10.0</td>\n",
       "      <td>20002.0</td>\n",
       "      <td>2021-03-02 16:49:15</td>\n",
       "      <td>2021-03-04 16:53:37</td>\n",
       "      <td>620.0</td>\n",
       "      <td>2.003032</td>\n",
       "      <td>Nela Pawlos</td>\n",
       "      <td>Szczecin</td>\n",
       "      <td>plac Traugutta 217</td>\n",
       "    </tr>\n",
       "    <tr>\n",
       "      <th>2</th>\n",
       "      <td>100004</td>\n",
       "      <td>2021-03-31 09:55:45</td>\n",
       "      <td>102.0</td>\n",
       "      <td>1318.0</td>\n",
       "      <td>BUY_PRODUCT</td>\n",
       "      <td>20.0</td>\n",
       "      <td>20003.0</td>\n",
       "      <td>2021-03-31 09:55:45</td>\n",
       "      <td>2021-04-03 09:57:37</td>\n",
       "      <td>360.0</td>\n",
       "      <td>3.001296</td>\n",
       "      <td>Nela Pawlos</td>\n",
       "      <td>Szczecin</td>\n",
       "      <td>plac Traugutta 217</td>\n",
       "    </tr>\n",
       "    <tr>\n",
       "      <th>3</th>\n",
       "      <td>100005</td>\n",
       "      <td>2021-03-21 18:03:57</td>\n",
       "      <td>102.0</td>\n",
       "      <td>1318.0</td>\n",
       "      <td>BUY_PRODUCT</td>\n",
       "      <td>0.0</td>\n",
       "      <td>20004.0</td>\n",
       "      <td>2021-03-21 18:03:57</td>\n",
       "      <td>2021-03-25 18:04:38</td>\n",
       "      <td>516.0</td>\n",
       "      <td>4.000475</td>\n",
       "      <td>Nela Pawlos</td>\n",
       "      <td>Szczecin</td>\n",
       "      <td>plac Traugutta 217</td>\n",
       "    </tr>\n",
       "    <tr>\n",
       "      <th>4</th>\n",
       "      <td>100007</td>\n",
       "      <td>2021-01-14 18:48:41</td>\n",
       "      <td>102.0</td>\n",
       "      <td>1233.0</td>\n",
       "      <td>BUY_PRODUCT</td>\n",
       "      <td>5.0</td>\n",
       "      <td>20005.0</td>\n",
       "      <td>2021-01-14 18:48:41</td>\n",
       "      <td>2021-01-19 18:52:53</td>\n",
       "      <td>516.0</td>\n",
       "      <td>5.002917</td>\n",
       "      <td>Nela Pawlos</td>\n",
       "      <td>Szczecin</td>\n",
       "      <td>plac Traugutta 217</td>\n",
       "    </tr>\n",
       "    <tr>\n",
       "      <th>...</th>\n",
       "      <td>...</td>\n",
       "      <td>...</td>\n",
       "      <td>...</td>\n",
       "      <td>...</td>\n",
       "      <td>...</td>\n",
       "      <td>...</td>\n",
       "      <td>...</td>\n",
       "      <td>...</td>\n",
       "      <td>...</td>\n",
       "      <td>...</td>\n",
       "      <td>...</td>\n",
       "      <td>...</td>\n",
       "      <td>...</td>\n",
       "      <td>...</td>\n",
       "    </tr>\n",
       "    <tr>\n",
       "      <th>6987</th>\n",
       "      <td>110435</td>\n",
       "      <td>2021-09-08 13:39:46</td>\n",
       "      <td>301.0</td>\n",
       "      <td>1283.0</td>\n",
       "      <td>BUY_PRODUCT</td>\n",
       "      <td>0.0</td>\n",
       "      <td>27167.0</td>\n",
       "      <td>2021-09-08 13:39:46</td>\n",
       "      <td>2021-09-13 13:39:59</td>\n",
       "      <td>360.0</td>\n",
       "      <td>5.000150</td>\n",
       "      <td>Mieszko Szczepaniuk</td>\n",
       "      <td>Wrocław</td>\n",
       "      <td>pl. Popiełuszki 13/85</td>\n",
       "    </tr>\n",
       "    <tr>\n",
       "      <th>6988</th>\n",
       "      <td>110436</td>\n",
       "      <td>2021-02-05 12:13:27</td>\n",
       "      <td>301.0</td>\n",
       "      <td>1283.0</td>\n",
       "      <td>BUY_PRODUCT</td>\n",
       "      <td>20.0</td>\n",
       "      <td>27168.0</td>\n",
       "      <td>2021-02-05 12:13:27</td>\n",
       "      <td>2021-02-07 12:14:48</td>\n",
       "      <td>360.0</td>\n",
       "      <td>2.000938</td>\n",
       "      <td>Mieszko Szczepaniuk</td>\n",
       "      <td>Wrocław</td>\n",
       "      <td>pl. Popiełuszki 13/85</td>\n",
       "    </tr>\n",
       "    <tr>\n",
       "      <th>6989</th>\n",
       "      <td>110437</td>\n",
       "      <td>2021-10-10 11:04:13</td>\n",
       "      <td>301.0</td>\n",
       "      <td>1278.0</td>\n",
       "      <td>BUY_PRODUCT</td>\n",
       "      <td>0.0</td>\n",
       "      <td>27169.0</td>\n",
       "      <td>2021-10-10 11:04:13</td>\n",
       "      <td>2021-10-13 11:05:03</td>\n",
       "      <td>516.0</td>\n",
       "      <td>3.000579</td>\n",
       "      <td>Mieszko Szczepaniuk</td>\n",
       "      <td>Wrocław</td>\n",
       "      <td>pl. Popiełuszki 13/85</td>\n",
       "    </tr>\n",
       "    <tr>\n",
       "      <th>6990</th>\n",
       "      <td>110438</td>\n",
       "      <td>2021-07-27 09:49:23</td>\n",
       "      <td>301.0</td>\n",
       "      <td>1291.0</td>\n",
       "      <td>BUY_PRODUCT</td>\n",
       "      <td>20.0</td>\n",
       "      <td>27170.0</td>\n",
       "      <td>2021-07-27 09:49:23</td>\n",
       "      <td>2021-08-01 09:52:10</td>\n",
       "      <td>620.0</td>\n",
       "      <td>5.001933</td>\n",
       "      <td>Mieszko Szczepaniuk</td>\n",
       "      <td>Wrocław</td>\n",
       "      <td>pl. Popiełuszki 13/85</td>\n",
       "    </tr>\n",
       "    <tr>\n",
       "      <th>6991</th>\n",
       "      <td>110440</td>\n",
       "      <td>2021-08-04 15:05:12</td>\n",
       "      <td>301.0</td>\n",
       "      <td>1072.0</td>\n",
       "      <td>BUY_PRODUCT</td>\n",
       "      <td>10.0</td>\n",
       "      <td>27171.0</td>\n",
       "      <td>2021-08-04 15:05:12</td>\n",
       "      <td>2021-08-08 15:08:42</td>\n",
       "      <td>620.0</td>\n",
       "      <td>4.002431</td>\n",
       "      <td>Mieszko Szczepaniuk</td>\n",
       "      <td>Wrocław</td>\n",
       "      <td>pl. Popiełuszki 13/85</td>\n",
       "    </tr>\n",
       "  </tbody>\n",
       "</table>\n",
       "<p>6992 rows × 14 columns</p>\n",
       "</div>"
      ],
      "text/plain": [
       "      session_id           timestamp  user_id  product_id   event_type  \\\n",
       "0         100002 2021-09-12 14:40:47    102.0      1037.0  BUY_PRODUCT   \n",
       "1         100003 2021-03-02 16:49:15    102.0      1233.0  BUY_PRODUCT   \n",
       "2         100004 2021-03-31 09:55:45    102.0      1318.0  BUY_PRODUCT   \n",
       "3         100005 2021-03-21 18:03:57    102.0      1318.0  BUY_PRODUCT   \n",
       "4         100007 2021-01-14 18:48:41    102.0      1233.0  BUY_PRODUCT   \n",
       "...          ...                 ...      ...         ...          ...   \n",
       "6987      110435 2021-09-08 13:39:46    301.0      1283.0  BUY_PRODUCT   \n",
       "6988      110436 2021-02-05 12:13:27    301.0      1283.0  BUY_PRODUCT   \n",
       "6989      110437 2021-10-10 11:04:13    301.0      1278.0  BUY_PRODUCT   \n",
       "6990      110438 2021-07-27 09:49:23    301.0      1291.0  BUY_PRODUCT   \n",
       "6991      110440 2021-08-04 15:05:12    301.0      1072.0  BUY_PRODUCT   \n",
       "\n",
       "      offered_discount  purchase_id  purchase_timestamp  delivery_timestamp  \\\n",
       "0                 10.0      20001.0 2021-09-12 14:40:47                 NaT   \n",
       "1                 10.0      20002.0 2021-03-02 16:49:15 2021-03-04 16:53:37   \n",
       "2                 20.0      20003.0 2021-03-31 09:55:45 2021-04-03 09:57:37   \n",
       "3                  0.0      20004.0 2021-03-21 18:03:57 2021-03-25 18:04:38   \n",
       "4                  5.0      20005.0 2021-01-14 18:48:41 2021-01-19 18:52:53   \n",
       "...                ...          ...                 ...                 ...   \n",
       "6987               0.0      27167.0 2021-09-08 13:39:46 2021-09-13 13:39:59   \n",
       "6988              20.0      27168.0 2021-02-05 12:13:27 2021-02-07 12:14:48   \n",
       "6989               0.0      27169.0 2021-10-10 11:04:13 2021-10-13 11:05:03   \n",
       "6990              20.0      27170.0 2021-07-27 09:49:23 2021-08-01 09:52:10   \n",
       "6991              10.0      27171.0 2021-08-04 15:05:12 2021-08-08 15:08:42   \n",
       "\n",
       "      delivery_company  deliver_time                 name      city  \\\n",
       "0                620.0           NaN          Nela Pawlos  Szczecin   \n",
       "1                620.0      2.003032          Nela Pawlos  Szczecin   \n",
       "2                360.0      3.001296          Nela Pawlos  Szczecin   \n",
       "3                516.0      4.000475          Nela Pawlos  Szczecin   \n",
       "4                516.0      5.002917          Nela Pawlos  Szczecin   \n",
       "...                ...           ...                  ...       ...   \n",
       "6987             360.0      5.000150  Mieszko Szczepaniuk   Wrocław   \n",
       "6988             360.0      2.000938  Mieszko Szczepaniuk   Wrocław   \n",
       "6989             516.0      3.000579  Mieszko Szczepaniuk   Wrocław   \n",
       "6990             620.0      5.001933  Mieszko Szczepaniuk   Wrocław   \n",
       "6991             620.0      4.002431  Mieszko Szczepaniuk   Wrocław   \n",
       "\n",
       "                     street  \n",
       "0        plac Traugutta 217  \n",
       "1        plac Traugutta 217  \n",
       "2        plac Traugutta 217  \n",
       "3        plac Traugutta 217  \n",
       "4        plac Traugutta 217  \n",
       "...                     ...  \n",
       "6987  pl. Popiełuszki 13/85  \n",
       "6988  pl. Popiełuszki 13/85  \n",
       "6989  pl. Popiełuszki 13/85  \n",
       "6990  pl. Popiełuszki 13/85  \n",
       "6991  pl. Popiełuszki 13/85  \n",
       "\n",
       "[6992 rows x 14 columns]"
      ]
     },
     "execution_count": 58,
     "metadata": {},
     "output_type": "execute_result"
    }
   ],
   "source": [
    "deliv_sess_user_df = pd.merge(deliv_sess_df, users_df, how='inner', on = 'user_id')\n",
    "deliv_sess_user_df"
   ]
  },
  {
   "cell_type": "markdown",
   "id": "da62bf16",
   "metadata": {},
   "source": [
    "### Liczba zamówień w zależności od miasta"
   ]
  },
  {
   "cell_type": "code",
   "execution_count": 59,
   "id": "99bfd2d2",
   "metadata": {},
   "outputs": [
    {
     "data": {
      "text/plain": [
       "Kraków      1352\n",
       "Gdynia      1111\n",
       "Szczecin     990\n",
       "Poznań       973\n",
       "Radom        948\n",
       "Wrocław      818\n",
       "Warszawa     800\n",
       "Name: city, dtype: int64"
      ]
     },
     "execution_count": 59,
     "metadata": {},
     "output_type": "execute_result"
    }
   ],
   "source": [
    "deliv_sess_user_df[\"city\"].value_counts()"
   ]
  },
  {
   "cell_type": "code",
   "execution_count": 85,
   "id": "ff58322f",
   "metadata": {},
   "outputs": [
    {
     "data": {
      "image/png": "[encoded data removed]",
      "text/plain": [
       "<Figure size 432x288 with 1 Axes>"
      ]
     },
     "metadata": {
      "needs_background": "light"
     },
     "output_type": "display_data"
    }
   ],
   "source": [
    "cities = deliv_sess_user_df[\"city\"].value_counts()\n",
    "plot_bar(cities, rotation=45)"
   ]
  },
  {
   "cell_type": "markdown",
   "id": "5e60de32",
   "metadata": {},
   "source": [
    "### Liczba wierszy z brakującym delivery_timestamp w zależności od miasta"
   ]
  },
  {
   "cell_type": "code",
   "execution_count": 89,
   "id": "8946c542",
   "metadata": {},
   "outputs": [
    {
     "data": {
      "text/plain": [
       "Kraków      62\n",
       "Gdynia      50\n",
       "Radom       50\n",
       "Szczecin    50\n",
       "Poznań      40\n",
       "Wrocław     37\n",
       "Warszawa    37\n",
       "Name: city, dtype: int64"
      ]
     },
     "execution_count": 89,
     "metadata": {},
     "output_type": "execute_result"
    }
   ],
   "source": [
    "deliv_sess_user_df[deliv_sess_user_df.delivery_timestamp.isnull()].city.value_counts()"
   ]
  },
  {
   "cell_type": "code",
   "execution_count": 90,
   "id": "1d678068",
   "metadata": {},
   "outputs": [
    {
     "data": {
      "image/png": "[encoded data removed]",
      "text/plain": [
       "<Figure size 432x288 with 1 Axes>"
      ]
     },
     "metadata": {
      "needs_background": "light"
     },
     "output_type": "display_data"
    }
   ],
   "source": [
    "cities = deliv_sess_user_df[deliv_sess_user_df.delivery_timestamp.isnull()].city.value_counts()\n",
    "plot_bar(cities, rotation=45)"
   ]
  },
  {
   "cell_type": "markdown",
   "id": "683b9c25",
   "metadata": {},
   "source": [
    "### Liczba wierszy z brakującym delivery_company w zależności od miasta"
   ]
  },
  {
   "cell_type": "code",
   "execution_count": 60,
   "id": "be5964ad",
   "metadata": {},
   "outputs": [
    {
     "data": {
      "text/plain": [
       "Kraków      72\n",
       "Szczecin    52\n",
       "Gdynia      49\n",
       "Wrocław     49\n",
       "Radom       47\n",
       "Poznań      47\n",
       "Warszawa    39\n",
       "Name: city, dtype: int64"
      ]
     },
     "execution_count": 60,
     "metadata": {},
     "output_type": "execute_result"
    }
   ],
   "source": [
    "deliv_sess_user_df[deliv_sess_user_df.delivery_company.isnull()].city.value_counts()"
   ]
  },
  {
   "cell_type": "code",
   "execution_count": 86,
   "id": "912a091f",
   "metadata": {},
   "outputs": [
    {
     "data": {
      "image/png": "[encoded data removed]",
      "text/plain": [
       "<Figure size 432x288 with 1 Axes>"
      ]
     },
     "metadata": {
      "needs_background": "light"
     },
     "output_type": "display_data"
    }
   ],
   "source": [
    "cities = deliv_sess_user_df[deliv_sess_user_df.delivery_company.isnull()].city.value_counts()\n",
    "plot_bar(cities, rotation=45)"
   ]
  },
  {
   "cell_type": "markdown",
   "id": "dd3b27f0",
   "metadata": {},
   "source": [
    "### Liczba wierszy z brakującym product_id w zależności od miasta"
   ]
  },
  {
   "cell_type": "code",
   "execution_count": 88,
   "id": "816c0634",
   "metadata": {},
   "outputs": [
    {
     "data": {
      "text/plain": [
       "Kraków      74\n",
       "Szczecin    54\n",
       "Poznań      48\n",
       "Radom       47\n",
       "Wrocław     42\n",
       "Warszawa    41\n",
       "Gdynia      37\n",
       "Name: city, dtype: int64"
      ]
     },
     "execution_count": 88,
     "metadata": {},
     "output_type": "execute_result"
    }
   ],
   "source": [
    "deliv_sess_user_df[deliv_sess_user_df.product_id.isnull()].city.value_counts()"
   ]
  },
  {
   "cell_type": "code",
   "execution_count": 87,
   "id": "ca085c3f",
   "metadata": {},
   "outputs": [
    {
     "data": {
      "image/png": "[encoded data removed]",
      "text/plain": [
       "<Figure size 432x288 with 1 Axes>"
      ]
     },
     "metadata": {
      "needs_background": "light"
     },
     "output_type": "display_data"
    }
   ],
   "source": [
    "cities = deliv_sess_user_df[deliv_sess_user_df.product_id.isnull()].city.value_counts()\n",
    "plot_bar(cities, rotation=45)"
   ]
  },
  {
   "cell_type": "markdown",
   "id": "a01909e7",
   "metadata": {},
   "source": [
    "### Wnioski"
   ]
  },
  {
   "cell_type": "markdown",
   "id": "8dae531e",
   "metadata": {},
   "source": [
    "Nie zauważono tutaj żadnych zależności oprócz takiej, że wraz z ilością zamówień, wzrasta liczba wierszy z błędami"
   ]
  },
  {
   "cell_type": "markdown",
   "id": "605a65fc",
   "metadata": {},
   "source": [
    "# Podsumowanie"
   ]
  },
  {
   "cell_type": "markdown",
   "id": "d60ff74c",
   "metadata": {},
   "source": [
    "- Powyższy zbiór danych nie jest reprezentatywny ze względu na brak danych z listopada i grudnia oraz występowania informacji o użytkownikach tylko z kilku miast (nie ze wszystkich województw)\n",
    "- Braki w id użytkowników oraz w proponowanej zniżce wynikają z założeń działania sklepu - niezarejestrowani użytkownicy nie mają swojego id oraz przy zwrotach nie jest proponowana zniżka\n",
    "- Nie udało się natomiast wykryć zależności między brakami w atrybutach: czas dostawy, id firmy kurierskiej, id produktu od innych atrybutów\n",
    "- W tym zbiorze danych występują błędy logiczne - cena produktu nie może być ujemna oraz produkty z tego sklepu nie powinny miec ceny rzędu miliona"
   ]
  }
 ],
 "metadata": {
  "kernelspec": {
   "display_name": "Python 3",
   "language": "python",
   "name": "python3"
  },
  "language_info": {
   "codemirror_mode": {
    "name": "ipython",
    "version": 3
   },
   "file_extension": ".py",
   "mimetype": "text/x-python",
   "name": "python",
   "nbconvert_exporter": "python",
   "pygments_lexer": "ipython3",
   "version": "3.8.8"
  }
 },
 "nbformat": 4,
 "nbformat_minor": 5
}

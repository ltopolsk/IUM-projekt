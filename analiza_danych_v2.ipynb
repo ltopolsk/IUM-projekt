{
 "cells": [
  {
   "cell_type": "code",
   "execution_count": 1,
   "id": "e2a11a9b",
   "metadata": {},
   "outputs": [],
   "source": [
    "import pandas as pd\n",
    "import numpy as np\n",
    "import matplotlib.pyplot as plt"
   ]
  },
  {
   "cell_type": "markdown",
   "id": "7c9ae09d",
   "metadata": {},
   "source": [
    "# Wczytanie danych"
   ]
  },
  {
   "cell_type": "code",
   "execution_count": 2,
   "id": "ed93c4fe",
   "metadata": {},
   "outputs": [],
   "source": [
    "users_df = pd.read_json(\"dane/users.jsonl\", lines=True)\n",
    "deliveries_df = pd.read_json(\"dane/deliveries.jsonl\", lines=True)\n",
    "products_df = pd.read_json(\"dane/products.jsonl\", lines=True)\n",
    "sessions_df = pd.read_json(\"dane/sessions.jsonl\", lines=True)"
   ]
  },
  {
   "cell_type": "markdown",
   "id": "a62e4fed",
   "metadata": {},
   "source": [
    "### Funkcja rysująca wykres słupkowy"
   ]
  },
  {
   "cell_type": "code",
   "execution_count": 100,
   "id": "b34c95a4",
   "metadata": {},
   "outputs": [],
   "source": [
    "def plot_bar(series, title=\"\", ylabel=\"\", xlabel=\"\", rotation=0, figsize=None):\n",
    "    idx = series.index.tolist()\n",
    "    for i in range(len(idx)):\n",
    "        idx[i] = str(idx[i])\n",
    "    if figsize is not None:\n",
    "        plt.figure(figsize=figsize)\n",
    "    plt.bar(idx, series.values)\n",
    "    \n",
    "    plt.xticks(rotation=rotation)\n",
    "    plt.ylabel(ylabel)\n",
    "    plt.xlabel(xlabel)\n",
    "    plt.title(title)\n",
    "    plt.show()"
   ]
  },
  {
   "cell_type": "markdown",
   "id": "10d39d40",
   "metadata": {},
   "source": [
    "# Analiza każdej tabeli z osobna"
   ]
  },
  {
   "cell_type": "markdown",
   "id": "76714a33",
   "metadata": {},
   "source": [
    "## Użytkownicy"
   ]
  },
  {
   "cell_type": "code",
   "execution_count": 4,
   "id": "c9b0f2dd",
   "metadata": {},
   "outputs": [
    {
     "name": "stdout",
     "output_type": "stream",
     "text": [
      "<class 'pandas.core.frame.DataFrame'>\n",
      "RangeIndex: 200 entries, 0 to 199\n",
      "Data columns (total 4 columns):\n",
      " #   Column   Non-Null Count  Dtype \n",
      "---  ------   --------------  ----- \n",
      " 0   user_id  200 non-null    int64 \n",
      " 1   name     200 non-null    object\n",
      " 2   city     200 non-null    object\n",
      " 3   street   200 non-null    object\n",
      "dtypes: int64(1), object(3)\n",
      "memory usage: 6.4+ KB\n"
     ]
    }
   ],
   "source": [
    "users_df.info()"
   ]
  },
  {
   "cell_type": "code",
   "execution_count": 5,
   "id": "63cc0768",
   "metadata": {},
   "outputs": [
    {
     "data": {
      "text/html": [
       "<div>\n",
       "<style scoped>\n",
       "    .dataframe tbody tr th:only-of-type {\n",
       "        vertical-align: middle;\n",
       "    }\n",
       "\n",
       "    .dataframe tbody tr th {\n",
       "        vertical-align: top;\n",
       "    }\n",
       "\n",
       "    .dataframe thead th {\n",
       "        text-align: right;\n",
       "    }\n",
       "</style>\n",
       "<table border=\"1\" class=\"dataframe\">\n",
       "  <thead>\n",
       "    <tr style=\"text-align: right;\">\n",
       "      <th></th>\n",
       "      <th>user_id</th>\n",
       "      <th>name</th>\n",
       "      <th>city</th>\n",
       "      <th>street</th>\n",
       "    </tr>\n",
       "  </thead>\n",
       "  <tbody>\n",
       "    <tr>\n",
       "      <th>0</th>\n",
       "      <td>102</td>\n",
       "      <td>Klara Sałuda</td>\n",
       "      <td>Szczecin</td>\n",
       "      <td>ulica Dębowa 64/65</td>\n",
       "    </tr>\n",
       "    <tr>\n",
       "      <th>1</th>\n",
       "      <td>103</td>\n",
       "      <td>Mieszko Ziegler</td>\n",
       "      <td>Kraków</td>\n",
       "      <td>ulica Bolesława Chrobrego 685</td>\n",
       "    </tr>\n",
       "    <tr>\n",
       "      <th>2</th>\n",
       "      <td>104</td>\n",
       "      <td>Roksana Wilma</td>\n",
       "      <td>Radom</td>\n",
       "      <td>ul. Krucza 92</td>\n",
       "    </tr>\n",
       "    <tr>\n",
       "      <th>3</th>\n",
       "      <td>105</td>\n",
       "      <td>Tadeusz Macioł</td>\n",
       "      <td>Kraków</td>\n",
       "      <td>pl. Dojazdowa 144</td>\n",
       "    </tr>\n",
       "    <tr>\n",
       "      <th>4</th>\n",
       "      <td>106</td>\n",
       "      <td>Patryk Freitag</td>\n",
       "      <td>Radom</td>\n",
       "      <td>ul. Dąbrowskiej 223</td>\n",
       "    </tr>\n",
       "    <tr>\n",
       "      <th>...</th>\n",
       "      <td>...</td>\n",
       "      <td>...</td>\n",
       "      <td>...</td>\n",
       "      <td>...</td>\n",
       "    </tr>\n",
       "    <tr>\n",
       "      <th>195</th>\n",
       "      <td>297</td>\n",
       "      <td>Paweł Kanarek</td>\n",
       "      <td>Szczecin</td>\n",
       "      <td>ul. Konopnickiej 857</td>\n",
       "    </tr>\n",
       "    <tr>\n",
       "      <th>196</th>\n",
       "      <td>298</td>\n",
       "      <td>Kornelia Szaj</td>\n",
       "      <td>Gdynia</td>\n",
       "      <td>pl. Wieniawskiego 48</td>\n",
       "    </tr>\n",
       "    <tr>\n",
       "      <th>197</th>\n",
       "      <td>299</td>\n",
       "      <td>Ada Teterycz</td>\n",
       "      <td>Poznań</td>\n",
       "      <td>al. Konarskiego 317</td>\n",
       "    </tr>\n",
       "    <tr>\n",
       "      <th>198</th>\n",
       "      <td>300</td>\n",
       "      <td>Anita Pawliszyn</td>\n",
       "      <td>Warszawa</td>\n",
       "      <td>pl. Powstańców Wielkopolskich 428</td>\n",
       "    </tr>\n",
       "    <tr>\n",
       "      <th>199</th>\n",
       "      <td>301</td>\n",
       "      <td>Olga Matus</td>\n",
       "      <td>Kraków</td>\n",
       "      <td>al. Sucharskiego 46</td>\n",
       "    </tr>\n",
       "  </tbody>\n",
       "</table>\n",
       "<p>200 rows × 4 columns</p>\n",
       "</div>"
      ],
      "text/plain": [
       "     user_id             name      city                             street\n",
       "0        102     Klara Sałuda  Szczecin                 ulica Dębowa 64/65\n",
       "1        103  Mieszko Ziegler    Kraków      ulica Bolesława Chrobrego 685\n",
       "2        104    Roksana Wilma     Radom                      ul. Krucza 92\n",
       "3        105   Tadeusz Macioł    Kraków                  pl. Dojazdowa 144\n",
       "4        106   Patryk Freitag     Radom                ul. Dąbrowskiej 223\n",
       "..       ...              ...       ...                                ...\n",
       "195      297    Paweł Kanarek  Szczecin               ul. Konopnickiej 857\n",
       "196      298    Kornelia Szaj    Gdynia               pl. Wieniawskiego 48\n",
       "197      299     Ada Teterycz    Poznań                al. Konarskiego 317\n",
       "198      300  Anita Pawliszyn  Warszawa  pl. Powstańców Wielkopolskich 428\n",
       "199      301       Olga Matus    Kraków                al. Sucharskiego 46\n",
       "\n",
       "[200 rows x 4 columns]"
      ]
     },
     "execution_count": 5,
     "metadata": {},
     "output_type": "execute_result"
    }
   ],
   "source": [
    "users_df"
   ]
  },
  {
   "cell_type": "code",
   "execution_count": 6,
   "id": "27c50990",
   "metadata": {},
   "outputs": [
    {
     "data": {
      "text/plain": [
       "Poznań      34\n",
       "Warszawa    33\n",
       "Gdynia      31\n",
       "Kraków      27\n",
       "Radom       25\n",
       "Szczecin    25\n",
       "Wrocław     25\n",
       "Name: city, dtype: int64"
      ]
     },
     "execution_count": 6,
     "metadata": {},
     "output_type": "execute_result"
    }
   ],
   "source": [
    "users_df[\"city\"].value_counts()"
   ]
  },
  {
   "cell_type": "code",
   "execution_count": 7,
   "id": "4764952e",
   "metadata": {},
   "outputs": [
    {
     "data": {
      "image/png": "[encoded data removed]",
      "text/plain": [
       "<Figure size 432x288 with 1 Axes>"
      ]
     },
     "metadata": {
      "needs_background": "light"
     },
     "output_type": "display_data"
    }
   ],
   "source": [
    "cities = users_df[\"city\"].value_counts()\n",
    "plot_bar(series=cities, title=\"Występujące miasta\", ylabel=\"Ilość\", rotation=45)"
   ]
  },
  {
   "cell_type": "markdown",
   "id": "028ea636",
   "metadata": {},
   "source": [
    "W przypadku tabeli \"Users\" nie występują żadne braki danych, jednak w atrybucie \"street\" występują niejednoznaczne zapisy nazw ulic - skrót ul. oraz pełna nazwa \"ulica\". Najczęściej występującym miastem jest Poznań, a najrzadziej - Radom wraz z Wrocławiem i Szczecinem. Użytkownicy są tylko z miast oraz w kilku województwach nie ma użytkowników."
   ]
  },
  {
   "cell_type": "markdown",
   "id": "687dddbd",
   "metadata": {},
   "source": [
    "## Dostawy"
   ]
  },
  {
   "cell_type": "code",
   "execution_count": 8,
   "id": "75be6b0f",
   "metadata": {},
   "outputs": [
    {
     "name": "stdout",
     "output_type": "stream",
     "text": [
      "<class 'pandas.core.frame.DataFrame'>\n",
      "RangeIndex: 6735 entries, 0 to 6734\n",
      "Data columns (total 4 columns):\n",
      " #   Column              Non-Null Count  Dtype \n",
      "---  ------              --------------  ----- \n",
      " 0   purchase_id         6735 non-null   int64 \n",
      " 1   purchase_timestamp  6735 non-null   object\n",
      " 2   delivery_timestamp  6735 non-null   object\n",
      " 3   delivery_company    6735 non-null   int64 \n",
      "dtypes: int64(2), object(2)\n",
      "memory usage: 210.6+ KB\n"
     ]
    }
   ],
   "source": [
    "deliveries_df.info()"
   ]
  },
  {
   "cell_type": "code",
   "execution_count": 9,
   "id": "7747e4a7",
   "metadata": {},
   "outputs": [],
   "source": [
    "deliveries_df[\"purchase_timestamp\"] = pd.to_datetime(deliveries_df[\"purchase_timestamp\"], \n",
    "                                                     format='%Y-%m-%dT%H:%M:%S')\n",
    "deliveries_df[\"delivery_timestamp\"] = pd.to_datetime(deliveries_df[\"delivery_timestamp\"], \n",
    "                                                     format='%Y-%m-%dT%H:%M:%S')"
   ]
  },
  {
   "cell_type": "markdown",
   "id": "f532e23c",
   "metadata": {},
   "source": [
    "### Wyznaczenie przedziału atrybutu \"purchase_timestamp\""
   ]
  },
  {
   "cell_type": "code",
   "execution_count": 10,
   "id": "127b7b6c",
   "metadata": {
    "scrolled": true
   },
   "outputs": [
    {
     "data": {
      "text/plain": [
       "Timestamp('2021-01-01 00:18:25')"
      ]
     },
     "execution_count": 10,
     "metadata": {},
     "output_type": "execute_result"
    }
   ],
   "source": [
    "deliveries_df[\"purchase_timestamp\"].min()"
   ]
  },
  {
   "cell_type": "code",
   "execution_count": 11,
   "id": "bb46b4e4",
   "metadata": {},
   "outputs": [
    {
     "data": {
      "text/plain": [
       "Timestamp('2021-12-10 06:19:20')"
      ]
     },
     "execution_count": 11,
     "metadata": {},
     "output_type": "execute_result"
    }
   ],
   "source": [
    "deliveries_df[\"purchase_timestamp\"].max()"
   ]
  },
  {
   "cell_type": "markdown",
   "id": "50403058",
   "metadata": {},
   "source": [
    "### Liczność występujących miesięcy"
   ]
  },
  {
   "cell_type": "code",
   "execution_count": 12,
   "id": "15369a71",
   "metadata": {},
   "outputs": [
    {
     "data": {
      "text/html": [
       "<div>\n",
       "<style scoped>\n",
       "    .dataframe tbody tr th:only-of-type {\n",
       "        vertical-align: middle;\n",
       "    }\n",
       "\n",
       "    .dataframe tbody tr th {\n",
       "        vertical-align: top;\n",
       "    }\n",
       "\n",
       "    .dataframe thead th {\n",
       "        text-align: right;\n",
       "    }\n",
       "</style>\n",
       "<table border=\"1\" class=\"dataframe\">\n",
       "  <thead>\n",
       "    <tr style=\"text-align: right;\">\n",
       "      <th></th>\n",
       "      <th>purchase_id</th>\n",
       "      <th>purchase_timestamp</th>\n",
       "      <th>delivery_timestamp</th>\n",
       "      <th>delivery_company</th>\n",
       "      <th>month</th>\n",
       "    </tr>\n",
       "  </thead>\n",
       "  <tbody>\n",
       "    <tr>\n",
       "      <th>0</th>\n",
       "      <td>20001</td>\n",
       "      <td>2021-05-17 02:58:18</td>\n",
       "      <td>2021-05-20 03:00:00</td>\n",
       "      <td>620</td>\n",
       "      <td>5</td>\n",
       "    </tr>\n",
       "    <tr>\n",
       "      <th>1</th>\n",
       "      <td>20002</td>\n",
       "      <td>2021-05-22 10:25:01</td>\n",
       "      <td>2021-05-24 10:26:28</td>\n",
       "      <td>360</td>\n",
       "      <td>5</td>\n",
       "    </tr>\n",
       "    <tr>\n",
       "      <th>2</th>\n",
       "      <td>20003</td>\n",
       "      <td>2021-01-08 23:15:05</td>\n",
       "      <td>2021-01-10 23:17:28</td>\n",
       "      <td>516</td>\n",
       "      <td>1</td>\n",
       "    </tr>\n",
       "    <tr>\n",
       "      <th>3</th>\n",
       "      <td>20004</td>\n",
       "      <td>2021-05-21 13:23:18</td>\n",
       "      <td>2021-05-25 13:27:01</td>\n",
       "      <td>360</td>\n",
       "      <td>5</td>\n",
       "    </tr>\n",
       "    <tr>\n",
       "      <th>4</th>\n",
       "      <td>20005</td>\n",
       "      <td>2021-02-20 12:54:25</td>\n",
       "      <td>2021-02-23 12:57:33</td>\n",
       "      <td>516</td>\n",
       "      <td>2</td>\n",
       "    </tr>\n",
       "    <tr>\n",
       "      <th>...</th>\n",
       "      <td>...</td>\n",
       "      <td>...</td>\n",
       "      <td>...</td>\n",
       "      <td>...</td>\n",
       "      <td>...</td>\n",
       "    </tr>\n",
       "    <tr>\n",
       "      <th>6730</th>\n",
       "      <td>26731</td>\n",
       "      <td>2021-06-28 07:05:24</td>\n",
       "      <td>2021-06-30 07:09:05</td>\n",
       "      <td>516</td>\n",
       "      <td>6</td>\n",
       "    </tr>\n",
       "    <tr>\n",
       "      <th>6731</th>\n",
       "      <td>26732</td>\n",
       "      <td>2021-05-28 20:47:52</td>\n",
       "      <td>2021-06-01 20:51:56</td>\n",
       "      <td>516</td>\n",
       "      <td>5</td>\n",
       "    </tr>\n",
       "    <tr>\n",
       "      <th>6732</th>\n",
       "      <td>26733</td>\n",
       "      <td>2021-10-28 17:16:20</td>\n",
       "      <td>2021-11-02 17:20:19</td>\n",
       "      <td>360</td>\n",
       "      <td>10</td>\n",
       "    </tr>\n",
       "    <tr>\n",
       "      <th>6733</th>\n",
       "      <td>26734</td>\n",
       "      <td>2021-09-02 07:50:58</td>\n",
       "      <td>2021-09-07 07:54:30</td>\n",
       "      <td>360</td>\n",
       "      <td>9</td>\n",
       "    </tr>\n",
       "    <tr>\n",
       "      <th>6734</th>\n",
       "      <td>26735</td>\n",
       "      <td>2021-02-15 11:17:59</td>\n",
       "      <td>2021-02-18 11:22:36</td>\n",
       "      <td>360</td>\n",
       "      <td>2</td>\n",
       "    </tr>\n",
       "  </tbody>\n",
       "</table>\n",
       "<p>6735 rows × 5 columns</p>\n",
       "</div>"
      ],
      "text/plain": [
       "      purchase_id  purchase_timestamp  delivery_timestamp  delivery_company  \\\n",
       "0           20001 2021-05-17 02:58:18 2021-05-20 03:00:00               620   \n",
       "1           20002 2021-05-22 10:25:01 2021-05-24 10:26:28               360   \n",
       "2           20003 2021-01-08 23:15:05 2021-01-10 23:17:28               516   \n",
       "3           20004 2021-05-21 13:23:18 2021-05-25 13:27:01               360   \n",
       "4           20005 2021-02-20 12:54:25 2021-02-23 12:57:33               516   \n",
       "...           ...                 ...                 ...               ...   \n",
       "6730        26731 2021-06-28 07:05:24 2021-06-30 07:09:05               516   \n",
       "6731        26732 2021-05-28 20:47:52 2021-06-01 20:51:56               516   \n",
       "6732        26733 2021-10-28 17:16:20 2021-11-02 17:20:19               360   \n",
       "6733        26734 2021-09-02 07:50:58 2021-09-07 07:54:30               360   \n",
       "6734        26735 2021-02-15 11:17:59 2021-02-18 11:22:36               360   \n",
       "\n",
       "     month  \n",
       "0        5  \n",
       "1        5  \n",
       "2        1  \n",
       "3        5  \n",
       "4        2  \n",
       "...    ...  \n",
       "6730     6  \n",
       "6731     5  \n",
       "6732    10  \n",
       "6733     9  \n",
       "6734     2  \n",
       "\n",
       "[6735 rows x 5 columns]"
      ]
     },
     "execution_count": 12,
     "metadata": {},
     "output_type": "execute_result"
    }
   ],
   "source": [
    "deliveries_temp_df = deliveries_df\n",
    "deliveries_temp_df[\"month\"] = deliveries_temp_df[\"purchase_timestamp\"].apply(lambda x:\"%d\" % (x.month))\n",
    "deliveries_temp_df"
   ]
  },
  {
   "cell_type": "code",
   "execution_count": 13,
   "id": "dc715017",
   "metadata": {},
   "outputs": [
    {
     "data": {
      "text/plain": [
       "10    636\n",
       "7     622\n",
       "3     611\n",
       "9     605\n",
       "4     601\n",
       "1     597\n",
       "5     596\n",
       "6     579\n",
       "8     577\n",
       "11    568\n",
       "2     564\n",
       "12    179\n",
       "Name: month, dtype: int64"
      ]
     },
     "execution_count": 13,
     "metadata": {},
     "output_type": "execute_result"
    }
   ],
   "source": [
    "deliveries_temp_df[\"month\"].value_counts()"
   ]
  },
  {
   "cell_type": "code",
   "execution_count": 14,
   "id": "0fc8fee1",
   "metadata": {},
   "outputs": [
    {
     "data": {
      "image/png": "[encoded data removed]",
      "text/plain": [
       "<Figure size 432x288 with 1 Axes>"
      ]
     },
     "metadata": {
      "needs_background": "light"
     },
     "output_type": "display_data"
    }
   ],
   "source": [
    "months = deliveries_temp_df[\"month\"].value_counts()\n",
    "plot_bar(series=months, title=\"Występujące miesiące\", ylabel=\"Ilość wystąpień\", xlabel=\"Numer miesiąca\")"
   ]
  },
  {
   "cell_type": "markdown",
   "id": "a58b239b",
   "metadata": {},
   "source": [
    "### Dodanie kolumny z czasem dostawy"
   ]
  },
  {
   "cell_type": "code",
   "execution_count": 15,
   "id": "471cfe15",
   "metadata": {},
   "outputs": [
    {
     "data": {
      "text/html": [
       "<div>\n",
       "<style scoped>\n",
       "    .dataframe tbody tr th:only-of-type {\n",
       "        vertical-align: middle;\n",
       "    }\n",
       "\n",
       "    .dataframe tbody tr th {\n",
       "        vertical-align: top;\n",
       "    }\n",
       "\n",
       "    .dataframe thead th {\n",
       "        text-align: right;\n",
       "    }\n",
       "</style>\n",
       "<table border=\"1\" class=\"dataframe\">\n",
       "  <thead>\n",
       "    <tr style=\"text-align: right;\">\n",
       "      <th></th>\n",
       "      <th>purchase_id</th>\n",
       "      <th>purchase_timestamp</th>\n",
       "      <th>delivery_timestamp</th>\n",
       "      <th>delivery_company</th>\n",
       "      <th>month</th>\n",
       "      <th>deliver_time</th>\n",
       "    </tr>\n",
       "  </thead>\n",
       "  <tbody>\n",
       "    <tr>\n",
       "      <th>0</th>\n",
       "      <td>20001</td>\n",
       "      <td>2021-05-17 02:58:18</td>\n",
       "      <td>2021-05-20 03:00:00</td>\n",
       "      <td>620</td>\n",
       "      <td>5</td>\n",
       "      <td>3.001181</td>\n",
       "    </tr>\n",
       "    <tr>\n",
       "      <th>1</th>\n",
       "      <td>20002</td>\n",
       "      <td>2021-05-22 10:25:01</td>\n",
       "      <td>2021-05-24 10:26:28</td>\n",
       "      <td>360</td>\n",
       "      <td>5</td>\n",
       "      <td>2.001007</td>\n",
       "    </tr>\n",
       "    <tr>\n",
       "      <th>2</th>\n",
       "      <td>20003</td>\n",
       "      <td>2021-01-08 23:15:05</td>\n",
       "      <td>2021-01-10 23:17:28</td>\n",
       "      <td>516</td>\n",
       "      <td>1</td>\n",
       "      <td>2.001655</td>\n",
       "    </tr>\n",
       "    <tr>\n",
       "      <th>3</th>\n",
       "      <td>20004</td>\n",
       "      <td>2021-05-21 13:23:18</td>\n",
       "      <td>2021-05-25 13:27:01</td>\n",
       "      <td>360</td>\n",
       "      <td>5</td>\n",
       "      <td>4.002581</td>\n",
       "    </tr>\n",
       "    <tr>\n",
       "      <th>4</th>\n",
       "      <td>20005</td>\n",
       "      <td>2021-02-20 12:54:25</td>\n",
       "      <td>2021-02-23 12:57:33</td>\n",
       "      <td>516</td>\n",
       "      <td>2</td>\n",
       "      <td>3.002176</td>\n",
       "    </tr>\n",
       "    <tr>\n",
       "      <th>...</th>\n",
       "      <td>...</td>\n",
       "      <td>...</td>\n",
       "      <td>...</td>\n",
       "      <td>...</td>\n",
       "      <td>...</td>\n",
       "      <td>...</td>\n",
       "    </tr>\n",
       "    <tr>\n",
       "      <th>6730</th>\n",
       "      <td>26731</td>\n",
       "      <td>2021-06-28 07:05:24</td>\n",
       "      <td>2021-06-30 07:09:05</td>\n",
       "      <td>516</td>\n",
       "      <td>6</td>\n",
       "      <td>2.002558</td>\n",
       "    </tr>\n",
       "    <tr>\n",
       "      <th>6731</th>\n",
       "      <td>26732</td>\n",
       "      <td>2021-05-28 20:47:52</td>\n",
       "      <td>2021-06-01 20:51:56</td>\n",
       "      <td>516</td>\n",
       "      <td>5</td>\n",
       "      <td>4.002824</td>\n",
       "    </tr>\n",
       "    <tr>\n",
       "      <th>6732</th>\n",
       "      <td>26733</td>\n",
       "      <td>2021-10-28 17:16:20</td>\n",
       "      <td>2021-11-02 17:20:19</td>\n",
       "      <td>360</td>\n",
       "      <td>10</td>\n",
       "      <td>5.002766</td>\n",
       "    </tr>\n",
       "    <tr>\n",
       "      <th>6733</th>\n",
       "      <td>26734</td>\n",
       "      <td>2021-09-02 07:50:58</td>\n",
       "      <td>2021-09-07 07:54:30</td>\n",
       "      <td>360</td>\n",
       "      <td>9</td>\n",
       "      <td>5.002454</td>\n",
       "    </tr>\n",
       "    <tr>\n",
       "      <th>6734</th>\n",
       "      <td>26735</td>\n",
       "      <td>2021-02-15 11:17:59</td>\n",
       "      <td>2021-02-18 11:22:36</td>\n",
       "      <td>360</td>\n",
       "      <td>2</td>\n",
       "      <td>3.003206</td>\n",
       "    </tr>\n",
       "  </tbody>\n",
       "</table>\n",
       "<p>6735 rows × 6 columns</p>\n",
       "</div>"
      ],
      "text/plain": [
       "      purchase_id  purchase_timestamp  delivery_timestamp  delivery_company  \\\n",
       "0           20001 2021-05-17 02:58:18 2021-05-20 03:00:00               620   \n",
       "1           20002 2021-05-22 10:25:01 2021-05-24 10:26:28               360   \n",
       "2           20003 2021-01-08 23:15:05 2021-01-10 23:17:28               516   \n",
       "3           20004 2021-05-21 13:23:18 2021-05-25 13:27:01               360   \n",
       "4           20005 2021-02-20 12:54:25 2021-02-23 12:57:33               516   \n",
       "...           ...                 ...                 ...               ...   \n",
       "6730        26731 2021-06-28 07:05:24 2021-06-30 07:09:05               516   \n",
       "6731        26732 2021-05-28 20:47:52 2021-06-01 20:51:56               516   \n",
       "6732        26733 2021-10-28 17:16:20 2021-11-02 17:20:19               360   \n",
       "6733        26734 2021-09-02 07:50:58 2021-09-07 07:54:30               360   \n",
       "6734        26735 2021-02-15 11:17:59 2021-02-18 11:22:36               360   \n",
       "\n",
       "     month  deliver_time  \n",
       "0        5      3.001181  \n",
       "1        5      2.001007  \n",
       "2        1      2.001655  \n",
       "3        5      4.002581  \n",
       "4        2      3.002176  \n",
       "...    ...           ...  \n",
       "6730     6      2.002558  \n",
       "6731     5      4.002824  \n",
       "6732    10      5.002766  \n",
       "6733     9      5.002454  \n",
       "6734     2      3.003206  \n",
       "\n",
       "[6735 rows x 6 columns]"
      ]
     },
     "execution_count": 15,
     "metadata": {},
     "output_type": "execute_result"
    }
   ],
   "source": [
    "deliveries_df[\"deliver_time\"] = (deliveries_df[\"delivery_timestamp\"] - deliveries_df[\"purchase_timestamp\"])\n",
    "deliveries_df[\"deliver_time\"] = deliveries_df[\"deliver_time\"] / np.timedelta64(1, 'D')\n",
    "deliveries_df"
   ]
  },
  {
   "cell_type": "markdown",
   "id": "43daec07",
   "metadata": {},
   "source": [
    "### Wyznaczenie histogramu atrybutu \"deliver_time\""
   ]
  },
  {
   "cell_type": "code",
   "execution_count": 16,
   "id": "72e8cfba",
   "metadata": {},
   "outputs": [
    {
     "data": {
      "text/plain": [
       "2.0000578703703704"
      ]
     },
     "execution_count": 16,
     "metadata": {},
     "output_type": "execute_result"
    }
   ],
   "source": [
    "deliveries_df[\"deliver_time\"].min()"
   ]
  },
  {
   "cell_type": "code",
   "execution_count": 17,
   "id": "0edd67ac",
   "metadata": {},
   "outputs": [
    {
     "data": {
      "text/plain": [
       "5.003472222222222"
      ]
     },
     "execution_count": 17,
     "metadata": {},
     "output_type": "execute_result"
    }
   ],
   "source": [
    "deliveries_df[\"deliver_time\"].max()"
   ]
  },
  {
   "cell_type": "code",
   "execution_count": 18,
   "id": "5335a5c5",
   "metadata": {},
   "outputs": [
    {
     "data": {
      "image/png": "[encoded data removed]",
      "text/plain": [
       "<Figure size 432x288 with 1 Axes>"
      ]
     },
     "metadata": {
      "needs_background": "light"
     },
     "output_type": "display_data"
    }
   ],
   "source": [
    "bins = np.arange(1,8)\n",
    "plt.hist(deliveries_df[\"deliver_time\"], bins=bins, edgecolor='black')\n",
    "plt.show()"
   ]
  },
  {
   "cell_type": "markdown",
   "id": "c0ee7c04",
   "metadata": {},
   "source": [
    "### Analiza atrybutu \"deliver_company\""
   ]
  },
  {
   "cell_type": "code",
   "execution_count": 19,
   "id": "3842ddbe",
   "metadata": {},
   "outputs": [
    {
     "data": {
      "text/plain": [
       "620    2298\n",
       "360    2245\n",
       "516    2192\n",
       "Name: delivery_company, dtype: int64"
      ]
     },
     "execution_count": 19,
     "metadata": {},
     "output_type": "execute_result"
    }
   ],
   "source": [
    "deliveries_df[\"delivery_company\"].value_counts()"
   ]
  },
  {
   "cell_type": "code",
   "execution_count": 20,
   "id": "0c687c38",
   "metadata": {},
   "outputs": [
    {
     "data": {
      "image/png": "[encoded data removed]",
      "text/plain": [
       "<Figure size 432x288 with 1 Axes>"
      ]
     },
     "metadata": {
      "needs_background": "light"
     },
     "output_type": "display_data"
    }
   ],
   "source": [
    "companies = deliveries_df[\"delivery_company\"].value_counts()\n",
    "plot_bar(series=companies, title=\"Występujące frimy\", ylabel=\"Ilość wystąpień\", xlabel=\"Id firmy\")"
   ]
  },
  {
   "cell_type": "code",
   "execution_count": 21,
   "id": "d207b855",
   "metadata": {},
   "outputs": [
    {
     "data": {
      "text/plain": [
       "False    6735\n",
       "Name: delivery_company, dtype: int64"
      ]
     },
     "execution_count": 21,
     "metadata": {},
     "output_type": "execute_result"
    }
   ],
   "source": [
    "deliveries_df.delivery_company.isnull().value_counts()"
   ]
  },
  {
   "cell_type": "code",
   "execution_count": 22,
   "id": "844e6291",
   "metadata": {},
   "outputs": [
    {
     "data": {
      "text/html": [
       "<div>\n",
       "<style scoped>\n",
       "    .dataframe tbody tr th:only-of-type {\n",
       "        vertical-align: middle;\n",
       "    }\n",
       "\n",
       "    .dataframe tbody tr th {\n",
       "        vertical-align: top;\n",
       "    }\n",
       "\n",
       "    .dataframe thead th {\n",
       "        text-align: right;\n",
       "    }\n",
       "</style>\n",
       "<table border=\"1\" class=\"dataframe\">\n",
       "  <thead>\n",
       "    <tr style=\"text-align: right;\">\n",
       "      <th></th>\n",
       "      <th>purchase_id</th>\n",
       "      <th>purchase_timestamp</th>\n",
       "      <th>delivery_timestamp</th>\n",
       "      <th>delivery_company</th>\n",
       "      <th>month</th>\n",
       "      <th>deliver_time</th>\n",
       "    </tr>\n",
       "  </thead>\n",
       "  <tbody>\n",
       "  </tbody>\n",
       "</table>\n",
       "</div>"
      ],
      "text/plain": [
       "Empty DataFrame\n",
       "Columns: [purchase_id, purchase_timestamp, delivery_timestamp, delivery_company, month, deliver_time]\n",
       "Index: []"
      ]
     },
     "execution_count": 22,
     "metadata": {},
     "output_type": "execute_result"
    }
   ],
   "source": [
    "deliveries_df[deliveries_df.delivery_company.isnull()]"
   ]
  },
  {
   "cell_type": "markdown",
   "id": "2212ac22",
   "metadata": {},
   "source": [
    "### Analiza atrybutu \"delivery_timestamp\""
   ]
  },
  {
   "cell_type": "code",
   "execution_count": 23,
   "id": "68f21cc1",
   "metadata": {},
   "outputs": [
    {
     "data": {
      "text/plain": [
       "False    6735\n",
       "Name: delivery_timestamp, dtype: int64"
      ]
     },
     "execution_count": 23,
     "metadata": {},
     "output_type": "execute_result"
    }
   ],
   "source": [
    "deliveries_df.delivery_timestamp.isnull().value_counts()"
   ]
  },
  {
   "cell_type": "code",
   "execution_count": 24,
   "id": "b5c54f84-7e18-4684-8dff-d9a82002c45c",
   "metadata": {},
   "outputs": [
    {
     "data": {
      "text/html": [
       "<div>\n",
       "<style scoped>\n",
       "    .dataframe tbody tr th:only-of-type {\n",
       "        vertical-align: middle;\n",
       "    }\n",
       "\n",
       "    .dataframe tbody tr th {\n",
       "        vertical-align: top;\n",
       "    }\n",
       "\n",
       "    .dataframe thead th {\n",
       "        text-align: right;\n",
       "    }\n",
       "</style>\n",
       "<table border=\"1\" class=\"dataframe\">\n",
       "  <thead>\n",
       "    <tr style=\"text-align: right;\">\n",
       "      <th></th>\n",
       "      <th>purchase_id</th>\n",
       "      <th>purchase_timestamp</th>\n",
       "      <th>delivery_timestamp</th>\n",
       "      <th>delivery_company</th>\n",
       "      <th>month</th>\n",
       "      <th>deliver_time</th>\n",
       "    </tr>\n",
       "  </thead>\n",
       "  <tbody>\n",
       "  </tbody>\n",
       "</table>\n",
       "</div>"
      ],
      "text/plain": [
       "Empty DataFrame\n",
       "Columns: [purchase_id, purchase_timestamp, delivery_timestamp, delivery_company, month, deliver_time]\n",
       "Index: []"
      ]
     },
     "execution_count": 24,
     "metadata": {},
     "output_type": "execute_result"
    }
   ],
   "source": [
    "deliveries_df[deliveries_df.delivery_timestamp.isnull()]"
   ]
  },
  {
   "cell_type": "markdown",
   "id": "86655296-4271-426f-9e06-dbdcaa096325",
   "metadata": {},
   "source": [
    "### Ilość wierszy z brakującą zarówno datą dostawy, jak i firmą dostarczającą"
   ]
  },
  {
   "cell_type": "code",
   "execution_count": 25,
   "id": "110c2858-8558-4cdc-b292-a729f0bdb808",
   "metadata": {},
   "outputs": [
    {
     "data": {
      "text/plain": [
       "0"
      ]
     },
     "execution_count": 25,
     "metadata": {},
     "output_type": "execute_result"
    }
   ],
   "source": [
    "filt1 = deliveries_df.delivery_timestamp.isnull()\n",
    "filt2 = deliveries_df.delivery_company.isnull()\n",
    "both_nan = np.where(filt1, (np.where(filt2, 1, 0)), 0).sum()\n",
    "both_nan"
   ]
  },
  {
   "cell_type": "markdown",
   "id": "2bde69b5-242d-4c6d-a4f9-a3b9a5ff36a2",
   "metadata": {},
   "source": [
    "W celu ułatwienia analizy została dodana kolumna \"czas dostawy\", która jest różnicą między datą dostarczenia i datą złożenia zamówienia, jednostką jest dzień. Najkrótszy czas dostawy wynosi 2 dni, a najdłuższy - 5 dni. Z histogramu wartości tego atrybutu wynika, że ten atrybut ma rozkład, który najbardziej przypomina rozkład jednostajny. Poza tym najwcześniej zamówienie złożono w styczniu, a najpóźniej - w grudniu.\n"
   ]
  },
  {
   "cell_type": "markdown",
   "id": "bff08f66-8dae-448b-aa93-f1f87c8ed357",
   "metadata": {},
   "source": [
    "## Produkty"
   ]
  },
  {
   "cell_type": "code",
   "execution_count": 26,
   "id": "7d6c051c",
   "metadata": {},
   "outputs": [
    {
     "name": "stdout",
     "output_type": "stream",
     "text": [
      "<class 'pandas.core.frame.DataFrame'>\n",
      "RangeIndex: 319 entries, 0 to 318\n",
      "Data columns (total 4 columns):\n",
      " #   Column         Non-Null Count  Dtype  \n",
      "---  ------         --------------  -----  \n",
      " 0   product_id     319 non-null    int64  \n",
      " 1   product_name   319 non-null    object \n",
      " 2   category_path  319 non-null    object \n",
      " 3   price          319 non-null    float64\n",
      "dtypes: float64(1), int64(1), object(2)\n",
      "memory usage: 10.1+ KB\n"
     ]
    }
   ],
   "source": [
    "products_df.info()"
   ]
  },
  {
   "cell_type": "code",
   "execution_count": 27,
   "id": "cc5d57d6-57d3-4ebf-9ad3-09bf4ed381c6",
   "metadata": {},
   "outputs": [
    {
     "data": {
      "text/html": [
       "<div>\n",
       "<style scoped>\n",
       "    .dataframe tbody tr th:only-of-type {\n",
       "        vertical-align: middle;\n",
       "    }\n",
       "\n",
       "    .dataframe tbody tr th {\n",
       "        vertical-align: top;\n",
       "    }\n",
       "\n",
       "    .dataframe thead th {\n",
       "        text-align: right;\n",
       "    }\n",
       "</style>\n",
       "<table border=\"1\" class=\"dataframe\">\n",
       "  <thead>\n",
       "    <tr style=\"text-align: right;\">\n",
       "      <th></th>\n",
       "      <th>product_id</th>\n",
       "      <th>product_name</th>\n",
       "      <th>category_path</th>\n",
       "      <th>price</th>\n",
       "    </tr>\n",
       "  </thead>\n",
       "  <tbody>\n",
       "    <tr>\n",
       "      <th>0</th>\n",
       "      <td>1001</td>\n",
       "      <td>Telefon Siemens Gigaset DA310</td>\n",
       "      <td>Telefony i akcesoria;Telefony stacjonarne</td>\n",
       "      <td>58.97</td>\n",
       "    </tr>\n",
       "    <tr>\n",
       "      <th>1</th>\n",
       "      <td>1002</td>\n",
       "      <td>Kyocera FS-1135MFP</td>\n",
       "      <td>Komputery;Drukarki i skanery;Biurowe urządzeni...</td>\n",
       "      <td>2048.50</td>\n",
       "    </tr>\n",
       "    <tr>\n",
       "      <th>2</th>\n",
       "      <td>1003</td>\n",
       "      <td>Kyocera FS-3640MFP</td>\n",
       "      <td>Komputery;Drukarki i skanery;Biurowe urządzeni...</td>\n",
       "      <td>7639.00</td>\n",
       "    </tr>\n",
       "    <tr>\n",
       "      <th>3</th>\n",
       "      <td>1004</td>\n",
       "      <td>Fallout 3 (Xbox 360)</td>\n",
       "      <td>Gry i konsole;Gry na konsole;Gry Xbox 360</td>\n",
       "      <td>49.99</td>\n",
       "    </tr>\n",
       "    <tr>\n",
       "      <th>4</th>\n",
       "      <td>1005</td>\n",
       "      <td>Szalone Króliki Na żywo i w kolorze (Xbox 360)</td>\n",
       "      <td>Gry i konsole;Gry na konsole;Gry Xbox 360</td>\n",
       "      <td>49.99</td>\n",
       "    </tr>\n",
       "    <tr>\n",
       "      <th>...</th>\n",
       "      <td>...</td>\n",
       "      <td>...</td>\n",
       "      <td>...</td>\n",
       "      <td>...</td>\n",
       "    </tr>\n",
       "    <tr>\n",
       "      <th>314</th>\n",
       "      <td>1315</td>\n",
       "      <td>Jabra Talk</td>\n",
       "      <td>Telefony i akcesoria;Akcesoria telefoniczne;Ze...</td>\n",
       "      <td>54.99</td>\n",
       "    </tr>\n",
       "    <tr>\n",
       "      <th>315</th>\n",
       "      <td>1316</td>\n",
       "      <td>Plantronics Voyager Legend</td>\n",
       "      <td>Telefony i akcesoria;Akcesoria telefoniczne;Ze...</td>\n",
       "      <td>249.00</td>\n",
       "    </tr>\n",
       "    <tr>\n",
       "      <th>316</th>\n",
       "      <td>1317</td>\n",
       "      <td>Plantronics Savi W740</td>\n",
       "      <td>Telefony i akcesoria;Akcesoria telefoniczne;Ze...</td>\n",
       "      <td>1303.96</td>\n",
       "    </tr>\n",
       "    <tr>\n",
       "      <th>317</th>\n",
       "      <td>1318</td>\n",
       "      <td>Plantronics Savi W710</td>\n",
       "      <td>Sprzęt RTV;Audio;Słuchawki</td>\n",
       "      <td>553.00</td>\n",
       "    </tr>\n",
       "    <tr>\n",
       "      <th>318</th>\n",
       "      <td>1319</td>\n",
       "      <td>HTC HS-S200</td>\n",
       "      <td>Telefony i akcesoria;Akcesoria telefoniczne;Ze...</td>\n",
       "      <td>14.99</td>\n",
       "    </tr>\n",
       "  </tbody>\n",
       "</table>\n",
       "<p>319 rows × 4 columns</p>\n",
       "</div>"
      ],
      "text/plain": [
       "     product_id                                    product_name  \\\n",
       "0          1001                   Telefon Siemens Gigaset DA310   \n",
       "1          1002                              Kyocera FS-1135MFP   \n",
       "2          1003                              Kyocera FS-3640MFP   \n",
       "3          1004                            Fallout 3 (Xbox 360)   \n",
       "4          1005  Szalone Króliki Na żywo i w kolorze (Xbox 360)   \n",
       "..          ...                                             ...   \n",
       "314        1315                                      Jabra Talk   \n",
       "315        1316                      Plantronics Voyager Legend   \n",
       "316        1317                           Plantronics Savi W740   \n",
       "317        1318                           Plantronics Savi W710   \n",
       "318        1319                                     HTC HS-S200   \n",
       "\n",
       "                                         category_path    price  \n",
       "0            Telefony i akcesoria;Telefony stacjonarne    58.97  \n",
       "1    Komputery;Drukarki i skanery;Biurowe urządzeni...  2048.50  \n",
       "2    Komputery;Drukarki i skanery;Biurowe urządzeni...  7639.00  \n",
       "3            Gry i konsole;Gry na konsole;Gry Xbox 360    49.99  \n",
       "4            Gry i konsole;Gry na konsole;Gry Xbox 360    49.99  \n",
       "..                                                 ...      ...  \n",
       "314  Telefony i akcesoria;Akcesoria telefoniczne;Ze...    54.99  \n",
       "315  Telefony i akcesoria;Akcesoria telefoniczne;Ze...   249.00  \n",
       "316  Telefony i akcesoria;Akcesoria telefoniczne;Ze...  1303.96  \n",
       "317                         Sprzęt RTV;Audio;Słuchawki   553.00  \n",
       "318  Telefony i akcesoria;Akcesoria telefoniczne;Ze...    14.99  \n",
       "\n",
       "[319 rows x 4 columns]"
      ]
     },
     "execution_count": 27,
     "metadata": {},
     "output_type": "execute_result"
    }
   ],
   "source": [
    "products_df"
   ]
  },
  {
   "cell_type": "code",
   "execution_count": 28,
   "id": "ac090957-6e4b-4b00-9082-ca22e2b46d77",
   "metadata": {
    "scrolled": true
   },
   "outputs": [
    {
     "data": {
      "text/html": [
       "<div>\n",
       "<style scoped>\n",
       "    .dataframe tbody tr th:only-of-type {\n",
       "        vertical-align: middle;\n",
       "    }\n",
       "\n",
       "    .dataframe tbody tr th {\n",
       "        vertical-align: top;\n",
       "    }\n",
       "\n",
       "    .dataframe thead th {\n",
       "        text-align: right;\n",
       "    }\n",
       "</style>\n",
       "<table border=\"1\" class=\"dataframe\">\n",
       "  <thead>\n",
       "    <tr style=\"text-align: right;\">\n",
       "      <th></th>\n",
       "      <th>product_id</th>\n",
       "      <th>product_name</th>\n",
       "      <th>category_path</th>\n",
       "      <th>price</th>\n",
       "    </tr>\n",
       "  </thead>\n",
       "  <tbody>\n",
       "  </tbody>\n",
       "</table>\n",
       "</div>"
      ],
      "text/plain": [
       "Empty DataFrame\n",
       "Columns: [product_id, product_name, category_path, price]\n",
       "Index: []"
      ]
     },
     "execution_count": 28,
     "metadata": {},
     "output_type": "execute_result"
    }
   ],
   "source": [
    "products_df[products_df.price <= 0]"
   ]
  },
  {
   "cell_type": "code",
   "execution_count": 29,
   "id": "dcc64335",
   "metadata": {},
   "outputs": [
    {
     "data": {
      "text/html": [
       "<div>\n",
       "<style scoped>\n",
       "    .dataframe tbody tr th:only-of-type {\n",
       "        vertical-align: middle;\n",
       "    }\n",
       "\n",
       "    .dataframe tbody tr th {\n",
       "        vertical-align: top;\n",
       "    }\n",
       "\n",
       "    .dataframe thead th {\n",
       "        text-align: right;\n",
       "    }\n",
       "</style>\n",
       "<table border=\"1\" class=\"dataframe\">\n",
       "  <thead>\n",
       "    <tr style=\"text-align: right;\">\n",
       "      <th></th>\n",
       "      <th>product_id</th>\n",
       "      <th>product_name</th>\n",
       "      <th>category_path</th>\n",
       "      <th>price</th>\n",
       "    </tr>\n",
       "  </thead>\n",
       "  <tbody>\n",
       "  </tbody>\n",
       "</table>\n",
       "</div>"
      ],
      "text/plain": [
       "Empty DataFrame\n",
       "Columns: [product_id, product_name, category_path, price]\n",
       "Index: []"
      ]
     },
     "execution_count": 29,
     "metadata": {},
     "output_type": "execute_result"
    }
   ],
   "source": [
    "products_df[products_df.price > 100000]"
   ]
  },
  {
   "cell_type": "code",
   "execution_count": 30,
   "id": "26ff56f9-bea6-436a-8fff-d8197093ca96",
   "metadata": {},
   "outputs": [
    {
     "data": {
      "text/plain": [
       "category_path\n",
       "Gry i konsole;Gry komputerowe                                        202\n",
       "Gry i konsole;Gry na konsole;Gry Xbox 360                             32\n",
       "Sprzęt RTV;Video;Telewizory i akcesoria;Anteny RTV                    30\n",
       "Komputery;Monitory;Monitory LCD                                       17\n",
       "Gry i konsole;Gry na konsole;Gry PlayStation3                          9\n",
       "Komputery;Drukarki i skanery;Biurowe urządzenia wielofunkcyjne         9\n",
       "Telefony i akcesoria;Akcesoria telefoniczne;Zestawy głośnomówiące      5\n",
       "Telefony i akcesoria;Akcesoria telefoniczne;Zestawy słuchawkowe        4\n",
       "Komputery;Tablety i akcesoria;Tablety                                  2\n",
       "Sprzęt RTV;Przenośne audio i video;Odtwarzacze mp3 i mp4               2\n",
       "Sprzęt RTV;Video;Odtwarzacze DVD                                       2\n",
       "Telefony i akcesoria;Telefony komórkowe                                2\n",
       "Sprzęt RTV;Audio;Słuchawki                                             1\n",
       "Sprzęt RTV;Video;Telewizory i akcesoria;Okulary 3D                     1\n",
       "Telefony i akcesoria;Telefony stacjonarne                              1\n",
       "dtype: int64"
      ]
     },
     "execution_count": 30,
     "metadata": {},
     "output_type": "execute_result"
    }
   ],
   "source": [
    "products_df.groupby(\"category_path\").size().sort_values(ascending=False)"
   ]
  },
  {
   "cell_type": "code",
   "execution_count": 31,
   "id": "aa1182a2",
   "metadata": {},
   "outputs": [
    {
     "data": {
      "image/png": "[encoded data removed]",
      "text/plain": [
       "<Figure size 432x288 with 1 Axes>"
      ]
     },
     "metadata": {
      "needs_background": "light"
     },
     "output_type": "display_data"
    }
   ],
   "source": [
    "categories = products_df[\"category_path\"].value_counts()\n",
    "plot_bar(series=categories, title=\"Kategorie produktów\", ylabel=\"Ilość\", rotation=90)"
   ]
  },
  {
   "cell_type": "markdown",
   "id": "1754f3d0-b6cb-4b0d-9ea1-b51c1727937f",
   "metadata": {},
   "source": [
    "W przypadku tabeli \"Products\" dominującą klasą są \"Gry komputerowe\"."
   ]
  },
  {
   "cell_type": "markdown",
   "id": "f2d7ce7b-1716-4fb3-8114-c3031f37d205",
   "metadata": {},
   "source": [
    "## Sesje"
   ]
  },
  {
   "cell_type": "code",
   "execution_count": 32,
   "id": "b0fd0a6c-38aa-4465-ba56-7a3f5b547d97",
   "metadata": {},
   "outputs": [
    {
     "name": "stdout",
     "output_type": "stream",
     "text": [
      "<class 'pandas.core.frame.DataFrame'>\n",
      "RangeIndex: 37765 entries, 0 to 37764\n",
      "Data columns (total 7 columns):\n",
      " #   Column            Non-Null Count  Dtype         \n",
      "---  ------            --------------  -----         \n",
      " 0   session_id        37765 non-null  int64         \n",
      " 1   timestamp         37765 non-null  datetime64[ns]\n",
      " 2   user_id           37765 non-null  int64         \n",
      " 3   product_id        37765 non-null  int64         \n",
      " 4   event_type        37765 non-null  object        \n",
      " 5   offered_discount  36246 non-null  float64       \n",
      " 6   purchase_id       8254 non-null   float64       \n",
      "dtypes: datetime64[ns](1), float64(2), int64(3), object(1)\n",
      "memory usage: 2.0+ MB\n"
     ]
    }
   ],
   "source": [
    "sessions_df.info()"
   ]
  },
  {
   "cell_type": "code",
   "execution_count": 33,
   "id": "ba5034f8",
   "metadata": {},
   "outputs": [
    {
     "data": {
      "text/plain": [
       "0"
      ]
     },
     "execution_count": 33,
     "metadata": {},
     "output_type": "execute_result"
    }
   ],
   "source": [
    "sessions_df.user_id.isnull().sum()"
   ]
  },
  {
   "cell_type": "code",
   "execution_count": 34,
   "id": "8689c4d2",
   "metadata": {},
   "outputs": [
    {
     "data": {
      "text/plain": [
       "0"
      ]
     },
     "execution_count": 34,
     "metadata": {},
     "output_type": "execute_result"
    }
   ],
   "source": [
    "sessions_df.product_id.isnull().sum()"
   ]
  },
  {
   "cell_type": "code",
   "execution_count": 35,
   "id": "b38d3297",
   "metadata": {},
   "outputs": [
    {
     "data": {
      "text/plain": [
       "VIEW_PRODUCT      29511\n",
       "BUY_PRODUCT        6735\n",
       "RETURN_PRODUCT     1519\n",
       "Name: event_type, dtype: int64"
      ]
     },
     "execution_count": 35,
     "metadata": {},
     "output_type": "execute_result"
    }
   ],
   "source": [
    "sessions_df[\"event_type\"].value_counts()"
   ]
  },
  {
   "cell_type": "code",
   "execution_count": 36,
   "id": "79f54b44",
   "metadata": {},
   "outputs": [
    {
     "data": {
      "text/html": [
       "<div>\n",
       "<style scoped>\n",
       "    .dataframe tbody tr th:only-of-type {\n",
       "        vertical-align: middle;\n",
       "    }\n",
       "\n",
       "    .dataframe tbody tr th {\n",
       "        vertical-align: top;\n",
       "    }\n",
       "\n",
       "    .dataframe thead th {\n",
       "        text-align: right;\n",
       "    }\n",
       "</style>\n",
       "<table border=\"1\" class=\"dataframe\">\n",
       "  <thead>\n",
       "    <tr style=\"text-align: right;\">\n",
       "      <th></th>\n",
       "      <th>session_id</th>\n",
       "      <th>timestamp</th>\n",
       "      <th>user_id</th>\n",
       "      <th>product_id</th>\n",
       "      <th>event_type</th>\n",
       "      <th>offered_discount</th>\n",
       "      <th>purchase_id</th>\n",
       "    </tr>\n",
       "  </thead>\n",
       "  <tbody>\n",
       "    <tr>\n",
       "      <th>19</th>\n",
       "      <td>130</td>\n",
       "      <td>2021-11-30 00:18:00.498405</td>\n",
       "      <td>102</td>\n",
       "      <td>1293</td>\n",
       "      <td>RETURN_PRODUCT</td>\n",
       "      <td>NaN</td>\n",
       "      <td>20004.0</td>\n",
       "    </tr>\n",
       "    <tr>\n",
       "      <th>44</th>\n",
       "      <td>138</td>\n",
       "      <td>2021-11-29 21:45:53.206183</td>\n",
       "      <td>102</td>\n",
       "      <td>1080</td>\n",
       "      <td>RETURN_PRODUCT</td>\n",
       "      <td>NaN</td>\n",
       "      <td>20009.0</td>\n",
       "    </tr>\n",
       "    <tr>\n",
       "      <th>65</th>\n",
       "      <td>147</td>\n",
       "      <td>2021-11-29 21:07:31.607449</td>\n",
       "      <td>102</td>\n",
       "      <td>1233</td>\n",
       "      <td>RETURN_PRODUCT</td>\n",
       "      <td>NaN</td>\n",
       "      <td>20013.0</td>\n",
       "    </tr>\n",
       "    <tr>\n",
       "      <th>69</th>\n",
       "      <td>149</td>\n",
       "      <td>2021-12-10 04:44:16.907348</td>\n",
       "      <td>102</td>\n",
       "      <td>1276</td>\n",
       "      <td>RETURN_PRODUCT</td>\n",
       "      <td>NaN</td>\n",
       "      <td>20014.0</td>\n",
       "    </tr>\n",
       "    <tr>\n",
       "      <th>82</th>\n",
       "      <td>153</td>\n",
       "      <td>2021-11-29 23:13:03.648052</td>\n",
       "      <td>102</td>\n",
       "      <td>1001</td>\n",
       "      <td>RETURN_PRODUCT</td>\n",
       "      <td>NaN</td>\n",
       "      <td>20016.0</td>\n",
       "    </tr>\n",
       "    <tr>\n",
       "      <th>...</th>\n",
       "      <td>...</td>\n",
       "      <td>...</td>\n",
       "      <td>...</td>\n",
       "      <td>...</td>\n",
       "      <td>...</td>\n",
       "      <td>...</td>\n",
       "      <td>...</td>\n",
       "    </tr>\n",
       "    <tr>\n",
       "      <th>37638</th>\n",
       "      <td>11165</td>\n",
       "      <td>2021-11-28 17:39:02.242481</td>\n",
       "      <td>301</td>\n",
       "      <td>1035</td>\n",
       "      <td>RETURN_PRODUCT</td>\n",
       "      <td>NaN</td>\n",
       "      <td>26716.0</td>\n",
       "    </tr>\n",
       "    <tr>\n",
       "      <th>37654</th>\n",
       "      <td>11172</td>\n",
       "      <td>2021-11-28 22:09:40.715446</td>\n",
       "      <td>301</td>\n",
       "      <td>1201</td>\n",
       "      <td>RETURN_PRODUCT</td>\n",
       "      <td>NaN</td>\n",
       "      <td>26720.0</td>\n",
       "    </tr>\n",
       "    <tr>\n",
       "      <th>37678</th>\n",
       "      <td>11177</td>\n",
       "      <td>2021-12-03 21:33:44.872208</td>\n",
       "      <td>301</td>\n",
       "      <td>1285</td>\n",
       "      <td>RETURN_PRODUCT</td>\n",
       "      <td>NaN</td>\n",
       "      <td>26723.0</td>\n",
       "    </tr>\n",
       "    <tr>\n",
       "      <th>37742</th>\n",
       "      <td>11192</td>\n",
       "      <td>2021-12-06 20:20:11.741370</td>\n",
       "      <td>301</td>\n",
       "      <td>1084</td>\n",
       "      <td>RETURN_PRODUCT</td>\n",
       "      <td>NaN</td>\n",
       "      <td>26732.0</td>\n",
       "    </tr>\n",
       "    <tr>\n",
       "      <th>37759</th>\n",
       "      <td>11197</td>\n",
       "      <td>2021-11-30 02:39:44.718937</td>\n",
       "      <td>301</td>\n",
       "      <td>1222</td>\n",
       "      <td>RETURN_PRODUCT</td>\n",
       "      <td>NaN</td>\n",
       "      <td>26735.0</td>\n",
       "    </tr>\n",
       "  </tbody>\n",
       "</table>\n",
       "<p>1519 rows × 7 columns</p>\n",
       "</div>"
      ],
      "text/plain": [
       "       session_id                  timestamp  user_id  product_id  \\\n",
       "19            130 2021-11-30 00:18:00.498405      102        1293   \n",
       "44            138 2021-11-29 21:45:53.206183      102        1080   \n",
       "65            147 2021-11-29 21:07:31.607449      102        1233   \n",
       "69            149 2021-12-10 04:44:16.907348      102        1276   \n",
       "82            153 2021-11-29 23:13:03.648052      102        1001   \n",
       "...           ...                        ...      ...         ...   \n",
       "37638       11165 2021-11-28 17:39:02.242481      301        1035   \n",
       "37654       11172 2021-11-28 22:09:40.715446      301        1201   \n",
       "37678       11177 2021-12-03 21:33:44.872208      301        1285   \n",
       "37742       11192 2021-12-06 20:20:11.741370      301        1084   \n",
       "37759       11197 2021-11-30 02:39:44.718937      301        1222   \n",
       "\n",
       "           event_type  offered_discount  purchase_id  \n",
       "19     RETURN_PRODUCT               NaN      20004.0  \n",
       "44     RETURN_PRODUCT               NaN      20009.0  \n",
       "65     RETURN_PRODUCT               NaN      20013.0  \n",
       "69     RETURN_PRODUCT               NaN      20014.0  \n",
       "82     RETURN_PRODUCT               NaN      20016.0  \n",
       "...               ...               ...          ...  \n",
       "37638  RETURN_PRODUCT               NaN      26716.0  \n",
       "37654  RETURN_PRODUCT               NaN      26720.0  \n",
       "37678  RETURN_PRODUCT               NaN      26723.0  \n",
       "37742  RETURN_PRODUCT               NaN      26732.0  \n",
       "37759  RETURN_PRODUCT               NaN      26735.0  \n",
       "\n",
       "[1519 rows x 7 columns]"
      ]
     },
     "execution_count": 36,
     "metadata": {},
     "output_type": "execute_result"
    }
   ],
   "source": [
    "sessions_df[sessions_df.event_type == \"RETURN_PRODUCT\"]"
   ]
  },
  {
   "cell_type": "code",
   "execution_count": 37,
   "id": "b84f2829-47fc-44e5-ad59-8b1da04c191e",
   "metadata": {},
   "outputs": [
    {
     "data": {
      "text/html": [
       "<div>\n",
       "<style scoped>\n",
       "    .dataframe tbody tr th:only-of-type {\n",
       "        vertical-align: middle;\n",
       "    }\n",
       "\n",
       "    .dataframe tbody tr th {\n",
       "        vertical-align: top;\n",
       "    }\n",
       "\n",
       "    .dataframe thead th {\n",
       "        text-align: right;\n",
       "    }\n",
       "</style>\n",
       "<table border=\"1\" class=\"dataframe\">\n",
       "  <thead>\n",
       "    <tr style=\"text-align: right;\">\n",
       "      <th></th>\n",
       "      <th>session_id</th>\n",
       "      <th>timestamp</th>\n",
       "      <th>user_id</th>\n",
       "      <th>product_id</th>\n",
       "      <th>event_type</th>\n",
       "      <th>offered_discount</th>\n",
       "      <th>purchase_id</th>\n",
       "    </tr>\n",
       "  </thead>\n",
       "  <tbody>\n",
       "  </tbody>\n",
       "</table>\n",
       "</div>"
      ],
      "text/plain": [
       "Empty DataFrame\n",
       "Columns: [session_id, timestamp, user_id, product_id, event_type, offered_discount, purchase_id]\n",
       "Index: []"
      ]
     },
     "execution_count": 37,
     "metadata": {},
     "output_type": "execute_result"
    }
   ],
   "source": [
    "sessions_df[(sessions_df.offered_discount.isnull()) & (sessions_df.event_type != \"RETURN_PRODUCT\")]"
   ]
  },
  {
   "cell_type": "code",
   "execution_count": 38,
   "id": "7e2488c3",
   "metadata": {},
   "outputs": [
    {
     "data": {
      "text/html": [
       "<div>\n",
       "<style scoped>\n",
       "    .dataframe tbody tr th:only-of-type {\n",
       "        vertical-align: middle;\n",
       "    }\n",
       "\n",
       "    .dataframe tbody tr th {\n",
       "        vertical-align: top;\n",
       "    }\n",
       "\n",
       "    .dataframe thead th {\n",
       "        text-align: right;\n",
       "    }\n",
       "</style>\n",
       "<table border=\"1\" class=\"dataframe\">\n",
       "  <thead>\n",
       "    <tr style=\"text-align: right;\">\n",
       "      <th></th>\n",
       "      <th>session_id</th>\n",
       "      <th>timestamp</th>\n",
       "      <th>user_id</th>\n",
       "      <th>product_id</th>\n",
       "      <th>event_type</th>\n",
       "      <th>offered_discount</th>\n",
       "      <th>purchase_id</th>\n",
       "    </tr>\n",
       "  </thead>\n",
       "  <tbody>\n",
       "    <tr>\n",
       "      <th>2</th>\n",
       "      <td>125</td>\n",
       "      <td>2021-05-17 02:54:53</td>\n",
       "      <td>102</td>\n",
       "      <td>1234</td>\n",
       "      <td>VIEW_PRODUCT</td>\n",
       "      <td>5.0</td>\n",
       "      <td>NaN</td>\n",
       "    </tr>\n",
       "    <tr>\n",
       "      <th>3</th>\n",
       "      <td>125</td>\n",
       "      <td>2021-05-17 02:58:18</td>\n",
       "      <td>102</td>\n",
       "      <td>1234</td>\n",
       "      <td>BUY_PRODUCT</td>\n",
       "      <td>5.0</td>\n",
       "      <td>20001.0</td>\n",
       "    </tr>\n",
       "    <tr>\n",
       "      <th>6</th>\n",
       "      <td>127</td>\n",
       "      <td>2021-05-22 10:25:01</td>\n",
       "      <td>102</td>\n",
       "      <td>1001</td>\n",
       "      <td>BUY_PRODUCT</td>\n",
       "      <td>0.0</td>\n",
       "      <td>20002.0</td>\n",
       "    </tr>\n",
       "    <tr>\n",
       "      <th>8</th>\n",
       "      <td>128</td>\n",
       "      <td>2021-01-08 23:15:05</td>\n",
       "      <td>102</td>\n",
       "      <td>1319</td>\n",
       "      <td>BUY_PRODUCT</td>\n",
       "      <td>15.0</td>\n",
       "      <td>20003.0</td>\n",
       "    </tr>\n",
       "    <tr>\n",
       "      <th>10</th>\n",
       "      <td>129</td>\n",
       "      <td>2021-05-21 12:56:54</td>\n",
       "      <td>102</td>\n",
       "      <td>1288</td>\n",
       "      <td>VIEW_PRODUCT</td>\n",
       "      <td>0.0</td>\n",
       "      <td>NaN</td>\n",
       "    </tr>\n",
       "    <tr>\n",
       "      <th>...</th>\n",
       "      <td>...</td>\n",
       "      <td>...</td>\n",
       "      <td>...</td>\n",
       "      <td>...</td>\n",
       "      <td>...</td>\n",
       "      <td>...</td>\n",
       "      <td>...</td>\n",
       "    </tr>\n",
       "    <tr>\n",
       "      <th>37757</th>\n",
       "      <td>11196</td>\n",
       "      <td>2021-02-15 11:17:51</td>\n",
       "      <td>301</td>\n",
       "      <td>1222</td>\n",
       "      <td>VIEW_PRODUCT</td>\n",
       "      <td>20.0</td>\n",
       "      <td>NaN</td>\n",
       "    </tr>\n",
       "    <tr>\n",
       "      <th>37758</th>\n",
       "      <td>11196</td>\n",
       "      <td>2021-02-15 11:17:59</td>\n",
       "      <td>301</td>\n",
       "      <td>1222</td>\n",
       "      <td>BUY_PRODUCT</td>\n",
       "      <td>20.0</td>\n",
       "      <td>26735.0</td>\n",
       "    </tr>\n",
       "    <tr>\n",
       "      <th>37761</th>\n",
       "      <td>11198</td>\n",
       "      <td>2021-06-11 19:35:12</td>\n",
       "      <td>301</td>\n",
       "      <td>1316</td>\n",
       "      <td>VIEW_PRODUCT</td>\n",
       "      <td>0.0</td>\n",
       "      <td>NaN</td>\n",
       "    </tr>\n",
       "    <tr>\n",
       "      <th>37763</th>\n",
       "      <td>11199</td>\n",
       "      <td>2021-05-13 18:26:12</td>\n",
       "      <td>301</td>\n",
       "      <td>1017</td>\n",
       "      <td>VIEW_PRODUCT</td>\n",
       "      <td>0.0</td>\n",
       "      <td>NaN</td>\n",
       "    </tr>\n",
       "    <tr>\n",
       "      <th>37764</th>\n",
       "      <td>11199</td>\n",
       "      <td>2021-05-13 18:27:19</td>\n",
       "      <td>301</td>\n",
       "      <td>1030</td>\n",
       "      <td>VIEW_PRODUCT</td>\n",
       "      <td>0.0</td>\n",
       "      <td>NaN</td>\n",
       "    </tr>\n",
       "  </tbody>\n",
       "</table>\n",
       "<p>26689 rows × 7 columns</p>\n",
       "</div>"
      ],
      "text/plain": [
       "       session_id           timestamp  user_id  product_id    event_type  \\\n",
       "2             125 2021-05-17 02:54:53      102        1234  VIEW_PRODUCT   \n",
       "3             125 2021-05-17 02:58:18      102        1234   BUY_PRODUCT   \n",
       "6             127 2021-05-22 10:25:01      102        1001   BUY_PRODUCT   \n",
       "8             128 2021-01-08 23:15:05      102        1319   BUY_PRODUCT   \n",
       "10            129 2021-05-21 12:56:54      102        1288  VIEW_PRODUCT   \n",
       "...           ...                 ...      ...         ...           ...   \n",
       "37757       11196 2021-02-15 11:17:51      301        1222  VIEW_PRODUCT   \n",
       "37758       11196 2021-02-15 11:17:59      301        1222   BUY_PRODUCT   \n",
       "37761       11198 2021-06-11 19:35:12      301        1316  VIEW_PRODUCT   \n",
       "37763       11199 2021-05-13 18:26:12      301        1017  VIEW_PRODUCT   \n",
       "37764       11199 2021-05-13 18:27:19      301        1030  VIEW_PRODUCT   \n",
       "\n",
       "       offered_discount  purchase_id  \n",
       "2                   5.0          NaN  \n",
       "3                   5.0      20001.0  \n",
       "6                   0.0      20002.0  \n",
       "8                  15.0      20003.0  \n",
       "10                  0.0          NaN  \n",
       "...                 ...          ...  \n",
       "37757              20.0          NaN  \n",
       "37758              20.0      26735.0  \n",
       "37761               0.0          NaN  \n",
       "37763               0.0          NaN  \n",
       "37764               0.0          NaN  \n",
       "\n",
       "[26689 rows x 7 columns]"
      ]
     },
     "execution_count": 38,
     "metadata": {},
     "output_type": "execute_result"
    }
   ],
   "source": [
    "sessions_df[sessions_df.session_id.duplicated()]"
   ]
  },
  {
   "cell_type": "markdown",
   "id": "5dcb1608",
   "metadata": {},
   "source": [
    "### Liczba zamówień w zależności od liczby obejrzanych produktów"
   ]
  },
  {
   "cell_type": "code",
   "execution_count": 121,
   "id": "41ec614d",
   "metadata": {},
   "outputs": [
    {
     "data": {
      "text/plain": [
       "3        20001.0\n",
       "6        20002.0\n",
       "8        20003.0\n",
       "18       20004.0\n",
       "25       20005.0\n",
       "          ...   \n",
       "37732    26731.0\n",
       "37741    26732.0\n",
       "37746    26733.0\n",
       "37754    26734.0\n",
       "37758    26735.0\n",
       "Name: purchase_id, Length: 6735, dtype: float64"
      ]
     },
     "execution_count": 121,
     "metadata": {},
     "output_type": "execute_result"
    }
   ],
   "source": [
    "buy_purchase_ids = sessions_df[sessions_df.event_type == \"BUY_PRODUCT\"].purchase_id\n",
    "buy_purchase_ids"
   ]
  },
  {
   "cell_type": "code",
   "execution_count": 122,
   "id": "5c09e91d",
   "metadata": {},
   "outputs": [
    {
     "data": {
      "text/html": [
       "<div>\n",
       "<style scoped>\n",
       "    .dataframe tbody tr th:only-of-type {\n",
       "        vertical-align: middle;\n",
       "    }\n",
       "\n",
       "    .dataframe tbody tr th {\n",
       "        vertical-align: top;\n",
       "    }\n",
       "\n",
       "    .dataframe thead th {\n",
       "        text-align: right;\n",
       "    }\n",
       "</style>\n",
       "<table border=\"1\" class=\"dataframe\">\n",
       "  <thead>\n",
       "    <tr style=\"text-align: right;\">\n",
       "      <th></th>\n",
       "      <th>session_id</th>\n",
       "      <th>timestamp</th>\n",
       "      <th>user_id</th>\n",
       "      <th>product_id</th>\n",
       "      <th>event_type</th>\n",
       "      <th>offered_discount</th>\n",
       "      <th>purchase_id</th>\n",
       "    </tr>\n",
       "  </thead>\n",
       "  <tbody>\n",
       "    <tr>\n",
       "      <th>3</th>\n",
       "      <td>125</td>\n",
       "      <td>2021-05-17 02:58:18.000000</td>\n",
       "      <td>102</td>\n",
       "      <td>1234</td>\n",
       "      <td>BUY_PRODUCT</td>\n",
       "      <td>5.0</td>\n",
       "      <td>20001.0</td>\n",
       "    </tr>\n",
       "    <tr>\n",
       "      <th>6</th>\n",
       "      <td>127</td>\n",
       "      <td>2021-05-22 10:25:01.000000</td>\n",
       "      <td>102</td>\n",
       "      <td>1001</td>\n",
       "      <td>BUY_PRODUCT</td>\n",
       "      <td>0.0</td>\n",
       "      <td>20002.0</td>\n",
       "    </tr>\n",
       "    <tr>\n",
       "      <th>8</th>\n",
       "      <td>128</td>\n",
       "      <td>2021-01-08 23:15:05.000000</td>\n",
       "      <td>102</td>\n",
       "      <td>1319</td>\n",
       "      <td>BUY_PRODUCT</td>\n",
       "      <td>15.0</td>\n",
       "      <td>20003.0</td>\n",
       "    </tr>\n",
       "    <tr>\n",
       "      <th>18</th>\n",
       "      <td>129</td>\n",
       "      <td>2021-05-21 13:23:18.000000</td>\n",
       "      <td>102</td>\n",
       "      <td>1293</td>\n",
       "      <td>BUY_PRODUCT</td>\n",
       "      <td>0.0</td>\n",
       "      <td>20004.0</td>\n",
       "    </tr>\n",
       "    <tr>\n",
       "      <th>19</th>\n",
       "      <td>130</td>\n",
       "      <td>2021-11-30 00:18:00.498405</td>\n",
       "      <td>102</td>\n",
       "      <td>1293</td>\n",
       "      <td>RETURN_PRODUCT</td>\n",
       "      <td>NaN</td>\n",
       "      <td>20004.0</td>\n",
       "    </tr>\n",
       "    <tr>\n",
       "      <th>...</th>\n",
       "      <td>...</td>\n",
       "      <td>...</td>\n",
       "      <td>...</td>\n",
       "      <td>...</td>\n",
       "      <td>...</td>\n",
       "      <td>...</td>\n",
       "      <td>...</td>\n",
       "    </tr>\n",
       "    <tr>\n",
       "      <th>37742</th>\n",
       "      <td>11192</td>\n",
       "      <td>2021-12-06 20:20:11.741370</td>\n",
       "      <td>301</td>\n",
       "      <td>1084</td>\n",
       "      <td>RETURN_PRODUCT</td>\n",
       "      <td>NaN</td>\n",
       "      <td>26732.0</td>\n",
       "    </tr>\n",
       "    <tr>\n",
       "      <th>37746</th>\n",
       "      <td>11193</td>\n",
       "      <td>2021-10-28 17:16:20.000000</td>\n",
       "      <td>301</td>\n",
       "      <td>1319</td>\n",
       "      <td>BUY_PRODUCT</td>\n",
       "      <td>10.0</td>\n",
       "      <td>26733.0</td>\n",
       "    </tr>\n",
       "    <tr>\n",
       "      <th>37754</th>\n",
       "      <td>11194</td>\n",
       "      <td>2021-09-02 07:50:58.000000</td>\n",
       "      <td>301</td>\n",
       "      <td>1075</td>\n",
       "      <td>BUY_PRODUCT</td>\n",
       "      <td>5.0</td>\n",
       "      <td>26734.0</td>\n",
       "    </tr>\n",
       "    <tr>\n",
       "      <th>37758</th>\n",
       "      <td>11196</td>\n",
       "      <td>2021-02-15 11:17:59.000000</td>\n",
       "      <td>301</td>\n",
       "      <td>1222</td>\n",
       "      <td>BUY_PRODUCT</td>\n",
       "      <td>20.0</td>\n",
       "      <td>26735.0</td>\n",
       "    </tr>\n",
       "    <tr>\n",
       "      <th>37759</th>\n",
       "      <td>11197</td>\n",
       "      <td>2021-11-30 02:39:44.718937</td>\n",
       "      <td>301</td>\n",
       "      <td>1222</td>\n",
       "      <td>RETURN_PRODUCT</td>\n",
       "      <td>NaN</td>\n",
       "      <td>26735.0</td>\n",
       "    </tr>\n",
       "  </tbody>\n",
       "</table>\n",
       "<p>8254 rows × 7 columns</p>\n",
       "</div>"
      ],
      "text/plain": [
       "       session_id                  timestamp  user_id  product_id  \\\n",
       "3             125 2021-05-17 02:58:18.000000      102        1234   \n",
       "6             127 2021-05-22 10:25:01.000000      102        1001   \n",
       "8             128 2021-01-08 23:15:05.000000      102        1319   \n",
       "18            129 2021-05-21 13:23:18.000000      102        1293   \n",
       "19            130 2021-11-30 00:18:00.498405      102        1293   \n",
       "...           ...                        ...      ...         ...   \n",
       "37742       11192 2021-12-06 20:20:11.741370      301        1084   \n",
       "37746       11193 2021-10-28 17:16:20.000000      301        1319   \n",
       "37754       11194 2021-09-02 07:50:58.000000      301        1075   \n",
       "37758       11196 2021-02-15 11:17:59.000000      301        1222   \n",
       "37759       11197 2021-11-30 02:39:44.718937      301        1222   \n",
       "\n",
       "           event_type  offered_discount  purchase_id  \n",
       "3         BUY_PRODUCT               5.0      20001.0  \n",
       "6         BUY_PRODUCT               0.0      20002.0  \n",
       "8         BUY_PRODUCT              15.0      20003.0  \n",
       "18        BUY_PRODUCT               0.0      20004.0  \n",
       "19     RETURN_PRODUCT               NaN      20004.0  \n",
       "...               ...               ...          ...  \n",
       "37742  RETURN_PRODUCT               NaN      26732.0  \n",
       "37746     BUY_PRODUCT              10.0      26733.0  \n",
       "37754     BUY_PRODUCT               5.0      26734.0  \n",
       "37758     BUY_PRODUCT              20.0      26735.0  \n",
       "37759  RETURN_PRODUCT               NaN      26735.0  \n",
       "\n",
       "[8254 rows x 7 columns]"
      ]
     },
     "execution_count": 122,
     "metadata": {},
     "output_type": "execute_result"
    }
   ],
   "source": [
    "buy_sessions = sessions_df[sessions_df.purchase_id.isin(buy_purchase_ids)]\n",
    "buy_sessions"
   ]
  },
  {
   "cell_type": "code",
   "execution_count": 123,
   "id": "929f8b2d",
   "metadata": {},
   "outputs": [
    {
     "data": {
      "text/html": [
       "<div>\n",
       "<style scoped>\n",
       "    .dataframe tbody tr th:only-of-type {\n",
       "        vertical-align: middle;\n",
       "    }\n",
       "\n",
       "    .dataframe tbody tr th {\n",
       "        vertical-align: top;\n",
       "    }\n",
       "\n",
       "    .dataframe thead th {\n",
       "        text-align: right;\n",
       "    }\n",
       "</style>\n",
       "<table border=\"1\" class=\"dataframe\">\n",
       "  <thead>\n",
       "    <tr style=\"text-align: right;\">\n",
       "      <th></th>\n",
       "      <th>session_id</th>\n",
       "      <th>timestamp</th>\n",
       "      <th>user_id</th>\n",
       "      <th>product_id</th>\n",
       "      <th>event_type</th>\n",
       "      <th>offered_discount</th>\n",
       "      <th>purchase_id</th>\n",
       "    </tr>\n",
       "  </thead>\n",
       "  <tbody>\n",
       "    <tr>\n",
       "      <th>1</th>\n",
       "      <td>125</td>\n",
       "      <td>2021-05-17 02:54:18</td>\n",
       "      <td>102</td>\n",
       "      <td>1233</td>\n",
       "      <td>VIEW_PRODUCT</td>\n",
       "      <td>5.0</td>\n",
       "      <td>NaN</td>\n",
       "    </tr>\n",
       "    <tr>\n",
       "      <th>2</th>\n",
       "      <td>125</td>\n",
       "      <td>2021-05-17 02:54:53</td>\n",
       "      <td>102</td>\n",
       "      <td>1234</td>\n",
       "      <td>VIEW_PRODUCT</td>\n",
       "      <td>5.0</td>\n",
       "      <td>NaN</td>\n",
       "    </tr>\n",
       "    <tr>\n",
       "      <th>5</th>\n",
       "      <td>127</td>\n",
       "      <td>2021-05-22 10:24:28</td>\n",
       "      <td>102</td>\n",
       "      <td>1001</td>\n",
       "      <td>VIEW_PRODUCT</td>\n",
       "      <td>0.0</td>\n",
       "      <td>NaN</td>\n",
       "    </tr>\n",
       "    <tr>\n",
       "      <th>7</th>\n",
       "      <td>128</td>\n",
       "      <td>2021-01-08 23:14:49</td>\n",
       "      <td>102</td>\n",
       "      <td>1319</td>\n",
       "      <td>VIEW_PRODUCT</td>\n",
       "      <td>15.0</td>\n",
       "      <td>NaN</td>\n",
       "    </tr>\n",
       "    <tr>\n",
       "      <th>9</th>\n",
       "      <td>129</td>\n",
       "      <td>2021-05-21 12:56:12</td>\n",
       "      <td>102</td>\n",
       "      <td>1287</td>\n",
       "      <td>VIEW_PRODUCT</td>\n",
       "      <td>0.0</td>\n",
       "      <td>NaN</td>\n",
       "    </tr>\n",
       "    <tr>\n",
       "      <th>...</th>\n",
       "      <td>...</td>\n",
       "      <td>...</td>\n",
       "      <td>...</td>\n",
       "      <td>...</td>\n",
       "      <td>...</td>\n",
       "      <td>...</td>\n",
       "      <td>...</td>\n",
       "    </tr>\n",
       "    <tr>\n",
       "      <th>37751</th>\n",
       "      <td>11194</td>\n",
       "      <td>2021-09-02 07:46:31</td>\n",
       "      <td>301</td>\n",
       "      <td>1081</td>\n",
       "      <td>VIEW_PRODUCT</td>\n",
       "      <td>5.0</td>\n",
       "      <td>NaN</td>\n",
       "    </tr>\n",
       "    <tr>\n",
       "      <th>37752</th>\n",
       "      <td>11194</td>\n",
       "      <td>2021-09-02 07:48:39</td>\n",
       "      <td>301</td>\n",
       "      <td>1080</td>\n",
       "      <td>VIEW_PRODUCT</td>\n",
       "      <td>5.0</td>\n",
       "      <td>NaN</td>\n",
       "    </tr>\n",
       "    <tr>\n",
       "      <th>37753</th>\n",
       "      <td>11194</td>\n",
       "      <td>2021-09-02 07:49:13</td>\n",
       "      <td>301</td>\n",
       "      <td>1075</td>\n",
       "      <td>VIEW_PRODUCT</td>\n",
       "      <td>5.0</td>\n",
       "      <td>NaN</td>\n",
       "    </tr>\n",
       "    <tr>\n",
       "      <th>37756</th>\n",
       "      <td>11196</td>\n",
       "      <td>2021-02-15 11:13:10</td>\n",
       "      <td>301</td>\n",
       "      <td>1201</td>\n",
       "      <td>VIEW_PRODUCT</td>\n",
       "      <td>20.0</td>\n",
       "      <td>NaN</td>\n",
       "    </tr>\n",
       "    <tr>\n",
       "      <th>37757</th>\n",
       "      <td>11196</td>\n",
       "      <td>2021-02-15 11:17:51</td>\n",
       "      <td>301</td>\n",
       "      <td>1222</td>\n",
       "      <td>VIEW_PRODUCT</td>\n",
       "      <td>20.0</td>\n",
       "      <td>NaN</td>\n",
       "    </tr>\n",
       "  </tbody>\n",
       "</table>\n",
       "<p>20743 rows × 7 columns</p>\n",
       "</div>"
      ],
      "text/plain": [
       "       session_id           timestamp  user_id  product_id    event_type  \\\n",
       "1             125 2021-05-17 02:54:18      102        1233  VIEW_PRODUCT   \n",
       "2             125 2021-05-17 02:54:53      102        1234  VIEW_PRODUCT   \n",
       "5             127 2021-05-22 10:24:28      102        1001  VIEW_PRODUCT   \n",
       "7             128 2021-01-08 23:14:49      102        1319  VIEW_PRODUCT   \n",
       "9             129 2021-05-21 12:56:12      102        1287  VIEW_PRODUCT   \n",
       "...           ...                 ...      ...         ...           ...   \n",
       "37751       11194 2021-09-02 07:46:31      301        1081  VIEW_PRODUCT   \n",
       "37752       11194 2021-09-02 07:48:39      301        1080  VIEW_PRODUCT   \n",
       "37753       11194 2021-09-02 07:49:13      301        1075  VIEW_PRODUCT   \n",
       "37756       11196 2021-02-15 11:13:10      301        1201  VIEW_PRODUCT   \n",
       "37757       11196 2021-02-15 11:17:51      301        1222  VIEW_PRODUCT   \n",
       "\n",
       "       offered_discount  purchase_id  \n",
       "1                   5.0          NaN  \n",
       "2                   5.0          NaN  \n",
       "5                   0.0          NaN  \n",
       "7                  15.0          NaN  \n",
       "9                   0.0          NaN  \n",
       "...                 ...          ...  \n",
       "37751               5.0          NaN  \n",
       "37752               5.0          NaN  \n",
       "37753               5.0          NaN  \n",
       "37756              20.0          NaN  \n",
       "37757              20.0          NaN  \n",
       "\n",
       "[20743 rows x 7 columns]"
      ]
     },
     "execution_count": 123,
     "metadata": {},
     "output_type": "execute_result"
    }
   ],
   "source": [
    "view_and_bought = sessions_df[(sessions_df.session_id.isin(buy_sessions.session_id)) & (sessions_df.event_type == \"VIEW_PRODUCT\")]\n",
    "view_and_bought"
   ]
  },
  {
   "cell_type": "code",
   "execution_count": 127,
   "id": "60af64d5",
   "metadata": {},
   "outputs": [
    {
     "data": {
      "image/png": "[encoded data removed]",
      "text/plain": [
       "<Figure size 432x288 with 1 Axes>"
      ]
     },
     "metadata": {
      "needs_background": "light"
     },
     "output_type": "display_data"
    }
   ],
   "source": [
    "view_count = view_and_bought.session_id.value_counts()\n",
    "bins = np.arange(0,13)\n",
    "plt.hist(view_count, bins=bins, edgecolor='black')\n",
    "plt.title(\"liczba zamówień w zależości od liczby obejrzanych produktów\")\n",
    "plt.show()"
   ]
  },
  {
   "cell_type": "markdown",
   "id": "7e1c445a",
   "metadata": {},
   "source": [
    "### Liczba zwrotów w zależności od liczby obejrzanych produktów"
   ]
  },
  {
   "cell_type": "code",
   "execution_count": 40,
   "id": "b4764035",
   "metadata": {},
   "outputs": [
    {
     "data": {
      "text/plain": [
       "19       20004.0\n",
       "44       20009.0\n",
       "65       20013.0\n",
       "69       20014.0\n",
       "82       20016.0\n",
       "          ...   \n",
       "37638    26716.0\n",
       "37654    26720.0\n",
       "37678    26723.0\n",
       "37742    26732.0\n",
       "37759    26735.0\n",
       "Name: purchase_id, Length: 1519, dtype: float64"
      ]
     },
     "execution_count": 40,
     "metadata": {},
     "output_type": "execute_result"
    }
   ],
   "source": [
    "return_purchase_ids = sessions_df[sessions_df.event_type == \"RETURN_PRODUCT\"].purchase_id\n",
    "return_purchase_ids"
   ]
  },
  {
   "cell_type": "code",
   "execution_count": 41,
   "id": "01eb30cb",
   "metadata": {},
   "outputs": [
    {
     "data": {
      "text/html": [
       "<div>\n",
       "<style scoped>\n",
       "    .dataframe tbody tr th:only-of-type {\n",
       "        vertical-align: middle;\n",
       "    }\n",
       "\n",
       "    .dataframe tbody tr th {\n",
       "        vertical-align: top;\n",
       "    }\n",
       "\n",
       "    .dataframe thead th {\n",
       "        text-align: right;\n",
       "    }\n",
       "</style>\n",
       "<table border=\"1\" class=\"dataframe\">\n",
       "  <thead>\n",
       "    <tr style=\"text-align: right;\">\n",
       "      <th></th>\n",
       "      <th>session_id</th>\n",
       "      <th>timestamp</th>\n",
       "      <th>user_id</th>\n",
       "      <th>product_id</th>\n",
       "      <th>event_type</th>\n",
       "      <th>offered_discount</th>\n",
       "      <th>purchase_id</th>\n",
       "    </tr>\n",
       "  </thead>\n",
       "  <tbody>\n",
       "    <tr>\n",
       "      <th>18</th>\n",
       "      <td>129</td>\n",
       "      <td>2021-05-21 13:23:18.000000</td>\n",
       "      <td>102</td>\n",
       "      <td>1293</td>\n",
       "      <td>BUY_PRODUCT</td>\n",
       "      <td>0.0</td>\n",
       "      <td>20004.0</td>\n",
       "    </tr>\n",
       "    <tr>\n",
       "      <th>19</th>\n",
       "      <td>130</td>\n",
       "      <td>2021-11-30 00:18:00.498405</td>\n",
       "      <td>102</td>\n",
       "      <td>1293</td>\n",
       "      <td>RETURN_PRODUCT</td>\n",
       "      <td>NaN</td>\n",
       "      <td>20004.0</td>\n",
       "    </tr>\n",
       "    <tr>\n",
       "      <th>43</th>\n",
       "      <td>137</td>\n",
       "      <td>2021-07-06 15:01:06.000000</td>\n",
       "      <td>102</td>\n",
       "      <td>1080</td>\n",
       "      <td>BUY_PRODUCT</td>\n",
       "      <td>10.0</td>\n",
       "      <td>20009.0</td>\n",
       "    </tr>\n",
       "    <tr>\n",
       "      <th>44</th>\n",
       "      <td>138</td>\n",
       "      <td>2021-11-29 21:45:53.206183</td>\n",
       "      <td>102</td>\n",
       "      <td>1080</td>\n",
       "      <td>RETURN_PRODUCT</td>\n",
       "      <td>NaN</td>\n",
       "      <td>20009.0</td>\n",
       "    </tr>\n",
       "    <tr>\n",
       "      <th>64</th>\n",
       "      <td>146</td>\n",
       "      <td>2021-04-04 20:18:06.000000</td>\n",
       "      <td>102</td>\n",
       "      <td>1233</td>\n",
       "      <td>BUY_PRODUCT</td>\n",
       "      <td>0.0</td>\n",
       "      <td>20013.0</td>\n",
       "    </tr>\n",
       "    <tr>\n",
       "      <th>...</th>\n",
       "      <td>...</td>\n",
       "      <td>...</td>\n",
       "      <td>...</td>\n",
       "      <td>...</td>\n",
       "      <td>...</td>\n",
       "      <td>...</td>\n",
       "      <td>...</td>\n",
       "    </tr>\n",
       "    <tr>\n",
       "      <th>37678</th>\n",
       "      <td>11177</td>\n",
       "      <td>2021-12-03 21:33:44.872208</td>\n",
       "      <td>301</td>\n",
       "      <td>1285</td>\n",
       "      <td>RETURN_PRODUCT</td>\n",
       "      <td>NaN</td>\n",
       "      <td>26723.0</td>\n",
       "    </tr>\n",
       "    <tr>\n",
       "      <th>37741</th>\n",
       "      <td>11191</td>\n",
       "      <td>2021-05-28 20:47:52.000000</td>\n",
       "      <td>301</td>\n",
       "      <td>1084</td>\n",
       "      <td>BUY_PRODUCT</td>\n",
       "      <td>10.0</td>\n",
       "      <td>26732.0</td>\n",
       "    </tr>\n",
       "    <tr>\n",
       "      <th>37742</th>\n",
       "      <td>11192</td>\n",
       "      <td>2021-12-06 20:20:11.741370</td>\n",
       "      <td>301</td>\n",
       "      <td>1084</td>\n",
       "      <td>RETURN_PRODUCT</td>\n",
       "      <td>NaN</td>\n",
       "      <td>26732.0</td>\n",
       "    </tr>\n",
       "    <tr>\n",
       "      <th>37758</th>\n",
       "      <td>11196</td>\n",
       "      <td>2021-02-15 11:17:59.000000</td>\n",
       "      <td>301</td>\n",
       "      <td>1222</td>\n",
       "      <td>BUY_PRODUCT</td>\n",
       "      <td>20.0</td>\n",
       "      <td>26735.0</td>\n",
       "    </tr>\n",
       "    <tr>\n",
       "      <th>37759</th>\n",
       "      <td>11197</td>\n",
       "      <td>2021-11-30 02:39:44.718937</td>\n",
       "      <td>301</td>\n",
       "      <td>1222</td>\n",
       "      <td>RETURN_PRODUCT</td>\n",
       "      <td>NaN</td>\n",
       "      <td>26735.0</td>\n",
       "    </tr>\n",
       "  </tbody>\n",
       "</table>\n",
       "<p>3038 rows × 7 columns</p>\n",
       "</div>"
      ],
      "text/plain": [
       "       session_id                  timestamp  user_id  product_id  \\\n",
       "18            129 2021-05-21 13:23:18.000000      102        1293   \n",
       "19            130 2021-11-30 00:18:00.498405      102        1293   \n",
       "43            137 2021-07-06 15:01:06.000000      102        1080   \n",
       "44            138 2021-11-29 21:45:53.206183      102        1080   \n",
       "64            146 2021-04-04 20:18:06.000000      102        1233   \n",
       "...           ...                        ...      ...         ...   \n",
       "37678       11177 2021-12-03 21:33:44.872208      301        1285   \n",
       "37741       11191 2021-05-28 20:47:52.000000      301        1084   \n",
       "37742       11192 2021-12-06 20:20:11.741370      301        1084   \n",
       "37758       11196 2021-02-15 11:17:59.000000      301        1222   \n",
       "37759       11197 2021-11-30 02:39:44.718937      301        1222   \n",
       "\n",
       "           event_type  offered_discount  purchase_id  \n",
       "18        BUY_PRODUCT               0.0      20004.0  \n",
       "19     RETURN_PRODUCT               NaN      20004.0  \n",
       "43        BUY_PRODUCT              10.0      20009.0  \n",
       "44     RETURN_PRODUCT               NaN      20009.0  \n",
       "64        BUY_PRODUCT               0.0      20013.0  \n",
       "...               ...               ...          ...  \n",
       "37678  RETURN_PRODUCT               NaN      26723.0  \n",
       "37741     BUY_PRODUCT              10.0      26732.0  \n",
       "37742  RETURN_PRODUCT               NaN      26732.0  \n",
       "37758     BUY_PRODUCT              20.0      26735.0  \n",
       "37759  RETURN_PRODUCT               NaN      26735.0  \n",
       "\n",
       "[3038 rows x 7 columns]"
      ]
     },
     "execution_count": 41,
     "metadata": {},
     "output_type": "execute_result"
    }
   ],
   "source": [
    "return_sessions = sessions_df[sessions_df.purchase_id.isin(return_purchase_ids)]\n",
    "return_sessions"
   ]
  },
  {
   "cell_type": "code",
   "execution_count": 42,
   "id": "cd16fd65",
   "metadata": {},
   "outputs": [
    {
     "data": {
      "image/png": "[encoded data removed]",
      "text/plain": [
       "<Figure size 432x288 with 1 Axes>"
      ]
     },
     "metadata": {
      "needs_background": "light"
     },
     "output_type": "display_data"
    }
   ],
   "source": [
    "discounts = return_sessions[\"offered_discount\"].value_counts()\n",
    "plot_bar(series=discounts, title=\"Liczba zwrotów w zależności od zaproponowanej zniżki\", ylabel=\"Ilość\")"
   ]
  },
  {
   "cell_type": "code",
   "execution_count": 43,
   "id": "58df1c9a",
   "metadata": {},
   "outputs": [
    {
     "data": {
      "text/html": [
       "<div>\n",
       "<style scoped>\n",
       "    .dataframe tbody tr th:only-of-type {\n",
       "        vertical-align: middle;\n",
       "    }\n",
       "\n",
       "    .dataframe tbody tr th {\n",
       "        vertical-align: top;\n",
       "    }\n",
       "\n",
       "    .dataframe thead th {\n",
       "        text-align: right;\n",
       "    }\n",
       "</style>\n",
       "<table border=\"1\" class=\"dataframe\">\n",
       "  <thead>\n",
       "    <tr style=\"text-align: right;\">\n",
       "      <th></th>\n",
       "      <th>session_id</th>\n",
       "      <th>timestamp</th>\n",
       "      <th>user_id</th>\n",
       "      <th>product_id</th>\n",
       "      <th>event_type</th>\n",
       "      <th>offered_discount</th>\n",
       "      <th>purchase_id</th>\n",
       "    </tr>\n",
       "  </thead>\n",
       "  <tbody>\n",
       "    <tr>\n",
       "      <th>9</th>\n",
       "      <td>129</td>\n",
       "      <td>2021-05-21 12:56:12</td>\n",
       "      <td>102</td>\n",
       "      <td>1287</td>\n",
       "      <td>VIEW_PRODUCT</td>\n",
       "      <td>0.0</td>\n",
       "      <td>NaN</td>\n",
       "    </tr>\n",
       "    <tr>\n",
       "      <th>10</th>\n",
       "      <td>129</td>\n",
       "      <td>2021-05-21 12:56:54</td>\n",
       "      <td>102</td>\n",
       "      <td>1288</td>\n",
       "      <td>VIEW_PRODUCT</td>\n",
       "      <td>0.0</td>\n",
       "      <td>NaN</td>\n",
       "    </tr>\n",
       "    <tr>\n",
       "      <th>11</th>\n",
       "      <td>129</td>\n",
       "      <td>2021-05-21 13:01:43</td>\n",
       "      <td>102</td>\n",
       "      <td>1291</td>\n",
       "      <td>VIEW_PRODUCT</td>\n",
       "      <td>0.0</td>\n",
       "      <td>NaN</td>\n",
       "    </tr>\n",
       "    <tr>\n",
       "      <th>12</th>\n",
       "      <td>129</td>\n",
       "      <td>2021-05-21 13:04:42</td>\n",
       "      <td>102</td>\n",
       "      <td>1289</td>\n",
       "      <td>VIEW_PRODUCT</td>\n",
       "      <td>0.0</td>\n",
       "      <td>NaN</td>\n",
       "    </tr>\n",
       "    <tr>\n",
       "      <th>13</th>\n",
       "      <td>129</td>\n",
       "      <td>2021-05-21 13:08:50</td>\n",
       "      <td>102</td>\n",
       "      <td>1284</td>\n",
       "      <td>VIEW_PRODUCT</td>\n",
       "      <td>0.0</td>\n",
       "      <td>NaN</td>\n",
       "    </tr>\n",
       "    <tr>\n",
       "      <th>...</th>\n",
       "      <td>...</td>\n",
       "      <td>...</td>\n",
       "      <td>...</td>\n",
       "      <td>...</td>\n",
       "      <td>...</td>\n",
       "      <td>...</td>\n",
       "      <td>...</td>\n",
       "    </tr>\n",
       "    <tr>\n",
       "      <th>37738</th>\n",
       "      <td>11191</td>\n",
       "      <td>2021-05-28 20:36:08</td>\n",
       "      <td>301</td>\n",
       "      <td>1040</td>\n",
       "      <td>VIEW_PRODUCT</td>\n",
       "      <td>10.0</td>\n",
       "      <td>NaN</td>\n",
       "    </tr>\n",
       "    <tr>\n",
       "      <th>37739</th>\n",
       "      <td>11191</td>\n",
       "      <td>2021-05-28 20:38:23</td>\n",
       "      <td>301</td>\n",
       "      <td>1047</td>\n",
       "      <td>VIEW_PRODUCT</td>\n",
       "      <td>10.0</td>\n",
       "      <td>NaN</td>\n",
       "    </tr>\n",
       "    <tr>\n",
       "      <th>37740</th>\n",
       "      <td>11191</td>\n",
       "      <td>2021-05-28 20:43:22</td>\n",
       "      <td>301</td>\n",
       "      <td>1084</td>\n",
       "      <td>VIEW_PRODUCT</td>\n",
       "      <td>10.0</td>\n",
       "      <td>NaN</td>\n",
       "    </tr>\n",
       "    <tr>\n",
       "      <th>37756</th>\n",
       "      <td>11196</td>\n",
       "      <td>2021-02-15 11:13:10</td>\n",
       "      <td>301</td>\n",
       "      <td>1201</td>\n",
       "      <td>VIEW_PRODUCT</td>\n",
       "      <td>20.0</td>\n",
       "      <td>NaN</td>\n",
       "    </tr>\n",
       "    <tr>\n",
       "      <th>37757</th>\n",
       "      <td>11196</td>\n",
       "      <td>2021-02-15 11:17:51</td>\n",
       "      <td>301</td>\n",
       "      <td>1222</td>\n",
       "      <td>VIEW_PRODUCT</td>\n",
       "      <td>20.0</td>\n",
       "      <td>NaN</td>\n",
       "    </tr>\n",
       "  </tbody>\n",
       "</table>\n",
       "<p>4722 rows × 7 columns</p>\n",
       "</div>"
      ],
      "text/plain": [
       "       session_id           timestamp  user_id  product_id    event_type  \\\n",
       "9             129 2021-05-21 12:56:12      102        1287  VIEW_PRODUCT   \n",
       "10            129 2021-05-21 12:56:54      102        1288  VIEW_PRODUCT   \n",
       "11            129 2021-05-21 13:01:43      102        1291  VIEW_PRODUCT   \n",
       "12            129 2021-05-21 13:04:42      102        1289  VIEW_PRODUCT   \n",
       "13            129 2021-05-21 13:08:50      102        1284  VIEW_PRODUCT   \n",
       "...           ...                 ...      ...         ...           ...   \n",
       "37738       11191 2021-05-28 20:36:08      301        1040  VIEW_PRODUCT   \n",
       "37739       11191 2021-05-28 20:38:23      301        1047  VIEW_PRODUCT   \n",
       "37740       11191 2021-05-28 20:43:22      301        1084  VIEW_PRODUCT   \n",
       "37756       11196 2021-02-15 11:13:10      301        1201  VIEW_PRODUCT   \n",
       "37757       11196 2021-02-15 11:17:51      301        1222  VIEW_PRODUCT   \n",
       "\n",
       "       offered_discount  purchase_id  \n",
       "9                   0.0          NaN  \n",
       "10                  0.0          NaN  \n",
       "11                  0.0          NaN  \n",
       "12                  0.0          NaN  \n",
       "13                  0.0          NaN  \n",
       "...                 ...          ...  \n",
       "37738              10.0          NaN  \n",
       "37739              10.0          NaN  \n",
       "37740              10.0          NaN  \n",
       "37756              20.0          NaN  \n",
       "37757              20.0          NaN  \n",
       "\n",
       "[4722 rows x 7 columns]"
      ]
     },
     "execution_count": 43,
     "metadata": {},
     "output_type": "execute_result"
    }
   ],
   "source": [
    "view_and_returned = sessions_df[(sessions_df.session_id.isin(return_sessions.session_id)) & (sessions_df.event_type == \"VIEW_PRODUCT\")]\n",
    "view_and_returned"
   ]
  },
  {
   "cell_type": "code",
   "execution_count": 44,
   "id": "fbd4a472",
   "metadata": {},
   "outputs": [
    {
     "data": {
      "image/png": "[encoded data removed]",
      "text/plain": [
       "<Figure size 432x288 with 1 Axes>"
      ]
     },
     "metadata": {
      "needs_background": "light"
     },
     "output_type": "display_data"
    }
   ],
   "source": [
    "view_count = view_and_returned.session_id.value_counts()\n",
    "bins = np.arange(0,13)\n",
    "plt.hist(view_count, bins=bins, edgecolor='black')\n",
    "plt.title(\"liczba zwrotów w zależości od liczby obejrzanych produktów\")\n",
    "plt.show()"
   ]
  },
  {
   "cell_type": "markdown",
   "id": "869917cf",
   "metadata": {},
   "source": [
    "Z tabeli sesji wynika, że dokonano 1519 zwrotów, a zakupów - 6735."
   ]
  },
  {
   "cell_type": "markdown",
   "id": "46a9a1ec",
   "metadata": {},
   "source": [
    "Histogramy liczby zamówień i zwrotów są bardzo podobne do siebie, stąd jedyna zależność między zwrotami zamówień i liczbą obejrzanych produktów to liczba dokonanych zakupów. Zaproponowane zniżki przy zwróconych zamówieniach rozkładają się jednostajnie, więc zniżka ma raczej mały wpływ na zwrot"
   ]
  },
  {
   "cell_type": "markdown",
   "id": "4094c853",
   "metadata": {},
   "source": [
    "# Analiza łączna"
   ]
  },
  {
   "cell_type": "markdown",
   "id": "c415a423",
   "metadata": {},
   "source": [
    "### Połączenie tabeli dostaw z tabelą sesji"
   ]
  },
  {
   "cell_type": "code",
   "execution_count": 48,
   "id": "50c545f3",
   "metadata": {},
   "outputs": [
    {
     "data": {
      "text/html": [
       "<div>\n",
       "<style scoped>\n",
       "    .dataframe tbody tr th:only-of-type {\n",
       "        vertical-align: middle;\n",
       "    }\n",
       "\n",
       "    .dataframe tbody tr th {\n",
       "        vertical-align: top;\n",
       "    }\n",
       "\n",
       "    .dataframe thead th {\n",
       "        text-align: right;\n",
       "    }\n",
       "</style>\n",
       "<table border=\"1\" class=\"dataframe\">\n",
       "  <thead>\n",
       "    <tr style=\"text-align: right;\">\n",
       "      <th></th>\n",
       "      <th>session_id</th>\n",
       "      <th>timestamp</th>\n",
       "      <th>user_id</th>\n",
       "      <th>product_id</th>\n",
       "      <th>event_type</th>\n",
       "      <th>offered_discount</th>\n",
       "      <th>purchase_id</th>\n",
       "      <th>purchase_timestamp</th>\n",
       "      <th>delivery_timestamp</th>\n",
       "      <th>delivery_company</th>\n",
       "      <th>month</th>\n",
       "      <th>deliver_time</th>\n",
       "    </tr>\n",
       "  </thead>\n",
       "  <tbody>\n",
       "    <tr>\n",
       "      <th>4</th>\n",
       "      <td>130</td>\n",
       "      <td>2021-11-30 00:18:00.498405</td>\n",
       "      <td>102</td>\n",
       "      <td>1293</td>\n",
       "      <td>RETURN_PRODUCT</td>\n",
       "      <td>NaN</td>\n",
       "      <td>20004.0</td>\n",
       "      <td>2021-05-21 13:23:18</td>\n",
       "      <td>2021-05-25 13:27:01</td>\n",
       "      <td>360</td>\n",
       "      <td>5</td>\n",
       "      <td>4.002581</td>\n",
       "    </tr>\n",
       "    <tr>\n",
       "      <th>10</th>\n",
       "      <td>138</td>\n",
       "      <td>2021-11-29 21:45:53.206183</td>\n",
       "      <td>102</td>\n",
       "      <td>1080</td>\n",
       "      <td>RETURN_PRODUCT</td>\n",
       "      <td>NaN</td>\n",
       "      <td>20009.0</td>\n",
       "      <td>2021-07-06 15:01:06</td>\n",
       "      <td>2021-07-10 15:04:23</td>\n",
       "      <td>360</td>\n",
       "      <td>7</td>\n",
       "      <td>4.002280</td>\n",
       "    </tr>\n",
       "    <tr>\n",
       "      <th>15</th>\n",
       "      <td>147</td>\n",
       "      <td>2021-11-29 21:07:31.607449</td>\n",
       "      <td>102</td>\n",
       "      <td>1233</td>\n",
       "      <td>RETURN_PRODUCT</td>\n",
       "      <td>NaN</td>\n",
       "      <td>20013.0</td>\n",
       "      <td>2021-04-04 20:18:06</td>\n",
       "      <td>2021-04-08 20:21:03</td>\n",
       "      <td>516</td>\n",
       "      <td>4</td>\n",
       "      <td>4.002049</td>\n",
       "    </tr>\n",
       "    <tr>\n",
       "      <th>17</th>\n",
       "      <td>149</td>\n",
       "      <td>2021-12-10 04:44:16.907348</td>\n",
       "      <td>102</td>\n",
       "      <td>1276</td>\n",
       "      <td>RETURN_PRODUCT</td>\n",
       "      <td>NaN</td>\n",
       "      <td>20014.0</td>\n",
       "      <td>2021-07-15 02:43:54</td>\n",
       "      <td>2021-07-20 02:46:07</td>\n",
       "      <td>516</td>\n",
       "      <td>7</td>\n",
       "      <td>5.001539</td>\n",
       "    </tr>\n",
       "    <tr>\n",
       "      <th>20</th>\n",
       "      <td>153</td>\n",
       "      <td>2021-11-29 23:13:03.648052</td>\n",
       "      <td>102</td>\n",
       "      <td>1001</td>\n",
       "      <td>RETURN_PRODUCT</td>\n",
       "      <td>NaN</td>\n",
       "      <td>20016.0</td>\n",
       "      <td>2021-07-11 13:04:41</td>\n",
       "      <td>2021-07-16 13:08:14</td>\n",
       "      <td>360</td>\n",
       "      <td>7</td>\n",
       "      <td>5.002465</td>\n",
       "    </tr>\n",
       "    <tr>\n",
       "      <th>...</th>\n",
       "      <td>...</td>\n",
       "      <td>...</td>\n",
       "      <td>...</td>\n",
       "      <td>...</td>\n",
       "      <td>...</td>\n",
       "      <td>...</td>\n",
       "      <td>...</td>\n",
       "      <td>...</td>\n",
       "      <td>...</td>\n",
       "      <td>...</td>\n",
       "      <td>...</td>\n",
       "      <td>...</td>\n",
       "    </tr>\n",
       "    <tr>\n",
       "      <th>8230</th>\n",
       "      <td>11165</td>\n",
       "      <td>2021-11-28 17:39:02.242481</td>\n",
       "      <td>301</td>\n",
       "      <td>1035</td>\n",
       "      <td>RETURN_PRODUCT</td>\n",
       "      <td>NaN</td>\n",
       "      <td>26716.0</td>\n",
       "      <td>2021-05-24 10:22:37</td>\n",
       "      <td>2021-05-28 10:26:34</td>\n",
       "      <td>620</td>\n",
       "      <td>5</td>\n",
       "      <td>4.002743</td>\n",
       "    </tr>\n",
       "    <tr>\n",
       "      <th>8235</th>\n",
       "      <td>11172</td>\n",
       "      <td>2021-11-28 22:09:40.715446</td>\n",
       "      <td>301</td>\n",
       "      <td>1201</td>\n",
       "      <td>RETURN_PRODUCT</td>\n",
       "      <td>NaN</td>\n",
       "      <td>26720.0</td>\n",
       "      <td>2021-03-10 21:00:04</td>\n",
       "      <td>2021-03-12 21:00:10</td>\n",
       "      <td>620</td>\n",
       "      <td>3</td>\n",
       "      <td>2.000069</td>\n",
       "    </tr>\n",
       "    <tr>\n",
       "      <th>8239</th>\n",
       "      <td>11177</td>\n",
       "      <td>2021-12-03 21:33:44.872208</td>\n",
       "      <td>301</td>\n",
       "      <td>1285</td>\n",
       "      <td>RETURN_PRODUCT</td>\n",
       "      <td>NaN</td>\n",
       "      <td>26723.0</td>\n",
       "      <td>2021-04-20 12:06:28</td>\n",
       "      <td>2021-04-23 12:10:51</td>\n",
       "      <td>516</td>\n",
       "      <td>4</td>\n",
       "      <td>3.003044</td>\n",
       "    </tr>\n",
       "    <tr>\n",
       "      <th>8249</th>\n",
       "      <td>11192</td>\n",
       "      <td>2021-12-06 20:20:11.741370</td>\n",
       "      <td>301</td>\n",
       "      <td>1084</td>\n",
       "      <td>RETURN_PRODUCT</td>\n",
       "      <td>NaN</td>\n",
       "      <td>26732.0</td>\n",
       "      <td>2021-05-28 20:47:52</td>\n",
       "      <td>2021-06-01 20:51:56</td>\n",
       "      <td>516</td>\n",
       "      <td>5</td>\n",
       "      <td>4.002824</td>\n",
       "    </tr>\n",
       "    <tr>\n",
       "      <th>8253</th>\n",
       "      <td>11197</td>\n",
       "      <td>2021-11-30 02:39:44.718937</td>\n",
       "      <td>301</td>\n",
       "      <td>1222</td>\n",
       "      <td>RETURN_PRODUCT</td>\n",
       "      <td>NaN</td>\n",
       "      <td>26735.0</td>\n",
       "      <td>2021-02-15 11:17:59</td>\n",
       "      <td>2021-02-18 11:22:36</td>\n",
       "      <td>360</td>\n",
       "      <td>2</td>\n",
       "      <td>3.003206</td>\n",
       "    </tr>\n",
       "  </tbody>\n",
       "</table>\n",
       "<p>1519 rows × 12 columns</p>\n",
       "</div>"
      ],
      "text/plain": [
       "      session_id                  timestamp  user_id  product_id  \\\n",
       "4            130 2021-11-30 00:18:00.498405      102        1293   \n",
       "10           138 2021-11-29 21:45:53.206183      102        1080   \n",
       "15           147 2021-11-29 21:07:31.607449      102        1233   \n",
       "17           149 2021-12-10 04:44:16.907348      102        1276   \n",
       "20           153 2021-11-29 23:13:03.648052      102        1001   \n",
       "...          ...                        ...      ...         ...   \n",
       "8230       11165 2021-11-28 17:39:02.242481      301        1035   \n",
       "8235       11172 2021-11-28 22:09:40.715446      301        1201   \n",
       "8239       11177 2021-12-03 21:33:44.872208      301        1285   \n",
       "8249       11192 2021-12-06 20:20:11.741370      301        1084   \n",
       "8253       11197 2021-11-30 02:39:44.718937      301        1222   \n",
       "\n",
       "          event_type  offered_discount  purchase_id  purchase_timestamp  \\\n",
       "4     RETURN_PRODUCT               NaN      20004.0 2021-05-21 13:23:18   \n",
       "10    RETURN_PRODUCT               NaN      20009.0 2021-07-06 15:01:06   \n",
       "15    RETURN_PRODUCT               NaN      20013.0 2021-04-04 20:18:06   \n",
       "17    RETURN_PRODUCT               NaN      20014.0 2021-07-15 02:43:54   \n",
       "20    RETURN_PRODUCT               NaN      20016.0 2021-07-11 13:04:41   \n",
       "...              ...               ...          ...                 ...   \n",
       "8230  RETURN_PRODUCT               NaN      26716.0 2021-05-24 10:22:37   \n",
       "8235  RETURN_PRODUCT               NaN      26720.0 2021-03-10 21:00:04   \n",
       "8239  RETURN_PRODUCT               NaN      26723.0 2021-04-20 12:06:28   \n",
       "8249  RETURN_PRODUCT               NaN      26732.0 2021-05-28 20:47:52   \n",
       "8253  RETURN_PRODUCT               NaN      26735.0 2021-02-15 11:17:59   \n",
       "\n",
       "      delivery_timestamp  delivery_company month  deliver_time  \n",
       "4    2021-05-25 13:27:01               360     5      4.002581  \n",
       "10   2021-07-10 15:04:23               360     7      4.002280  \n",
       "15   2021-04-08 20:21:03               516     4      4.002049  \n",
       "17   2021-07-20 02:46:07               516     7      5.001539  \n",
       "20   2021-07-16 13:08:14               360     7      5.002465  \n",
       "...                  ...               ...   ...           ...  \n",
       "8230 2021-05-28 10:26:34               620     5      4.002743  \n",
       "8235 2021-03-12 21:00:10               620     3      2.000069  \n",
       "8239 2021-04-23 12:10:51               516     4      3.003044  \n",
       "8249 2021-06-01 20:51:56               516     5      4.002824  \n",
       "8253 2021-02-18 11:22:36               360     2      3.003206  \n",
       "\n",
       "[1519 rows x 12 columns]"
      ]
     },
     "execution_count": 48,
     "metadata": {},
     "output_type": "execute_result"
    }
   ],
   "source": [
    "deliv_sess_df =  pd.merge(sessions_df, deliveries_df, how='inner', on = 'purchase_id')\n",
    "deliv_sess_df[deliv_sess_df.event_type == \"RETURN_PRODUCT\"]"
   ]
  },
  {
   "cell_type": "markdown",
   "id": "9cc78f25",
   "metadata": {},
   "source": [
    "### Wpływ firmy kurierskiej na zwrot zamówień"
   ]
  },
  {
   "cell_type": "code",
   "execution_count": 107,
   "id": "a6c183c5",
   "metadata": {
    "scrolled": true
   },
   "outputs": [
    {
     "data": {
      "text/plain": [
       "620    2298\n",
       "360    2245\n",
       "516    2192\n",
       "Name: delivery_company, dtype: int64"
      ]
     },
     "execution_count": 107,
     "metadata": {},
     "output_type": "execute_result"
    }
   ],
   "source": [
    "deliv_sess_df[deliv_sess_df.event_type == \"BUY_PRODUCT\"].delivery_company.value_counts()"
   ]
  },
  {
   "cell_type": "code",
   "execution_count": 50,
   "id": "b563a27a",
   "metadata": {},
   "outputs": [
    {
     "data": {
      "text/plain": [
       "360    531\n",
       "620    504\n",
       "516    484\n",
       "Name: delivery_company, dtype: int64"
      ]
     },
     "execution_count": 50,
     "metadata": {},
     "output_type": "execute_result"
    }
   ],
   "source": [
    "deliv_sess_df[deliv_sess_df.event_type == \"RETURN_PRODUCT\"].delivery_company.value_counts()"
   ]
  },
  {
   "cell_type": "code",
   "execution_count": 51,
   "id": "f9ab6311",
   "metadata": {},
   "outputs": [
    {
     "data": {
      "image/png": "[encoded data removed]",
      "text/plain": [
       "<Figure size 432x288 with 1 Axes>"
      ]
     },
     "metadata": {
      "needs_background": "light"
     },
     "output_type": "display_data"
    }
   ],
   "source": [
    "companies_ret = deliv_sess_df[deliv_sess_df.event_type == \"RETURN_PRODUCT\"].delivery_company.value_counts()\n",
    "plot_bar(companies_ret, xlabel=\"nr miesiąca\", title=\"liczba zwrotów w zależności od firmy kurierskiej\")"
   ]
  },
  {
   "cell_type": "markdown",
   "id": "87755d3e",
   "metadata": {},
   "source": [
    "Warto tu zauważyć fakt, że firma kurierska o id 360 brała udział w mniejszej liczbie dostarczanych zamówień niz firma 620, a mimo to firma 360 uczestniczyła w największej liczbie zwrotów (jednak ta różnica nie jest aż tak znacząca)"
   ]
  },
  {
   "cell_type": "markdown",
   "id": "aa6d8a3e",
   "metadata": {},
   "source": [
    "### Wyznaczenie histogramu czasu dostawy zamówień zwróconych "
   ]
  },
  {
   "cell_type": "code",
   "execution_count": 110,
   "id": "1fbe9096",
   "metadata": {},
   "outputs": [
    {
     "data": {
      "image/png": "[encoded data removed]",
      "text/plain": [
       "<Figure size 432x288 with 1 Axes>"
      ]
     },
     "metadata": {
      "needs_background": "light"
     },
     "output_type": "display_data"
    }
   ],
   "source": [
    "bins = np.arange(1,8)\n",
    "a_df = deliv_sess_df[deliv_sess_df.event_type == \"BUY_PRODUCT\"]\n",
    "plt.hist(a_df[\"deliver_time\"], bins=bins, edgecolor='black')\n",
    "plt.title(\"liczba zamówień w zależności od czasu dostawy\")\n",
    "plt.show()"
   ]
  },
  {
   "cell_type": "code",
   "execution_count": 109,
   "id": "1ec19a23",
   "metadata": {},
   "outputs": [
    {
     "data": {
      "image/png": "[encoded data removed]",
      "text/plain": [
       "<Figure size 432x288 with 1 Axes>"
      ]
     },
     "metadata": {
      "needs_background": "light"
     },
     "output_type": "display_data"
    }
   ],
   "source": [
    "bins = np.arange(1,8)\n",
    "a_df = deliv_sess_df[deliv_sess_df.event_type == \"RETURN_PRODUCT\"]\n",
    "plt.hist(a_df[\"deliver_time\"], bins=bins, edgecolor='black')\n",
    "plt.title(\"liczba zwróconych zamówień w zależności od czasu dostawy\")\n",
    "plt.show()"
   ]
  },
  {
   "cell_type": "markdown",
   "id": "9e48a735",
   "metadata": {},
   "source": [
    "Histogram z zwrotami różni się od histogramu z złożonymi zamówieniami - różnica w liczności przedziału [4, 5] z licznościami innych zakresów jest widoczniejsza"
   ]
  },
  {
   "cell_type": "markdown",
   "id": "1e1917f8",
   "metadata": {},
   "source": [
    "### Wpływ miesiąca na zwrot zamówienia"
   ]
  },
  {
   "cell_type": "code",
   "execution_count": 54,
   "id": "de81a47a",
   "metadata": {},
   "outputs": [
    {
     "data": {
      "image/png": "[encoded data removed]",
      "text/plain": [
       "<Figure size 432x288 with 1 Axes>"
      ]
     },
     "metadata": {
      "needs_background": "light"
     },
     "output_type": "display_data"
    }
   ],
   "source": [
    "months_ret = deliv_sess_df[deliv_sess_df.event_type == \"BUY_PRODUCT\"].month.value_counts()\n",
    "plot_bar(months_ret, xlabel=\"nr miesiąca\", title=\"liczba dokonanych zakupów w zależności od miesięcy\")"
   ]
  },
  {
   "cell_type": "code",
   "execution_count": 56,
   "id": "c212ceac",
   "metadata": {},
   "outputs": [
    {
     "data": {
      "image/png": "[encoded data removed]",
      "text/plain": [
       "<Figure size 432x288 with 1 Axes>"
      ]
     },
     "metadata": {
      "needs_background": "light"
     },
     "output_type": "display_data"
    }
   ],
   "source": [
    "months_ret = deliv_sess_df[deliv_sess_df.event_type == \"RETURN_PRODUCT\"].month.value_counts()\n",
    "plot_bar(months_ret, xlabel=\"nr miesiąca\", title=\"liczba zwrotów w zależności od miesięcy\")"
   ]
  },
  {
   "cell_type": "markdown",
   "id": "cf2e39dc",
   "metadata": {},
   "source": [
    "Z powyższych wykresów wynika, że chociaż w listopadzie, lutym i sierpniu dokonano mniej zakupów niż w pozostałych miesiącach, to i tak w nich miało miejsce najwięcej zwrotów. Ponadto liczba zwrotów w listopadzie jest znacząco większa niż w pozostałych miesiącach"
   ]
  },
  {
   "cell_type": "markdown",
   "id": "9e45d4aa",
   "metadata": {},
   "source": [
    "## Dodanie tabeli produktów do tabel z dostawami i sesjami"
   ]
  },
  {
   "cell_type": "code",
   "execution_count": 57,
   "id": "6127c20c",
   "metadata": {
    "scrolled": true
   },
   "outputs": [
    {
     "data": {
      "text/html": [
       "<div>\n",
       "<style scoped>\n",
       "    .dataframe tbody tr th:only-of-type {\n",
       "        vertical-align: middle;\n",
       "    }\n",
       "\n",
       "    .dataframe tbody tr th {\n",
       "        vertical-align: top;\n",
       "    }\n",
       "\n",
       "    .dataframe thead th {\n",
       "        text-align: right;\n",
       "    }\n",
       "</style>\n",
       "<table border=\"1\" class=\"dataframe\">\n",
       "  <thead>\n",
       "    <tr style=\"text-align: right;\">\n",
       "      <th></th>\n",
       "      <th>session_id</th>\n",
       "      <th>timestamp</th>\n",
       "      <th>user_id</th>\n",
       "      <th>product_id</th>\n",
       "      <th>event_type</th>\n",
       "      <th>offered_discount</th>\n",
       "      <th>purchase_id</th>\n",
       "      <th>purchase_timestamp</th>\n",
       "      <th>delivery_timestamp</th>\n",
       "      <th>delivery_company</th>\n",
       "      <th>month</th>\n",
       "      <th>deliver_time</th>\n",
       "      <th>product_name</th>\n",
       "      <th>category_path</th>\n",
       "      <th>price</th>\n",
       "    </tr>\n",
       "  </thead>\n",
       "  <tbody>\n",
       "    <tr>\n",
       "      <th>0</th>\n",
       "      <td>125</td>\n",
       "      <td>2021-05-17 02:58:18.000000</td>\n",
       "      <td>102</td>\n",
       "      <td>1234</td>\n",
       "      <td>BUY_PRODUCT</td>\n",
       "      <td>5.0</td>\n",
       "      <td>20001.0</td>\n",
       "      <td>2021-05-17 02:58:18</td>\n",
       "      <td>2021-05-20 03:00:00</td>\n",
       "      <td>620</td>\n",
       "      <td>5</td>\n",
       "      <td>3.001181</td>\n",
       "      <td>Sony DVP-SR760</td>\n",
       "      <td>Sprzęt RTV;Video;Odtwarzacze DVD</td>\n",
       "      <td>193.0</td>\n",
       "    </tr>\n",
       "    <tr>\n",
       "      <th>1</th>\n",
       "      <td>159</td>\n",
       "      <td>2021-03-08 06:56:06.000000</td>\n",
       "      <td>102</td>\n",
       "      <td>1234</td>\n",
       "      <td>BUY_PRODUCT</td>\n",
       "      <td>5.0</td>\n",
       "      <td>20021.0</td>\n",
       "      <td>2021-03-08 06:56:06</td>\n",
       "      <td>2021-03-13 06:59:14</td>\n",
       "      <td>516</td>\n",
       "      <td>3</td>\n",
       "      <td>5.002176</td>\n",
       "      <td>Sony DVP-SR760</td>\n",
       "      <td>Sprzęt RTV;Video;Odtwarzacze DVD</td>\n",
       "      <td>193.0</td>\n",
       "    </tr>\n",
       "    <tr>\n",
       "      <th>2</th>\n",
       "      <td>180</td>\n",
       "      <td>2021-02-09 04:10:53.000000</td>\n",
       "      <td>102</td>\n",
       "      <td>1234</td>\n",
       "      <td>BUY_PRODUCT</td>\n",
       "      <td>20.0</td>\n",
       "      <td>20035.0</td>\n",
       "      <td>2021-02-09 04:10:53</td>\n",
       "      <td>2021-02-12 04:15:18</td>\n",
       "      <td>620</td>\n",
       "      <td>2</td>\n",
       "      <td>3.003067</td>\n",
       "      <td>Sony DVP-SR760</td>\n",
       "      <td>Sprzęt RTV;Video;Odtwarzacze DVD</td>\n",
       "      <td>193.0</td>\n",
       "    </tr>\n",
       "    <tr>\n",
       "      <th>3</th>\n",
       "      <td>181</td>\n",
       "      <td>2021-02-16 11:29:47.186189</td>\n",
       "      <td>102</td>\n",
       "      <td>1234</td>\n",
       "      <td>RETURN_PRODUCT</td>\n",
       "      <td>NaN</td>\n",
       "      <td>20035.0</td>\n",
       "      <td>2021-02-09 04:10:53</td>\n",
       "      <td>2021-02-12 04:15:18</td>\n",
       "      <td>620</td>\n",
       "      <td>2</td>\n",
       "      <td>3.003067</td>\n",
       "      <td>Sony DVP-SR760</td>\n",
       "      <td>Sprzęt RTV;Video;Odtwarzacze DVD</td>\n",
       "      <td>193.0</td>\n",
       "    </tr>\n",
       "    <tr>\n",
       "      <th>4</th>\n",
       "      <td>273</td>\n",
       "      <td>2021-01-24 07:06:30.000000</td>\n",
       "      <td>104</td>\n",
       "      <td>1234</td>\n",
       "      <td>BUY_PRODUCT</td>\n",
       "      <td>10.0</td>\n",
       "      <td>20098.0</td>\n",
       "      <td>2021-01-24 07:06:30</td>\n",
       "      <td>2021-01-27 07:08:09</td>\n",
       "      <td>360</td>\n",
       "      <td>1</td>\n",
       "      <td>3.001146</td>\n",
       "      <td>Sony DVP-SR760</td>\n",
       "      <td>Sprzęt RTV;Video;Odtwarzacze DVD</td>\n",
       "      <td>193.0</td>\n",
       "    </tr>\n",
       "    <tr>\n",
       "      <th>...</th>\n",
       "      <td>...</td>\n",
       "      <td>...</td>\n",
       "      <td>...</td>\n",
       "      <td>...</td>\n",
       "      <td>...</td>\n",
       "      <td>...</td>\n",
       "      <td>...</td>\n",
       "      <td>...</td>\n",
       "      <td>...</td>\n",
       "      <td>...</td>\n",
       "      <td>...</td>\n",
       "      <td>...</td>\n",
       "      <td>...</td>\n",
       "      <td>...</td>\n",
       "      <td>...</td>\n",
       "    </tr>\n",
       "    <tr>\n",
       "      <th>8249</th>\n",
       "      <td>10801</td>\n",
       "      <td>2021-06-14 02:02:35.000000</td>\n",
       "      <td>294</td>\n",
       "      <td>1289</td>\n",
       "      <td>BUY_PRODUCT</td>\n",
       "      <td>0.0</td>\n",
       "      <td>26489.0</td>\n",
       "      <td>2021-06-14 02:02:35</td>\n",
       "      <td>2021-06-16 02:06:18</td>\n",
       "      <td>360</td>\n",
       "      <td>6</td>\n",
       "      <td>2.002581</td>\n",
       "      <td>Philips SDV5225</td>\n",
       "      <td>Sprzęt RTV;Video;Telewizory i akcesoria;Anteny...</td>\n",
       "      <td>129.0</td>\n",
       "    </tr>\n",
       "    <tr>\n",
       "      <th>8250</th>\n",
       "      <td>10802</td>\n",
       "      <td>2021-11-29 18:18:33.950183</td>\n",
       "      <td>294</td>\n",
       "      <td>1289</td>\n",
       "      <td>RETURN_PRODUCT</td>\n",
       "      <td>NaN</td>\n",
       "      <td>26489.0</td>\n",
       "      <td>2021-06-14 02:02:35</td>\n",
       "      <td>2021-06-16 02:06:18</td>\n",
       "      <td>360</td>\n",
       "      <td>6</td>\n",
       "      <td>2.002581</td>\n",
       "      <td>Philips SDV5225</td>\n",
       "      <td>Sprzęt RTV;Video;Telewizory i akcesoria;Anteny...</td>\n",
       "      <td>129.0</td>\n",
       "    </tr>\n",
       "    <tr>\n",
       "      <th>8251</th>\n",
       "      <td>10995</td>\n",
       "      <td>2021-05-18 10:50:09.000000</td>\n",
       "      <td>297</td>\n",
       "      <td>1289</td>\n",
       "      <td>BUY_PRODUCT</td>\n",
       "      <td>5.0</td>\n",
       "      <td>26606.0</td>\n",
       "      <td>2021-05-18 10:50:09</td>\n",
       "      <td>2021-05-23 10:51:42</td>\n",
       "      <td>360</td>\n",
       "      <td>5</td>\n",
       "      <td>5.001076</td>\n",
       "      <td>Philips SDV5225</td>\n",
       "      <td>Sprzęt RTV;Video;Telewizory i akcesoria;Anteny...</td>\n",
       "      <td>129.0</td>\n",
       "    </tr>\n",
       "    <tr>\n",
       "      <th>8252</th>\n",
       "      <td>10996</td>\n",
       "      <td>2021-12-05 04:59:03.181704</td>\n",
       "      <td>297</td>\n",
       "      <td>1289</td>\n",
       "      <td>RETURN_PRODUCT</td>\n",
       "      <td>NaN</td>\n",
       "      <td>26606.0</td>\n",
       "      <td>2021-05-18 10:50:09</td>\n",
       "      <td>2021-05-23 10:51:42</td>\n",
       "      <td>360</td>\n",
       "      <td>5</td>\n",
       "      <td>5.001076</td>\n",
       "      <td>Philips SDV5225</td>\n",
       "      <td>Sprzęt RTV;Video;Telewizory i akcesoria;Anteny...</td>\n",
       "      <td>129.0</td>\n",
       "    </tr>\n",
       "    <tr>\n",
       "      <th>8253</th>\n",
       "      <td>11004</td>\n",
       "      <td>2021-04-30 12:07:26.000000</td>\n",
       "      <td>297</td>\n",
       "      <td>1289</td>\n",
       "      <td>BUY_PRODUCT</td>\n",
       "      <td>5.0</td>\n",
       "      <td>26611.0</td>\n",
       "      <td>2021-04-30 12:07:26</td>\n",
       "      <td>2021-05-05 12:09:08</td>\n",
       "      <td>620</td>\n",
       "      <td>4</td>\n",
       "      <td>5.001181</td>\n",
       "      <td>Philips SDV5225</td>\n",
       "      <td>Sprzęt RTV;Video;Telewizory i akcesoria;Anteny...</td>\n",
       "      <td>129.0</td>\n",
       "    </tr>\n",
       "  </tbody>\n",
       "</table>\n",
       "<p>8254 rows × 15 columns</p>\n",
       "</div>"
      ],
      "text/plain": [
       "      session_id                  timestamp  user_id  product_id  \\\n",
       "0            125 2021-05-17 02:58:18.000000      102        1234   \n",
       "1            159 2021-03-08 06:56:06.000000      102        1234   \n",
       "2            180 2021-02-09 04:10:53.000000      102        1234   \n",
       "3            181 2021-02-16 11:29:47.186189      102        1234   \n",
       "4            273 2021-01-24 07:06:30.000000      104        1234   \n",
       "...          ...                        ...      ...         ...   \n",
       "8249       10801 2021-06-14 02:02:35.000000      294        1289   \n",
       "8250       10802 2021-11-29 18:18:33.950183      294        1289   \n",
       "8251       10995 2021-05-18 10:50:09.000000      297        1289   \n",
       "8252       10996 2021-12-05 04:59:03.181704      297        1289   \n",
       "8253       11004 2021-04-30 12:07:26.000000      297        1289   \n",
       "\n",
       "          event_type  offered_discount  purchase_id  purchase_timestamp  \\\n",
       "0        BUY_PRODUCT               5.0      20001.0 2021-05-17 02:58:18   \n",
       "1        BUY_PRODUCT               5.0      20021.0 2021-03-08 06:56:06   \n",
       "2        BUY_PRODUCT              20.0      20035.0 2021-02-09 04:10:53   \n",
       "3     RETURN_PRODUCT               NaN      20035.0 2021-02-09 04:10:53   \n",
       "4        BUY_PRODUCT              10.0      20098.0 2021-01-24 07:06:30   \n",
       "...              ...               ...          ...                 ...   \n",
       "8249     BUY_PRODUCT               0.0      26489.0 2021-06-14 02:02:35   \n",
       "8250  RETURN_PRODUCT               NaN      26489.0 2021-06-14 02:02:35   \n",
       "8251     BUY_PRODUCT               5.0      26606.0 2021-05-18 10:50:09   \n",
       "8252  RETURN_PRODUCT               NaN      26606.0 2021-05-18 10:50:09   \n",
       "8253     BUY_PRODUCT               5.0      26611.0 2021-04-30 12:07:26   \n",
       "\n",
       "      delivery_timestamp  delivery_company month  deliver_time  \\\n",
       "0    2021-05-20 03:00:00               620     5      3.001181   \n",
       "1    2021-03-13 06:59:14               516     3      5.002176   \n",
       "2    2021-02-12 04:15:18               620     2      3.003067   \n",
       "3    2021-02-12 04:15:18               620     2      3.003067   \n",
       "4    2021-01-27 07:08:09               360     1      3.001146   \n",
       "...                  ...               ...   ...           ...   \n",
       "8249 2021-06-16 02:06:18               360     6      2.002581   \n",
       "8250 2021-06-16 02:06:18               360     6      2.002581   \n",
       "8251 2021-05-23 10:51:42               360     5      5.001076   \n",
       "8252 2021-05-23 10:51:42               360     5      5.001076   \n",
       "8253 2021-05-05 12:09:08               620     4      5.001181   \n",
       "\n",
       "         product_name                                      category_path  \\\n",
       "0      Sony DVP-SR760                   Sprzęt RTV;Video;Odtwarzacze DVD   \n",
       "1      Sony DVP-SR760                   Sprzęt RTV;Video;Odtwarzacze DVD   \n",
       "2      Sony DVP-SR760                   Sprzęt RTV;Video;Odtwarzacze DVD   \n",
       "3      Sony DVP-SR760                   Sprzęt RTV;Video;Odtwarzacze DVD   \n",
       "4      Sony DVP-SR760                   Sprzęt RTV;Video;Odtwarzacze DVD   \n",
       "...               ...                                                ...   \n",
       "8249  Philips SDV5225  Sprzęt RTV;Video;Telewizory i akcesoria;Anteny...   \n",
       "8250  Philips SDV5225  Sprzęt RTV;Video;Telewizory i akcesoria;Anteny...   \n",
       "8251  Philips SDV5225  Sprzęt RTV;Video;Telewizory i akcesoria;Anteny...   \n",
       "8252  Philips SDV5225  Sprzęt RTV;Video;Telewizory i akcesoria;Anteny...   \n",
       "8253  Philips SDV5225  Sprzęt RTV;Video;Telewizory i akcesoria;Anteny...   \n",
       "\n",
       "      price  \n",
       "0     193.0  \n",
       "1     193.0  \n",
       "2     193.0  \n",
       "3     193.0  \n",
       "4     193.0  \n",
       "...     ...  \n",
       "8249  129.0  \n",
       "8250  129.0  \n",
       "8251  129.0  \n",
       "8252  129.0  \n",
       "8253  129.0  \n",
       "\n",
       "[8254 rows x 15 columns]"
      ]
     },
     "execution_count": 57,
     "metadata": {},
     "output_type": "execute_result"
    }
   ],
   "source": [
    "deliv_sess_prod_df = pd.merge(deliv_sess_df, products_df, how='inner', on = 'product_id')\n",
    "deliv_sess_prod_df"
   ]
  },
  {
   "cell_type": "markdown",
   "id": "59ecacac",
   "metadata": {},
   "source": [
    "### Wpływ kategorii na liczbę zwrotów"
   ]
  },
  {
   "cell_type": "code",
   "execution_count": 120,
   "id": "ebac97a9",
   "metadata": {},
   "outputs": [
    {
     "data": {
      "text/plain": [
       "Telefony i akcesoria;Telefony komórkowe                              491\n",
       "Gry i konsole;Gry na konsole;Gry PlayStation3                        473\n",
       "Telefony i akcesoria;Telefony stacjonarne                            467\n",
       "Sprzęt RTV;Video;Telewizory i akcesoria;Anteny RTV                   466\n",
       "Gry i konsole;Gry komputerowe                                        461\n",
       "Sprzęt RTV;Przenośne audio i video;Odtwarzacze mp3 i mp4             459\n",
       "Telefony i akcesoria;Akcesoria telefoniczne;Zestawy słuchawkowe      453\n",
       "Sprzęt RTV;Audio;Słuchawki                                           451\n",
       "Komputery;Monitory;Monitory LCD                                      445\n",
       "Komputery;Drukarki i skanery;Biurowe urządzenia wielofunkcyjne       442\n",
       "Sprzęt RTV;Video;Telewizory i akcesoria;Okulary 3D                   438\n",
       "Sprzęt RTV;Video;Odtwarzacze DVD                                     436\n",
       "Komputery;Tablety i akcesoria;Tablety                                430\n",
       "Gry i konsole;Gry na konsole;Gry Xbox 360                            414\n",
       "Telefony i akcesoria;Akcesoria telefoniczne;Zestawy głośnomówiące    409\n",
       "Name: category_path, dtype: int64"
      ]
     },
     "execution_count": 120,
     "metadata": {},
     "output_type": "execute_result"
    }
   ],
   "source": [
    "deliv_sess_prod_df[deliv_sess_prod_df.event_type == \"BUY_PRODUCT\"].category_path.value_counts()"
   ]
  },
  {
   "cell_type": "code",
   "execution_count": 119,
   "id": "5f917815",
   "metadata": {},
   "outputs": [
    {
     "data": {
      "image/png": "[encoded data removed]",
      "text/plain": [
       "<Figure size 432x288 with 1 Axes>"
      ]
     },
     "metadata": {
      "needs_background": "light"
     },
     "output_type": "display_data"
    }
   ],
   "source": [
    "categories = deliv_sess_prod_df[deliv_sess_prod_df.event_type == \"BUY_PRODUCT\"].category_path.value_counts()\n",
    "plot_bar(categories, rotation=90, \n",
    "         title=\"Zależność między liczbą zamówień a kategorią produktu\")"
   ]
  },
  {
   "cell_type": "code",
   "execution_count": 65,
   "id": "9b9a7094",
   "metadata": {},
   "outputs": [
    {
     "data": {
      "text/plain": [
       "Sprzęt RTV;Video;Telewizory i akcesoria;Anteny RTV                   115\n",
       "Sprzęt RTV;Video;Odtwarzacze DVD                                     111\n",
       "Sprzęt RTV;Przenośne audio i video;Odtwarzacze mp3 i mp4             109\n",
       "Telefony i akcesoria;Telefony komórkowe                              107\n",
       "Gry i konsole;Gry na konsole;Gry PlayStation3                        107\n",
       "Komputery;Tablety i akcesoria;Tablety                                106\n",
       "Gry i konsole;Gry na konsole;Gry Xbox 360                            105\n",
       "Sprzęt RTV;Audio;Słuchawki                                           104\n",
       "Gry i konsole;Gry komputerowe                                        102\n",
       "Telefony i akcesoria;Telefony stacjonarne                            100\n",
       "Telefony i akcesoria;Akcesoria telefoniczne;Zestawy głośnomówiące     94\n",
       "Komputery;Drukarki i skanery;Biurowe urządzenia wielofunkcyjne        91\n",
       "Telefony i akcesoria;Akcesoria telefoniczne;Zestawy słuchawkowe       91\n",
       "Sprzęt RTV;Video;Telewizory i akcesoria;Okulary 3D                    90\n",
       "Komputery;Monitory;Monitory LCD                                       87\n",
       "Name: category_path, dtype: int64"
      ]
     },
     "execution_count": 65,
     "metadata": {},
     "output_type": "execute_result"
    }
   ],
   "source": [
    "deliv_sess_prod_df[deliv_sess_prod_df.event_type == \"RETURN_PRODUCT\"].category_path.value_counts()"
   ]
  },
  {
   "cell_type": "code",
   "execution_count": 111,
   "id": "e5d8ff75",
   "metadata": {
    "scrolled": false
   },
   "outputs": [
    {
     "data": {
      "image/png": "[encoded data removed]",
      "text/plain": [
       "<Figure size 432x288 with 1 Axes>"
      ]
     },
     "metadata": {
      "needs_background": "light"
     },
     "output_type": "display_data"
    }
   ],
   "source": [
    "categories_ret = deliv_sess_prod_df[deliv_sess_prod_df.event_type == \"RETURN_PRODUCT\"].category_path.value_counts()\n",
    "plot_bar(categories_ret, rotation=90, title=\"liczba zwrotów w zależności od kategorii\")"
   ]
  },
  {
   "cell_type": "markdown",
   "id": "d8e6835b",
   "metadata": {},
   "source": [
    "Powyższe wykresy są podobne do siebie, lecz poszczególne kategorie są zamienione kolejnością. Stąd wynika, że kategoria produktu może mieć wpływ na zwroty zamówień, ale mniejszy niż miesiąc składania zamówienia"
   ]
  },
  {
   "cell_type": "code",
   "execution_count": 112,
   "id": "11253e51",
   "metadata": {},
   "outputs": [
    {
     "data": {
      "image/png": "[encoded data removed]",
      "text/plain": [
       "<Figure size 1440x1440 with 1 Axes>"
      ]
     },
     "metadata": {
      "needs_background": "light"
     },
     "output_type": "display_data"
    }
   ],
   "source": [
    "prod_name = deliv_sess_prod_df[deliv_sess_prod_df.event_type == \"BUY_PRODUCT\"].product_name.value_counts()\n",
    "plot_bar(prod_name, rotation=90, figsize=(20,20), title=\"liczba zamówionych poszczególnych produktów\")"
   ]
  },
  {
   "cell_type": "code",
   "execution_count": 113,
   "id": "bee22ae9",
   "metadata": {},
   "outputs": [
    {
     "data": {
      "image/png": "[encoded data removed]",
      "text/plain": [
       "<Figure size 1440x1440 with 1 Axes>"
      ]
     },
     "metadata": {
      "needs_background": "light"
     },
     "output_type": "display_data"
    }
   ],
   "source": [
    "prod_name_ret = deliv_sess_prod_df[deliv_sess_prod_df.event_type == \"RETURN_PRODUCT\"].product_name.value_counts()\n",
    "plot_bar(prod_name_ret, rotation=90, figsize=(20, 20), title=\"liczba zwrotów poszczególnych produktów\")"
   ]
  },
  {
   "cell_type": "markdown",
   "id": "0bf5fac5",
   "metadata": {},
   "source": [
    "Powyższe wykresy są podobne do siebie, lecz poszczególne nazwy są zamienione kolejnością. Stąd wynika, że nazwa może mieć wpływ na zwroty zamówień, ale mniejszy niż miesiąc składania zamówienia"
   ]
  },
  {
   "cell_type": "code",
   "execution_count": 117,
   "id": "358c92aa",
   "metadata": {},
   "outputs": [
    {
     "data": {
      "image/png": "[encoded data removed]",
      "text/plain": [
       "<Figure size 720x720 with 1 Axes>"
      ]
     },
     "metadata": {
      "needs_background": "light"
     },
     "output_type": "display_data"
    }
   ],
   "source": [
    "bins = np.arange(0, 400)\n",
    "temp_df = deliv_sess_prod_df[deliv_sess_prod_df.event_type == \"BUY_PRODUCT\"]\n",
    "plt.figure(figsize=(10, 10))\n",
    "plt.hist(temp_df[\"price\"], bins=bins)\n",
    "plt.title(\"liczba zamówień w zależności od ceny\")\n",
    "plt.show()"
   ]
  },
  {
   "cell_type": "code",
   "execution_count": 116,
   "id": "40f784c8",
   "metadata": {},
   "outputs": [
    {
     "data": {
      "image/png": "[encoded data removed]",
      "text/plain": [
       "<Figure size 720x720 with 1 Axes>"
      ]
     },
     "metadata": {
      "needs_background": "light"
     },
     "output_type": "display_data"
    }
   ],
   "source": [
    "bins = np.arange(0, 400)\n",
    "temp_df = deliv_sess_prod_df[deliv_sess_prod_df.event_type == \"RETURN_PRODUCT\"]\n",
    "plt.figure(figsize=(10, 10))\n",
    "plt.hist(temp_df[\"price\"], bins=bins)\n",
    "plt.title(\"liczba zwróconych zamówień w zależności od ceny\")\n",
    "plt.show()"
   ]
  },
  {
   "cell_type": "markdown",
   "id": "6a78ca50",
   "metadata": {},
   "source": [
    "Powyższe histogramy są bardzo podobne do siebie, więc cena raczej nie ma znaczącego wpływu na liczbę zwrotów"
   ]
  },
  {
   "cell_type": "markdown",
   "id": "44b3d526",
   "metadata": {},
   "source": [
    "## Dodanie tabeli użytkowników do tabel z dostawami i sesjami"
   ]
  },
  {
   "cell_type": "code",
   "execution_count": 67,
   "id": "8785a1b6",
   "metadata": {},
   "outputs": [
    {
     "data": {
      "text/html": [
       "<div>\n",
       "<style scoped>\n",
       "    .dataframe tbody tr th:only-of-type {\n",
       "        vertical-align: middle;\n",
       "    }\n",
       "\n",
       "    .dataframe tbody tr th {\n",
       "        vertical-align: top;\n",
       "    }\n",
       "\n",
       "    .dataframe thead th {\n",
       "        text-align: right;\n",
       "    }\n",
       "</style>\n",
       "<table border=\"1\" class=\"dataframe\">\n",
       "  <thead>\n",
       "    <tr style=\"text-align: right;\">\n",
       "      <th></th>\n",
       "      <th>session_id</th>\n",
       "      <th>timestamp</th>\n",
       "      <th>user_id</th>\n",
       "      <th>product_id</th>\n",
       "      <th>event_type</th>\n",
       "      <th>offered_discount</th>\n",
       "      <th>purchase_id</th>\n",
       "      <th>purchase_timestamp</th>\n",
       "      <th>delivery_timestamp</th>\n",
       "      <th>delivery_company</th>\n",
       "      <th>month</th>\n",
       "      <th>deliver_time</th>\n",
       "      <th>name</th>\n",
       "      <th>city</th>\n",
       "      <th>street</th>\n",
       "    </tr>\n",
       "  </thead>\n",
       "  <tbody>\n",
       "    <tr>\n",
       "      <th>0</th>\n",
       "      <td>125</td>\n",
       "      <td>2021-05-17 02:58:18.000000</td>\n",
       "      <td>102</td>\n",
       "      <td>1234</td>\n",
       "      <td>BUY_PRODUCT</td>\n",
       "      <td>5.0</td>\n",
       "      <td>20001.0</td>\n",
       "      <td>2021-05-17 02:58:18</td>\n",
       "      <td>2021-05-20 03:00:00</td>\n",
       "      <td>620</td>\n",
       "      <td>5</td>\n",
       "      <td>3.001181</td>\n",
       "      <td>Klara Sałuda</td>\n",
       "      <td>Szczecin</td>\n",
       "      <td>ulica Dębowa 64/65</td>\n",
       "    </tr>\n",
       "    <tr>\n",
       "      <th>1</th>\n",
       "      <td>127</td>\n",
       "      <td>2021-05-22 10:25:01.000000</td>\n",
       "      <td>102</td>\n",
       "      <td>1001</td>\n",
       "      <td>BUY_PRODUCT</td>\n",
       "      <td>0.0</td>\n",
       "      <td>20002.0</td>\n",
       "      <td>2021-05-22 10:25:01</td>\n",
       "      <td>2021-05-24 10:26:28</td>\n",
       "      <td>360</td>\n",
       "      <td>5</td>\n",
       "      <td>2.001007</td>\n",
       "      <td>Klara Sałuda</td>\n",
       "      <td>Szczecin</td>\n",
       "      <td>ulica Dębowa 64/65</td>\n",
       "    </tr>\n",
       "    <tr>\n",
       "      <th>2</th>\n",
       "      <td>128</td>\n",
       "      <td>2021-01-08 23:15:05.000000</td>\n",
       "      <td>102</td>\n",
       "      <td>1319</td>\n",
       "      <td>BUY_PRODUCT</td>\n",
       "      <td>15.0</td>\n",
       "      <td>20003.0</td>\n",
       "      <td>2021-01-08 23:15:05</td>\n",
       "      <td>2021-01-10 23:17:28</td>\n",
       "      <td>516</td>\n",
       "      <td>1</td>\n",
       "      <td>2.001655</td>\n",
       "      <td>Klara Sałuda</td>\n",
       "      <td>Szczecin</td>\n",
       "      <td>ulica Dębowa 64/65</td>\n",
       "    </tr>\n",
       "    <tr>\n",
       "      <th>3</th>\n",
       "      <td>129</td>\n",
       "      <td>2021-05-21 13:23:18.000000</td>\n",
       "      <td>102</td>\n",
       "      <td>1293</td>\n",
       "      <td>BUY_PRODUCT</td>\n",
       "      <td>0.0</td>\n",
       "      <td>20004.0</td>\n",
       "      <td>2021-05-21 13:23:18</td>\n",
       "      <td>2021-05-25 13:27:01</td>\n",
       "      <td>360</td>\n",
       "      <td>5</td>\n",
       "      <td>4.002581</td>\n",
       "      <td>Klara Sałuda</td>\n",
       "      <td>Szczecin</td>\n",
       "      <td>ulica Dębowa 64/65</td>\n",
       "    </tr>\n",
       "    <tr>\n",
       "      <th>4</th>\n",
       "      <td>130</td>\n",
       "      <td>2021-11-30 00:18:00.498405</td>\n",
       "      <td>102</td>\n",
       "      <td>1293</td>\n",
       "      <td>RETURN_PRODUCT</td>\n",
       "      <td>NaN</td>\n",
       "      <td>20004.0</td>\n",
       "      <td>2021-05-21 13:23:18</td>\n",
       "      <td>2021-05-25 13:27:01</td>\n",
       "      <td>360</td>\n",
       "      <td>5</td>\n",
       "      <td>4.002581</td>\n",
       "      <td>Klara Sałuda</td>\n",
       "      <td>Szczecin</td>\n",
       "      <td>ulica Dębowa 64/65</td>\n",
       "    </tr>\n",
       "    <tr>\n",
       "      <th>...</th>\n",
       "      <td>...</td>\n",
       "      <td>...</td>\n",
       "      <td>...</td>\n",
       "      <td>...</td>\n",
       "      <td>...</td>\n",
       "      <td>...</td>\n",
       "      <td>...</td>\n",
       "      <td>...</td>\n",
       "      <td>...</td>\n",
       "      <td>...</td>\n",
       "      <td>...</td>\n",
       "      <td>...</td>\n",
       "      <td>...</td>\n",
       "      <td>...</td>\n",
       "      <td>...</td>\n",
       "    </tr>\n",
       "    <tr>\n",
       "      <th>8249</th>\n",
       "      <td>11192</td>\n",
       "      <td>2021-12-06 20:20:11.741370</td>\n",
       "      <td>301</td>\n",
       "      <td>1084</td>\n",
       "      <td>RETURN_PRODUCT</td>\n",
       "      <td>NaN</td>\n",
       "      <td>26732.0</td>\n",
       "      <td>2021-05-28 20:47:52</td>\n",
       "      <td>2021-06-01 20:51:56</td>\n",
       "      <td>516</td>\n",
       "      <td>5</td>\n",
       "      <td>4.002824</td>\n",
       "      <td>Olga Matus</td>\n",
       "      <td>Kraków</td>\n",
       "      <td>al. Sucharskiego 46</td>\n",
       "    </tr>\n",
       "    <tr>\n",
       "      <th>8250</th>\n",
       "      <td>11193</td>\n",
       "      <td>2021-10-28 17:16:20.000000</td>\n",
       "      <td>301</td>\n",
       "      <td>1319</td>\n",
       "      <td>BUY_PRODUCT</td>\n",
       "      <td>10.0</td>\n",
       "      <td>26733.0</td>\n",
       "      <td>2021-10-28 17:16:20</td>\n",
       "      <td>2021-11-02 17:20:19</td>\n",
       "      <td>360</td>\n",
       "      <td>10</td>\n",
       "      <td>5.002766</td>\n",
       "      <td>Olga Matus</td>\n",
       "      <td>Kraków</td>\n",
       "      <td>al. Sucharskiego 46</td>\n",
       "    </tr>\n",
       "    <tr>\n",
       "      <th>8251</th>\n",
       "      <td>11194</td>\n",
       "      <td>2021-09-02 07:50:58.000000</td>\n",
       "      <td>301</td>\n",
       "      <td>1075</td>\n",
       "      <td>BUY_PRODUCT</td>\n",
       "      <td>5.0</td>\n",
       "      <td>26734.0</td>\n",
       "      <td>2021-09-02 07:50:58</td>\n",
       "      <td>2021-09-07 07:54:30</td>\n",
       "      <td>360</td>\n",
       "      <td>9</td>\n",
       "      <td>5.002454</td>\n",
       "      <td>Olga Matus</td>\n",
       "      <td>Kraków</td>\n",
       "      <td>al. Sucharskiego 46</td>\n",
       "    </tr>\n",
       "    <tr>\n",
       "      <th>8252</th>\n",
       "      <td>11196</td>\n",
       "      <td>2021-02-15 11:17:59.000000</td>\n",
       "      <td>301</td>\n",
       "      <td>1222</td>\n",
       "      <td>BUY_PRODUCT</td>\n",
       "      <td>20.0</td>\n",
       "      <td>26735.0</td>\n",
       "      <td>2021-02-15 11:17:59</td>\n",
       "      <td>2021-02-18 11:22:36</td>\n",
       "      <td>360</td>\n",
       "      <td>2</td>\n",
       "      <td>3.003206</td>\n",
       "      <td>Olga Matus</td>\n",
       "      <td>Kraków</td>\n",
       "      <td>al. Sucharskiego 46</td>\n",
       "    </tr>\n",
       "    <tr>\n",
       "      <th>8253</th>\n",
       "      <td>11197</td>\n",
       "      <td>2021-11-30 02:39:44.718937</td>\n",
       "      <td>301</td>\n",
       "      <td>1222</td>\n",
       "      <td>RETURN_PRODUCT</td>\n",
       "      <td>NaN</td>\n",
       "      <td>26735.0</td>\n",
       "      <td>2021-02-15 11:17:59</td>\n",
       "      <td>2021-02-18 11:22:36</td>\n",
       "      <td>360</td>\n",
       "      <td>2</td>\n",
       "      <td>3.003206</td>\n",
       "      <td>Olga Matus</td>\n",
       "      <td>Kraków</td>\n",
       "      <td>al. Sucharskiego 46</td>\n",
       "    </tr>\n",
       "  </tbody>\n",
       "</table>\n",
       "<p>8254 rows × 15 columns</p>\n",
       "</div>"
      ],
      "text/plain": [
       "      session_id                  timestamp  user_id  product_id  \\\n",
       "0            125 2021-05-17 02:58:18.000000      102        1234   \n",
       "1            127 2021-05-22 10:25:01.000000      102        1001   \n",
       "2            128 2021-01-08 23:15:05.000000      102        1319   \n",
       "3            129 2021-05-21 13:23:18.000000      102        1293   \n",
       "4            130 2021-11-30 00:18:00.498405      102        1293   \n",
       "...          ...                        ...      ...         ...   \n",
       "8249       11192 2021-12-06 20:20:11.741370      301        1084   \n",
       "8250       11193 2021-10-28 17:16:20.000000      301        1319   \n",
       "8251       11194 2021-09-02 07:50:58.000000      301        1075   \n",
       "8252       11196 2021-02-15 11:17:59.000000      301        1222   \n",
       "8253       11197 2021-11-30 02:39:44.718937      301        1222   \n",
       "\n",
       "          event_type  offered_discount  purchase_id  purchase_timestamp  \\\n",
       "0        BUY_PRODUCT               5.0      20001.0 2021-05-17 02:58:18   \n",
       "1        BUY_PRODUCT               0.0      20002.0 2021-05-22 10:25:01   \n",
       "2        BUY_PRODUCT              15.0      20003.0 2021-01-08 23:15:05   \n",
       "3        BUY_PRODUCT               0.0      20004.0 2021-05-21 13:23:18   \n",
       "4     RETURN_PRODUCT               NaN      20004.0 2021-05-21 13:23:18   \n",
       "...              ...               ...          ...                 ...   \n",
       "8249  RETURN_PRODUCT               NaN      26732.0 2021-05-28 20:47:52   \n",
       "8250     BUY_PRODUCT              10.0      26733.0 2021-10-28 17:16:20   \n",
       "8251     BUY_PRODUCT               5.0      26734.0 2021-09-02 07:50:58   \n",
       "8252     BUY_PRODUCT              20.0      26735.0 2021-02-15 11:17:59   \n",
       "8253  RETURN_PRODUCT               NaN      26735.0 2021-02-15 11:17:59   \n",
       "\n",
       "      delivery_timestamp  delivery_company month  deliver_time          name  \\\n",
       "0    2021-05-20 03:00:00               620     5      3.001181  Klara Sałuda   \n",
       "1    2021-05-24 10:26:28               360     5      2.001007  Klara Sałuda   \n",
       "2    2021-01-10 23:17:28               516     1      2.001655  Klara Sałuda   \n",
       "3    2021-05-25 13:27:01               360     5      4.002581  Klara Sałuda   \n",
       "4    2021-05-25 13:27:01               360     5      4.002581  Klara Sałuda   \n",
       "...                  ...               ...   ...           ...           ...   \n",
       "8249 2021-06-01 20:51:56               516     5      4.002824    Olga Matus   \n",
       "8250 2021-11-02 17:20:19               360    10      5.002766    Olga Matus   \n",
       "8251 2021-09-07 07:54:30               360     9      5.002454    Olga Matus   \n",
       "8252 2021-02-18 11:22:36               360     2      3.003206    Olga Matus   \n",
       "8253 2021-02-18 11:22:36               360     2      3.003206    Olga Matus   \n",
       "\n",
       "          city               street  \n",
       "0     Szczecin   ulica Dębowa 64/65  \n",
       "1     Szczecin   ulica Dębowa 64/65  \n",
       "2     Szczecin   ulica Dębowa 64/65  \n",
       "3     Szczecin   ulica Dębowa 64/65  \n",
       "4     Szczecin   ulica Dębowa 64/65  \n",
       "...        ...                  ...  \n",
       "8249    Kraków  al. Sucharskiego 46  \n",
       "8250    Kraków  al. Sucharskiego 46  \n",
       "8251    Kraków  al. Sucharskiego 46  \n",
       "8252    Kraków  al. Sucharskiego 46  \n",
       "8253    Kraków  al. Sucharskiego 46  \n",
       "\n",
       "[8254 rows x 15 columns]"
      ]
     },
     "execution_count": 67,
     "metadata": {},
     "output_type": "execute_result"
    }
   ],
   "source": [
    "deliv_sess_user_df = pd.merge(deliv_sess_df, users_df, how='inner', on = 'user_id')\n",
    "deliv_sess_user_df"
   ]
  },
  {
   "cell_type": "markdown",
   "id": "da62bf16",
   "metadata": {},
   "source": [
    "### Wpływ atrybutu miasto na liczbę zwrotu"
   ]
  },
  {
   "cell_type": "code",
   "execution_count": 68,
   "id": "99bfd2d2",
   "metadata": {},
   "outputs": [
    {
     "data": {
      "text/plain": [
       "Poznań      1562\n",
       "Gdynia      1459\n",
       "Warszawa    1307\n",
       "Szczecin    1094\n",
       "Radom       1017\n",
       "Wrocław      944\n",
       "Kraków       871\n",
       "Name: city, dtype: int64"
      ]
     },
     "execution_count": 68,
     "metadata": {},
     "output_type": "execute_result"
    }
   ],
   "source": [
    "deliv_sess_user_df[\"city\"].value_counts()"
   ]
  },
  {
   "cell_type": "code",
   "execution_count": 69,
   "id": "ff58322f",
   "metadata": {},
   "outputs": [
    {
     "data": {
      "image/png": "[encoded data removed]",
      "text/plain": [
       "<Figure size 432x288 with 1 Axes>"
      ]
     },
     "metadata": {
      "needs_background": "light"
     },
     "output_type": "display_data"
    }
   ],
   "source": [
    "cities = deliv_sess_user_df[\"city\"].value_counts()\n",
    "plot_bar(cities, rotation=45)"
   ]
  },
  {
   "cell_type": "code",
   "execution_count": 76,
   "id": "1a2e7c62",
   "metadata": {},
   "outputs": [
    {
     "data": {
      "text/plain": [
       "Gdynia      285\n",
       "Poznań      264\n",
       "Warszawa    229\n",
       "Szczecin    203\n",
       "Wrocław     190\n",
       "Radom       181\n",
       "Kraków      167\n",
       "Name: city, dtype: int64"
      ]
     },
     "execution_count": 76,
     "metadata": {},
     "output_type": "execute_result"
    }
   ],
   "source": [
    "deliv_sess_user_df[deliv_sess_user_df.event_type == \"RETURN_PRODUCT\"].city.value_counts()"
   ]
  },
  {
   "cell_type": "code",
   "execution_count": 80,
   "id": "7cfcecf9",
   "metadata": {},
   "outputs": [
    {
     "data": {
      "image/png": "[encoded data removed]",
      "text/plain": [
       "<Figure size 432x288 with 1 Axes>"
      ]
     },
     "metadata": {
      "needs_background": "light"
     },
     "output_type": "display_data"
    }
   ],
   "source": [
    "cities_ret = deliv_sess_user_df[deliv_sess_user_df.event_type == \"RETURN_PRODUCT\"].city.value_counts()\n",
    "plot_bar(cities_ret, rotation=45)"
   ]
  },
  {
   "cell_type": "markdown",
   "id": "a01909e7",
   "metadata": {},
   "source": [
    "Powyższe wykresy są bardzo podobne do siebie, lecz poszczególne miasta są pozamieniane kolejnością, np. najwięcej zwrotów jest z Gdyni, chociaż to z Poznania dokonano najwięcej zakupów. Stąd wynika, że atrybut miasto może mieć wpływ na liczbę zwrotów, ale mniejszy niż miesiąc dokonywania zamówienia"
   ]
  },
  {
   "cell_type": "markdown",
   "id": "605a65fc",
   "metadata": {},
   "source": [
    "# Podsumowanie"
   ]
  },
  {
   "cell_type": "markdown",
   "id": "d60ff74c",
   "metadata": {},
   "source": [
    "- zbiór danych jest poprawny pod względem logicznym (poza jedną nazwą produktu, ale ten błąd nie jest krytyczny)\n",
    "- w tym zbiorze nie występują braki danych\n",
    "- ten zbiór zawiera małą liczbę zamówień z grudnia (ostatnie zamówienie złożono 10 grudnia)\n",
    "- na zwrot zamówienia wpływ prawdopodobnie mają następujące atrybuty: miesiąc składania zamówienia, miasto, kategoria produktu, nazwa produktu, firma kurierska, czas dostawy"
   ]
  }
 ],
 "metadata": {
  "kernelspec": {
   "display_name": "Python 3 (ipykernel)",
   "language": "python",
   "name": "python3"
  },
  "language_info": {
   "codemirror_mode": {
    "name": "ipython",
    "version": 3
   },
   "file_extension": ".py",
   "mimetype": "text/x-python",
   "name": "python",
   "nbconvert_exporter": "python",
   "pygments_lexer": "ipython3",
   "version": "3.8.1rc1"
  }
 },
 "nbformat": 4,
 "nbformat_minor": 5
}
